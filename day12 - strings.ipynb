{
 "cells": [
  {
   "cell_type": "markdown",
   "id": "8adb46bb",
   "metadata": {},
   "source": [
    "#### String are squence of characters \n",
    "#### In python specifically - String are squence of unicode characters \n",
    "\n",
    "- creating strings\n",
    "- accessing strings\n",
    "- adding chars in string\n",
    "- editing strings\n",
    "- deleting strings\n",
    "- operations on strings\n",
    "- string functions\n"
   ]
  },
  {
   "cell_type": "code",
   "execution_count": 3,
   "id": "1fdb5f9d",
   "metadata": {},
   "outputs": [
    {
     "name": "stdout",
     "output_type": "stream",
     "text": [
      "hello\n"
     ]
    }
   ],
   "source": [
    "#creating strings\n",
    "s = 'hello'\n",
    "print(s)"
   ]
  },
  {
   "cell_type": "code",
   "execution_count": 4,
   "id": "7689d821",
   "metadata": {},
   "outputs": [
    {
     "name": "stdout",
     "output_type": "stream",
     "text": [
      "hello\n"
     ]
    }
   ],
   "source": [
    "s = \"hello\"\n",
    "print(s)"
   ]
  },
  {
   "cell_type": "code",
   "execution_count": 5,
   "id": "01a7f6fe",
   "metadata": {},
   "outputs": [
    {
     "data": {
      "text/plain": [
       "\"it's raining outside\""
      ]
     },
     "execution_count": 5,
     "metadata": {},
     "output_type": "execute_result"
    }
   ],
   "source": [
    "\"it's raining outside\""
   ]
  },
  {
   "cell_type": "code",
   "execution_count": 8,
   "id": "71ccf861",
   "metadata": {},
   "outputs": [
    {
     "name": "stdout",
     "output_type": "stream",
     "text": [
      "hello\n",
      "welcome to \n",
      "python\n"
     ]
    }
   ],
   "source": [
    "c = '''hello\n",
    "welcome to \n",
    "python'''\n",
    "print(c)"
   ]
  },
  {
   "cell_type": "code",
   "execution_count": 10,
   "id": "ab820e11",
   "metadata": {},
   "outputs": [
    {
     "name": "stdout",
     "output_type": "stream",
     "text": [
      "hello\n",
      "welcome to \n",
      "python\n"
     ]
    }
   ],
   "source": [
    "c = \"\"\"hello\n",
    "welcome to \n",
    "python\"\"\"\n",
    "print(c)  # multi line strings"
   ]
  },
  {
   "cell_type": "code",
   "execution_count": 11,
   "id": "a99b49e7",
   "metadata": {},
   "outputs": [
    {
     "data": {
      "text/plain": [
       "'hello'"
      ]
     },
     "execution_count": 11,
     "metadata": {},
     "output_type": "execute_result"
    }
   ],
   "source": [
    "c = str(\"hello\")\n",
    "c"
   ]
  },
  {
   "cell_type": "markdown",
   "id": "d65de85f",
   "metadata": {},
   "source": [
    "#### Accessing substrings from strings"
   ]
  },
  {
   "cell_type": "code",
   "execution_count": 12,
   "id": "f0eb6e58",
   "metadata": {},
   "outputs": [
    {
     "name": "stdout",
     "output_type": "stream",
     "text": [
      "hello chetan\n"
     ]
    }
   ],
   "source": [
    "# concept of indexing\n",
    "\n",
    "c = 'hello chetan'\n",
    "print(c)"
   ]
  },
  {
   "cell_type": "code",
   "execution_count": 13,
   "id": "4d6ca461",
   "metadata": {},
   "outputs": [
    {
     "name": "stdout",
     "output_type": "stream",
     "text": [
      "h\n"
     ]
    }
   ],
   "source": [
    "print(c[0])"
   ]
  },
  {
   "cell_type": "code",
   "execution_count": 14,
   "id": "8a222b7c",
   "metadata": {},
   "outputs": [
    {
     "name": "stdout",
     "output_type": "stream",
     "text": [
      "c\n"
     ]
    }
   ],
   "source": [
    "print(c[6])"
   ]
  },
  {
   "cell_type": "code",
   "execution_count": 15,
   "id": "7783c71c",
   "metadata": {},
   "outputs": [],
   "source": [
    "#type of indexing\n",
    "\n",
    "# positive indexing [always +ve value - left to right shifting]\n",
    "# Negative indexing [-ve value  - right to left shifting]"
   ]
  },
  {
   "cell_type": "code",
   "execution_count": 16,
   "id": "f5154d63",
   "metadata": {},
   "outputs": [
    {
     "name": "stdout",
     "output_type": "stream",
     "text": [
      "[1]\n"
     ]
    }
   ],
   "source": [
    "print([1])"
   ]
  },
  {
   "cell_type": "code",
   "execution_count": 17,
   "id": "107c5fce",
   "metadata": {},
   "outputs": [
    {
     "name": "stdout",
     "output_type": "stream",
     "text": [
      "n\n"
     ]
    }
   ],
   "source": [
    "print(c[-1])"
   ]
  },
  {
   "cell_type": "code",
   "execution_count": 18,
   "id": "a346e837",
   "metadata": {},
   "outputs": [],
   "source": [
    "# concept of slicing "
   ]
  },
  {
   "cell_type": "code",
   "execution_count": 30,
   "id": "120d09c2",
   "metadata": {},
   "outputs": [
    {
     "name": "stdout",
     "output_type": "stream",
     "text": [
      "hello world\n"
     ]
    }
   ],
   "source": [
    "c = 'hello world'\n",
    "print(c)"
   ]
  },
  {
   "cell_type": "code",
   "execution_count": 31,
   "id": "b9ab5c12",
   "metadata": {},
   "outputs": [
    {
     "name": "stdout",
     "output_type": "stream",
     "text": [
      "hello\n"
     ]
    }
   ],
   "source": [
    "print(c[0:5])"
   ]
  },
  {
   "cell_type": "code",
   "execution_count": 32,
   "id": "c51a7a37",
   "metadata": {},
   "outputs": [
    {
     "name": "stdout",
     "output_type": "stream",
     "text": [
      " world\n"
     ]
    }
   ],
   "source": [
    "print(c[5:])"
   ]
  },
  {
   "cell_type": "code",
   "execution_count": 33,
   "id": "bb10ef8e",
   "metadata": {},
   "outputs": [
    {
     "name": "stdout",
     "output_type": "stream",
     "text": [
      "hello wo\n"
     ]
    }
   ],
   "source": [
    "print(c[:8])"
   ]
  },
  {
   "cell_type": "code",
   "execution_count": 34,
   "id": "b52fcdcc",
   "metadata": {},
   "outputs": [
    {
     "name": "stdout",
     "output_type": "stream",
     "text": [
      "hello world\n"
     ]
    }
   ],
   "source": [
    "print(c[:])"
   ]
  },
  {
   "cell_type": "code",
   "execution_count": 36,
   "id": "83920ae9",
   "metadata": {},
   "outputs": [
    {
     "name": "stdout",
     "output_type": "stream",
     "text": [
      "hlw\n"
     ]
    }
   ],
   "source": [
    "print(c[0:8:3])"
   ]
  },
  {
   "cell_type": "code",
   "execution_count": 37,
   "id": "199f4364",
   "metadata": {},
   "outputs": [
    {
     "name": "stdout",
     "output_type": "stream",
     "text": [
      "\n"
     ]
    }
   ],
   "source": [
    "print(c[0:5:-1])"
   ]
  },
  {
   "cell_type": "code",
   "execution_count": 39,
   "id": "e1b6bd19",
   "metadata": {},
   "outputs": [
    {
     "name": "stdout",
     "output_type": "stream",
     "text": [
      "wr\n"
     ]
    }
   ],
   "source": [
    "print(c[-5:-1:2])"
   ]
  },
  {
   "cell_type": "code",
   "execution_count": 40,
   "id": "d73bd506",
   "metadata": {},
   "outputs": [
    {
     "name": "stdout",
     "output_type": "stream",
     "text": [
      "dlrow olleh\n"
     ]
    }
   ],
   "source": [
    "print(c[::-1])"
   ]
  },
  {
   "cell_type": "code",
   "execution_count": 41,
   "id": "5e0b65a3",
   "metadata": {},
   "outputs": [
    {
     "name": "stdout",
     "output_type": "stream",
     "text": [
      "dlro\n"
     ]
    }
   ],
   "source": [
    "print(c[-1:-5:-1])"
   ]
  },
  {
   "cell_type": "markdown",
   "id": "bf646fe1",
   "metadata": {},
   "source": [
    "#### edit and delete strings"
   ]
  },
  {
   "cell_type": "code",
   "execution_count": 42,
   "id": "35d25775",
   "metadata": {},
   "outputs": [
    {
     "name": "stdout",
     "output_type": "stream",
     "text": [
      "hello\n"
     ]
    }
   ],
   "source": [
    "c = 'hello'\n",
    "print(c)"
   ]
  },
  {
   "cell_type": "code",
   "execution_count": 44,
   "id": "4fc5d464",
   "metadata": {},
   "outputs": [
    {
     "ename": "TypeError",
     "evalue": "'str' object does not support item assignment",
     "output_type": "error",
     "traceback": [
      "\u001b[1;31m---------------------------------------------------------------------------\u001b[0m",
      "\u001b[1;31mTypeError\u001b[0m                                 Traceback (most recent call last)",
      "Input \u001b[1;32mIn [44]\u001b[0m, in \u001b[0;36m<cell line: 1>\u001b[1;34m()\u001b[0m\n\u001b[1;32m----> 1\u001b[0m c[\u001b[38;5;241m0\u001b[39m] \u001b[38;5;241m=\u001b[39m \u001b[38;5;124m'\u001b[39m\u001b[38;5;124mc\u001b[39m\u001b[38;5;124m'\u001b[39m\n",
      "\u001b[1;31mTypeError\u001b[0m: 'str' object does not support item assignment"
     ]
    }
   ],
   "source": [
    "c[0] = 'c'  # Stings are Immutable data type"
   ]
  },
  {
   "cell_type": "code",
   "execution_count": 45,
   "id": "a3104b22",
   "metadata": {},
   "outputs": [],
   "source": [
    "c= 'chetan'"
   ]
  },
  {
   "cell_type": "code",
   "execution_count": 46,
   "id": "c2b8292f",
   "metadata": {},
   "outputs": [
    {
     "name": "stdout",
     "output_type": "stream",
     "text": [
      "chetan\n"
     ]
    }
   ],
   "source": [
    "print(c)"
   ]
  },
  {
   "cell_type": "code",
   "execution_count": 47,
   "id": "40c58f9e",
   "metadata": {},
   "outputs": [
    {
     "ename": "TypeError",
     "evalue": "'str' object does not support item assignment",
     "output_type": "error",
     "traceback": [
      "\u001b[1;31m---------------------------------------------------------------------------\u001b[0m",
      "\u001b[1;31mTypeError\u001b[0m                                 Traceback (most recent call last)",
      "Input \u001b[1;32mIn [47]\u001b[0m, in \u001b[0;36m<cell line: 1>\u001b[1;34m()\u001b[0m\n\u001b[1;32m----> 1\u001b[0m c[\u001b[38;5;241m5\u001b[39m] \u001b[38;5;241m=\u001b[39m \u001b[38;5;124m'\u001b[39m\u001b[38;5;124mA\u001b[39m\u001b[38;5;124m'\u001b[39m\n",
      "\u001b[1;31mTypeError\u001b[0m: 'str' object does not support item assignment"
     ]
    }
   ],
   "source": [
    "c[5] = 'A'"
   ]
  },
  {
   "cell_type": "code",
   "execution_count": 48,
   "id": "7e6fc995",
   "metadata": {},
   "outputs": [],
   "source": [
    "#deletion"
   ]
  },
  {
   "cell_type": "code",
   "execution_count": 49,
   "id": "2dd6e91b",
   "metadata": {},
   "outputs": [
    {
     "name": "stdout",
     "output_type": "stream",
     "text": [
      "chetan\n"
     ]
    }
   ],
   "source": [
    "print(c)"
   ]
  },
  {
   "cell_type": "code",
   "execution_count": 50,
   "id": "0b0f556c",
   "metadata": {},
   "outputs": [],
   "source": [
    "del c"
   ]
  },
  {
   "cell_type": "code",
   "execution_count": 51,
   "id": "97271c5a",
   "metadata": {},
   "outputs": [
    {
     "ename": "NameError",
     "evalue": "name 'c' is not defined",
     "output_type": "error",
     "traceback": [
      "\u001b[1;31m---------------------------------------------------------------------------\u001b[0m",
      "\u001b[1;31mNameError\u001b[0m                                 Traceback (most recent call last)",
      "Input \u001b[1;32mIn [51]\u001b[0m, in \u001b[0;36m<cell line: 1>\u001b[1;34m()\u001b[0m\n\u001b[1;32m----> 1\u001b[0m \u001b[38;5;28mprint\u001b[39m(\u001b[43mc\u001b[49m)\n",
      "\u001b[1;31mNameError\u001b[0m: name 'c' is not defined"
     ]
    }
   ],
   "source": [
    "print(c)"
   ]
  },
  {
   "cell_type": "code",
   "execution_count": 52,
   "id": "bf647d15",
   "metadata": {},
   "outputs": [],
   "source": [
    "c = 'hello'"
   ]
  },
  {
   "cell_type": "code",
   "execution_count": 53,
   "id": "c63e3e81",
   "metadata": {},
   "outputs": [
    {
     "ename": "TypeError",
     "evalue": "'str' object doesn't support item deletion",
     "output_type": "error",
     "traceback": [
      "\u001b[1;31m---------------------------------------------------------------------------\u001b[0m",
      "\u001b[1;31mTypeError\u001b[0m                                 Traceback (most recent call last)",
      "Input \u001b[1;32mIn [53]\u001b[0m, in \u001b[0;36m<cell line: 1>\u001b[1;34m()\u001b[0m\n\u001b[1;32m----> 1\u001b[0m \u001b[38;5;28;01mdel\u001b[39;00m c[\u001b[38;5;241m0\u001b[39m]\n",
      "\u001b[1;31mTypeError\u001b[0m: 'str' object doesn't support item deletion"
     ]
    }
   ],
   "source": [
    "del c[0]"
   ]
  },
  {
   "cell_type": "code",
   "execution_count": 56,
   "id": "8799741e",
   "metadata": {},
   "outputs": [],
   "source": [
    "# operations on strings"
   ]
  },
  {
   "cell_type": "code",
   "execution_count": 57,
   "id": "e8f2a427",
   "metadata": {},
   "outputs": [
    {
     "data": {
      "text/plain": [
       "'hello-chetan-welcome'"
      ]
     },
     "execution_count": 57,
     "metadata": {},
     "output_type": "execute_result"
    }
   ],
   "source": [
    "'hello'+'-'+'chetan'+'-'+'welcome'"
   ]
  },
  {
   "cell_type": "code",
   "execution_count": 60,
   "id": "bd6a1a76",
   "metadata": {},
   "outputs": [
    {
     "name": "stdout",
     "output_type": "stream",
     "text": [
      "****\n"
     ]
    }
   ],
   "source": [
    "print('*'*4) # multiplication support here"
   ]
  },
  {
   "cell_type": "code",
   "execution_count": 61,
   "id": "a84681e0",
   "metadata": {},
   "outputs": [
    {
     "data": {
      "text/plain": [
       "True"
      ]
     },
     "execution_count": 61,
     "metadata": {},
     "output_type": "execute_result"
    }
   ],
   "source": [
    "'chetan'=='chetan'"
   ]
  },
  {
   "cell_type": "code",
   "execution_count": 62,
   "id": "1f0a5f54",
   "metadata": {},
   "outputs": [
    {
     "data": {
      "text/plain": [
       "False"
      ]
     },
     "execution_count": 62,
     "metadata": {},
     "output_type": "execute_result"
    }
   ],
   "source": [
    "'chetan'=='ahire'"
   ]
  },
  {
   "cell_type": "code",
   "execution_count": 63,
   "id": "0605dfa6",
   "metadata": {},
   "outputs": [
    {
     "data": {
      "text/plain": [
       "False"
      ]
     },
     "execution_count": 63,
     "metadata": {},
     "output_type": "execute_result"
    }
   ],
   "source": [
    "'chetan'!='chetan'"
   ]
  },
  {
   "cell_type": "code",
   "execution_count": 64,
   "id": "b382c990",
   "metadata": {},
   "outputs": [
    {
     "data": {
      "text/plain": [
       "False"
      ]
     },
     "execution_count": 64,
     "metadata": {},
     "output_type": "execute_result"
    }
   ],
   "source": [
    "'mumbai'>'pune'"
   ]
  },
  {
   "cell_type": "code",
   "execution_count": 65,
   "id": "be6a5270",
   "metadata": {},
   "outputs": [
    {
     "data": {
      "text/plain": [
       "True"
      ]
     },
     "execution_count": 65,
     "metadata": {},
     "output_type": "execute_result"
    }
   ],
   "source": [
    "'mumbai'<'pune'"
   ]
  },
  {
   "cell_type": "code",
   "execution_count": 66,
   "id": "5a08b1dc",
   "metadata": {},
   "outputs": [
    {
     "data": {
      "text/plain": [
       "True"
      ]
     },
     "execution_count": 66,
     "metadata": {},
     "output_type": "execute_result"
    }
   ],
   "source": [
    "'che'>'Che'"
   ]
  },
  {
   "cell_type": "code",
   "execution_count": 67,
   "id": "31399f1f",
   "metadata": {},
   "outputs": [
    {
     "data": {
      "text/plain": [
       "False"
      ]
     },
     "execution_count": 67,
     "metadata": {},
     "output_type": "execute_result"
    }
   ],
   "source": [
    "'che'<'Che'"
   ]
  },
  {
   "cell_type": "code",
   "execution_count": 68,
   "id": "de9f6ae7",
   "metadata": {},
   "outputs": [
    {
     "data": {
      "text/plain": [
       "'world'"
      ]
     },
     "execution_count": 68,
     "metadata": {},
     "output_type": "execute_result"
    }
   ],
   "source": [
    "'hello' and 'world'"
   ]
  },
  {
   "cell_type": "code",
   "execution_count": 69,
   "id": "a20d59f8",
   "metadata": {},
   "outputs": [
    {
     "data": {
      "text/plain": [
       "''"
      ]
     },
     "execution_count": 69,
     "metadata": {},
     "output_type": "execute_result"
    }
   ],
   "source": [
    "#'' -> False\n",
    "#'abcd' => True\n",
    "\n",
    "\"\" and \"chetan\" # F and T"
   ]
  },
  {
   "cell_type": "code",
   "execution_count": 70,
   "id": "c2a84add",
   "metadata": {},
   "outputs": [
    {
     "data": {
      "text/plain": [
       "'chetan'"
      ]
     },
     "execution_count": 70,
     "metadata": {},
     "output_type": "execute_result"
    }
   ],
   "source": [
    "\"\" or \"chetan\"  # F or T"
   ]
  },
  {
   "cell_type": "code",
   "execution_count": 71,
   "id": "44f4d3df",
   "metadata": {},
   "outputs": [
    {
     "name": "stdout",
     "output_type": "stream",
     "text": [
      "False\n"
     ]
    }
   ],
   "source": [
    "print(not \"hello\")  # not True"
   ]
  },
  {
   "cell_type": "code",
   "execution_count": 73,
   "id": "03c66fe0",
   "metadata": {},
   "outputs": [
    {
     "data": {
      "text/plain": [
       "True"
      ]
     },
     "execution_count": 73,
     "metadata": {},
     "output_type": "execute_result"
    }
   ],
   "source": [
    "not \"\"  # not False"
   ]
  },
  {
   "cell_type": "markdown",
   "id": "340ea352",
   "metadata": {},
   "source": [
    "#### loops on string"
   ]
  },
  {
   "cell_type": "code",
   "execution_count": 74,
   "id": "209d04fd",
   "metadata": {},
   "outputs": [
    {
     "name": "stdout",
     "output_type": "stream",
     "text": [
      "h\n",
      "e\n",
      "l\n",
      "l\n",
      "o\n",
      " \n",
      "c\n",
      "h\n",
      "e\n",
      "t\n",
      "a\n",
      "n\n"
     ]
    }
   ],
   "source": [
    "s = 'hello chetan'\n",
    "for i in s:\n",
    "    print(i)"
   ]
  },
  {
   "cell_type": "code",
   "execution_count": 75,
   "id": "b8967806",
   "metadata": {},
   "outputs": [
    {
     "name": "stdout",
     "output_type": "stream",
     "text": [
      "l\n",
      "l\n",
      "o\n",
      " \n",
      "c\n"
     ]
    }
   ],
   "source": [
    "for i in s[2:7]:\n",
    "    print(i)"
   ]
  },
  {
   "cell_type": "code",
   "execution_count": 76,
   "id": "5a8a2b46",
   "metadata": {},
   "outputs": [
    {
     "name": "stdout",
     "output_type": "stream",
     "text": [
      "n\n",
      "a\n",
      "t\n",
      "e\n",
      "h\n",
      "c\n",
      " \n",
      "o\n",
      "l\n",
      "l\n",
      "e\n",
      "h\n"
     ]
    }
   ],
   "source": [
    "for i in s[::-1]:\n",
    "    print(i)"
   ]
  },
  {
   "cell_type": "code",
   "execution_count": 77,
   "id": "6961c7be",
   "metadata": {},
   "outputs": [
    {
     "data": {
      "text/plain": [
       "True"
      ]
     },
     "execution_count": 77,
     "metadata": {},
     "output_type": "execute_result"
    }
   ],
   "source": [
    "'h' in 'chetan'"
   ]
  },
  {
   "cell_type": "code",
   "execution_count": 79,
   "id": "4a68cc81",
   "metadata": {},
   "outputs": [
    {
     "data": {
      "text/plain": [
       "True"
      ]
     },
     "execution_count": 79,
     "metadata": {},
     "output_type": "execute_result"
    }
   ],
   "source": [
    "'h' in s"
   ]
  },
  {
   "cell_type": "markdown",
   "id": "558b0bdc",
   "metadata": {},
   "source": [
    "#### common functions\n",
    "- len\n",
    "- max\n",
    "- min \n",
    "- sorted"
   ]
  },
  {
   "cell_type": "code",
   "execution_count": 80,
   "id": "cd3c80d5",
   "metadata": {},
   "outputs": [
    {
     "data": {
      "text/plain": [
       "12"
      ]
     },
     "execution_count": 80,
     "metadata": {},
     "output_type": "execute_result"
    }
   ],
   "source": [
    "len(s)"
   ]
  },
  {
   "cell_type": "code",
   "execution_count": 81,
   "id": "d3c218e3",
   "metadata": {},
   "outputs": [
    {
     "data": {
      "text/plain": [
       "'t'"
      ]
     },
     "execution_count": 81,
     "metadata": {},
     "output_type": "execute_result"
    }
   ],
   "source": [
    "max(s)   # biggest char based in ascci value"
   ]
  },
  {
   "cell_type": "code",
   "execution_count": 82,
   "id": "1d910ec3",
   "metadata": {},
   "outputs": [
    {
     "data": {
      "text/plain": [
       "' '"
      ]
     },
     "execution_count": 82,
     "metadata": {},
     "output_type": "execute_result"
    }
   ],
   "source": [
    "min(s)"
   ]
  },
  {
   "cell_type": "code",
   "execution_count": 83,
   "id": "efd3e94c",
   "metadata": {},
   "outputs": [
    {
     "data": {
      "text/plain": [
       "[' ', 'a', 'c', 'e', 'e', 'h', 'h', 'l', 'l', 'n', 'o', 't']"
      ]
     },
     "execution_count": 83,
     "metadata": {},
     "output_type": "execute_result"
    }
   ],
   "source": [
    "sorted(s)"
   ]
  },
  {
   "cell_type": "code",
   "execution_count": 84,
   "id": "6aab99ad",
   "metadata": {},
   "outputs": [
    {
     "data": {
      "text/plain": [
       "['t', 'o', 'n', 'l', 'l', 'h', 'h', 'e', 'e', 'c', 'a', ' ']"
      ]
     },
     "execution_count": 84,
     "metadata": {},
     "output_type": "execute_result"
    }
   ],
   "source": [
    "sorted(s, reverse=True)"
   ]
  },
  {
   "cell_type": "markdown",
   "id": "129bbb19",
   "metadata": {},
   "source": [
    "##### 1. Capitalize/Title/Upper/Lower/Swapcase"
   ]
  },
  {
   "cell_type": "code",
   "execution_count": 85,
   "id": "9caa4959",
   "metadata": {},
   "outputs": [],
   "source": [
    "c = 'pune'"
   ]
  },
  {
   "cell_type": "code",
   "execution_count": 86,
   "id": "e255f0b8",
   "metadata": {},
   "outputs": [
    {
     "data": {
      "text/plain": [
       "'Pune'"
      ]
     },
     "execution_count": 86,
     "metadata": {},
     "output_type": "execute_result"
    }
   ],
   "source": [
    "c.capitalize()"
   ]
  },
  {
   "cell_type": "code",
   "execution_count": 87,
   "id": "51169018",
   "metadata": {},
   "outputs": [
    {
     "data": {
      "text/plain": [
       "'pune'"
      ]
     },
     "execution_count": 87,
     "metadata": {},
     "output_type": "execute_result"
    }
   ],
   "source": [
    "c"
   ]
  },
  {
   "cell_type": "code",
   "execution_count": 88,
   "id": "b26a3de6",
   "metadata": {},
   "outputs": [
    {
     "data": {
      "text/plain": [
       "'It is raining today'"
      ]
     },
     "execution_count": 88,
     "metadata": {},
     "output_type": "execute_result"
    }
   ],
   "source": [
    "'it is raining today'.capitalize()"
   ]
  },
  {
   "cell_type": "code",
   "execution_count": 89,
   "id": "77528e15",
   "metadata": {},
   "outputs": [
    {
     "data": {
      "text/plain": [
       "'It Is Raining Today'"
      ]
     },
     "execution_count": 89,
     "metadata": {},
     "output_type": "execute_result"
    }
   ],
   "source": [
    "'it is raining today'.title()"
   ]
  },
  {
   "cell_type": "code",
   "execution_count": 90,
   "id": "1523ab19",
   "metadata": {},
   "outputs": [
    {
     "data": {
      "text/plain": [
       "'IT IS RAINING TODAY'"
      ]
     },
     "execution_count": 90,
     "metadata": {},
     "output_type": "execute_result"
    }
   ],
   "source": [
    "'it is raining today'.upper()"
   ]
  },
  {
   "cell_type": "code",
   "execution_count": 91,
   "id": "3662239c",
   "metadata": {},
   "outputs": [
    {
     "data": {
      "text/plain": [
       "'it is raining today'"
      ]
     },
     "execution_count": 91,
     "metadata": {},
     "output_type": "execute_result"
    }
   ],
   "source": [
    "'IT IS RAINING TODAY'.lower()"
   ]
  },
  {
   "cell_type": "code",
   "execution_count": 92,
   "id": "9b4f812a",
   "metadata": {},
   "outputs": [
    {
     "data": {
      "text/plain": [
       "'KoLKaTa'"
      ]
     },
     "execution_count": 92,
     "metadata": {},
     "output_type": "execute_result"
    }
   ],
   "source": [
    "'kOlkAtA'.swapcase()"
   ]
  },
  {
   "cell_type": "markdown",
   "id": "2b20c72f",
   "metadata": {},
   "source": [
    "#### 2. count"
   ]
  },
  {
   "cell_type": "code",
   "execution_count": 93,
   "id": "98548432",
   "metadata": {},
   "outputs": [],
   "source": [
    "c = 'it is raining today'"
   ]
  },
  {
   "cell_type": "code",
   "execution_count": 95,
   "id": "a293fab3",
   "metadata": {},
   "outputs": [
    {
     "data": {
      "text/plain": [
       "4"
      ]
     },
     "execution_count": 95,
     "metadata": {},
     "output_type": "execute_result"
    }
   ],
   "source": [
    "c.count('i')"
   ]
  },
  {
   "cell_type": "code",
   "execution_count": 96,
   "id": "0e21049f",
   "metadata": {},
   "outputs": [
    {
     "data": {
      "text/plain": [
       "1"
      ]
     },
     "execution_count": 96,
     "metadata": {},
     "output_type": "execute_result"
    }
   ],
   "source": [
    "c.count('is')"
   ]
  },
  {
   "cell_type": "code",
   "execution_count": 97,
   "id": "a06c5258",
   "metadata": {},
   "outputs": [
    {
     "data": {
      "text/plain": [
       "0"
      ]
     },
     "execution_count": 97,
     "metadata": {},
     "output_type": "execute_result"
    }
   ],
   "source": [
    "c.count('the')"
   ]
  },
  {
   "cell_type": "markdown",
   "id": "6d781ad1",
   "metadata": {},
   "source": [
    "#### 3. Find/Index"
   ]
  },
  {
   "cell_type": "code",
   "execution_count": 98,
   "id": "376b812a",
   "metadata": {},
   "outputs": [],
   "source": [
    "c = 'it is raining today'"
   ]
  },
  {
   "cell_type": "code",
   "execution_count": 99,
   "id": "7527ba10",
   "metadata": {},
   "outputs": [
    {
     "data": {
      "text/plain": [
       "1"
      ]
     },
     "execution_count": 99,
     "metadata": {},
     "output_type": "execute_result"
    }
   ],
   "source": [
    "c.find('t')"
   ]
  },
  {
   "cell_type": "code",
   "execution_count": 100,
   "id": "eb95bbbb",
   "metadata": {},
   "outputs": [
    {
     "data": {
      "text/plain": [
       "-1"
      ]
     },
     "execution_count": 100,
     "metadata": {},
     "output_type": "execute_result"
    }
   ],
   "source": [
    "c.find('c')  # if not found return -1"
   ]
  },
  {
   "cell_type": "code",
   "execution_count": 101,
   "id": "a26d5a56",
   "metadata": {},
   "outputs": [
    {
     "data": {
      "text/plain": [
       "6"
      ]
     },
     "execution_count": 101,
     "metadata": {},
     "output_type": "execute_result"
    }
   ],
   "source": [
    "c.index('rain')"
   ]
  },
  {
   "cell_type": "code",
   "execution_count": 103,
   "id": "ed1c7b6c",
   "metadata": {},
   "outputs": [
    {
     "ename": "ValueError",
     "evalue": "substring not found",
     "output_type": "error",
     "traceback": [
      "\u001b[1;31m---------------------------------------------------------------------------\u001b[0m",
      "\u001b[1;31mValueError\u001b[0m                                Traceback (most recent call last)",
      "Input \u001b[1;32mIn [103]\u001b[0m, in \u001b[0;36m<cell line: 1>\u001b[1;34m()\u001b[0m\n\u001b[1;32m----> 1\u001b[0m \u001b[43mc\u001b[49m\u001b[38;5;241;43m.\u001b[39;49m\u001b[43mindex\u001b[49m\u001b[43m(\u001b[49m\u001b[38;5;124;43m'\u001b[39;49m\u001b[38;5;124;43mthen\u001b[39;49m\u001b[38;5;124;43m'\u001b[39;49m\u001b[43m)\u001b[49m\n",
      "\u001b[1;31mValueError\u001b[0m: substring not found"
     ]
    }
   ],
   "source": [
    "c.index('then')  # if not found throws error"
   ]
  },
  {
   "cell_type": "markdown",
   "id": "716c2364",
   "metadata": {},
   "source": [
    "#### 4. endswith/startwith"
   ]
  },
  {
   "cell_type": "code",
   "execution_count": 104,
   "id": "28da6e58",
   "metadata": {},
   "outputs": [
    {
     "data": {
      "text/plain": [
       "True"
      ]
     },
     "execution_count": 104,
     "metadata": {},
     "output_type": "execute_result"
    }
   ],
   "source": [
    "'it is raining'.endswith('ing')"
   ]
  },
  {
   "cell_type": "code",
   "execution_count": 106,
   "id": "828636aa",
   "metadata": {},
   "outputs": [
    {
     "data": {
      "text/plain": [
       "True"
      ]
     },
     "execution_count": 106,
     "metadata": {},
     "output_type": "execute_result"
    }
   ],
   "source": [
    "'it is raining'.startswith('it')"
   ]
  },
  {
   "cell_type": "code",
   "execution_count": 108,
   "id": "b37f525b",
   "metadata": {},
   "outputs": [
    {
     "data": {
      "text/plain": [
       "False"
      ]
     },
     "execution_count": 108,
     "metadata": {},
     "output_type": "execute_result"
    }
   ],
   "source": [
    "'it is raining'.startswith('is')"
   ]
  },
  {
   "cell_type": "code",
   "execution_count": 110,
   "id": "c34a4e1e",
   "metadata": {},
   "outputs": [
    {
     "data": {
      "text/plain": [
       "True"
      ]
     },
     "execution_count": 110,
     "metadata": {},
     "output_type": "execute_result"
    }
   ],
   "source": [
    "'it is raining'.endswith('g')"
   ]
  },
  {
   "cell_type": "code",
   "execution_count": 111,
   "id": "e8c1b2d5",
   "metadata": {},
   "outputs": [
    {
     "data": {
      "text/plain": [
       "False"
      ]
     },
     "execution_count": 111,
     "metadata": {},
     "output_type": "execute_result"
    }
   ],
   "source": [
    "'it is raining'.endswith('t')"
   ]
  },
  {
   "cell_type": "markdown",
   "id": "3309ab1c",
   "metadata": {},
   "source": [
    "#### 5. format"
   ]
  },
  {
   "cell_type": "code",
   "execution_count": 112,
   "id": "af0fe125",
   "metadata": {},
   "outputs": [
    {
     "data": {
      "text/plain": [
       "'hello chetan welcome to python'"
      ]
     },
     "execution_count": 112,
     "metadata": {},
     "output_type": "execute_result"
    }
   ],
   "source": [
    "'hello {} welcome to {}'.format('chetan','python')"
   ]
  },
  {
   "cell_type": "code",
   "execution_count": 113,
   "id": "96323bec",
   "metadata": {},
   "outputs": [
    {
     "data": {
      "text/plain": [
       "'hello python welcome to chetan'"
      ]
     },
     "execution_count": 113,
     "metadata": {},
     "output_type": "execute_result"
    }
   ],
   "source": [
    "'hello {1} welcome to {0}'.format('chetan','python')"
   ]
  },
  {
   "cell_type": "code",
   "execution_count": 114,
   "id": "3d839822",
   "metadata": {},
   "outputs": [
    {
     "data": {
      "text/plain": [
       "'hello chetan welcome to python'"
      ]
     },
     "execution_count": 114,
     "metadata": {},
     "output_type": "execute_result"
    }
   ],
   "source": [
    "'hello {name} welcome to {lang}'.format(name='chetan',lang='python')"
   ]
  },
  {
   "cell_type": "markdown",
   "id": "3c1cff9c",
   "metadata": {},
   "source": [
    "#### 6. isalnum/isalpha/isdecimal/isdegit/isidentifier"
   ]
  },
  {
   "cell_type": "code",
   "execution_count": 115,
   "id": "b34b9007",
   "metadata": {},
   "outputs": [
    {
     "data": {
      "text/plain": [
       "True"
      ]
     },
     "execution_count": 115,
     "metadata": {},
     "output_type": "execute_result"
    }
   ],
   "source": [
    "'chet'.isalnum()"
   ]
  },
  {
   "cell_type": "code",
   "execution_count": 116,
   "id": "c8686cd6",
   "metadata": {},
   "outputs": [
    {
     "data": {
      "text/plain": [
       "False"
      ]
     },
     "execution_count": 116,
     "metadata": {},
     "output_type": "execute_result"
    }
   ],
   "source": [
    "'chet@n'.isalnum()"
   ]
  },
  {
   "cell_type": "code",
   "execution_count": 117,
   "id": "afe9a488",
   "metadata": {},
   "outputs": [
    {
     "data": {
      "text/plain": [
       "True"
      ]
     },
     "execution_count": 117,
     "metadata": {},
     "output_type": "execute_result"
    }
   ],
   "source": [
    "'flat'.isalnum()"
   ]
  },
  {
   "cell_type": "code",
   "execution_count": 118,
   "id": "47ea3010",
   "metadata": {},
   "outputs": [
    {
     "data": {
      "text/plain": [
       "True"
      ]
     },
     "execution_count": 118,
     "metadata": {},
     "output_type": "execute_result"
    }
   ],
   "source": [
    "'flat123'.isalnum()"
   ]
  },
  {
   "cell_type": "code",
   "execution_count": 119,
   "id": "930d997c",
   "metadata": {},
   "outputs": [
    {
     "data": {
      "text/plain": [
       "True"
      ]
     },
     "execution_count": 119,
     "metadata": {},
     "output_type": "execute_result"
    }
   ],
   "source": [
    "'12'.isdigit()"
   ]
  },
  {
   "cell_type": "code",
   "execution_count": 121,
   "id": "6079b243",
   "metadata": {},
   "outputs": [
    {
     "data": {
      "text/plain": [
       "False"
      ]
     },
     "execution_count": 121,
     "metadata": {},
     "output_type": "execute_result"
    }
   ],
   "source": [
    "'a'.isdigit()"
   ]
  },
  {
   "cell_type": "code",
   "execution_count": 122,
   "id": "1a96aeb5",
   "metadata": {},
   "outputs": [
    {
     "data": {
      "text/plain": [
       "False"
      ]
     },
     "execution_count": 122,
     "metadata": {},
     "output_type": "execute_result"
    }
   ],
   "source": [
    "'chetan-ahire'.isidentifier()"
   ]
  },
  {
   "cell_type": "code",
   "execution_count": 123,
   "id": "55f7aa28",
   "metadata": {},
   "outputs": [
    {
     "data": {
      "text/plain": [
       "True"
      ]
     },
     "execution_count": 123,
     "metadata": {},
     "output_type": "execute_result"
    }
   ],
   "source": [
    "'chetan_ahire'.isidentifier()"
   ]
  },
  {
   "cell_type": "markdown",
   "id": "299bbe7d",
   "metadata": {},
   "source": [
    "#### 7. split"
   ]
  },
  {
   "cell_type": "code",
   "execution_count": 124,
   "id": "53a52fd7",
   "metadata": {},
   "outputs": [
    {
     "data": {
      "text/plain": [
       "['chetan', 'is', 'python', 'developer']"
      ]
     },
     "execution_count": 124,
     "metadata": {},
     "output_type": "execute_result"
    }
   ],
   "source": [
    "'chetan is python developer'.split()"
   ]
  },
  {
   "cell_type": "code",
   "execution_count": 125,
   "id": "9851ec3b",
   "metadata": {},
   "outputs": [
    {
     "data": {
      "text/plain": [
       "['chetan ', ' python developer']"
      ]
     },
     "execution_count": 125,
     "metadata": {},
     "output_type": "execute_result"
    }
   ],
   "source": [
    "'chetan is python developer'.split('is')"
   ]
  },
  {
   "cell_type": "code",
   "execution_count": 126,
   "id": "8e2bd276",
   "metadata": {},
   "outputs": [
    {
     "data": {
      "text/plain": [
       "['chetan is ', 'thon developer']"
      ]
     },
     "execution_count": 126,
     "metadata": {},
     "output_type": "execute_result"
    }
   ],
   "source": [
    "'chetan is python developer'.split('py')"
   ]
  },
  {
   "cell_type": "markdown",
   "id": "a0cb876d",
   "metadata": {},
   "source": [
    "#### 8. join"
   ]
  },
  {
   "cell_type": "code",
   "execution_count": 129,
   "id": "1ef445ae",
   "metadata": {},
   "outputs": [
    {
     "data": {
      "text/plain": [
       "'chetan/is/python/developer'"
      ]
     },
     "execution_count": 129,
     "metadata": {},
     "output_type": "execute_result"
    }
   ],
   "source": [
    "\"/\".join(['chetan', 'is', 'python', 'developer'])"
   ]
  },
  {
   "cell_type": "code",
   "execution_count": null,
   "id": "76518b8b",
   "metadata": {},
   "outputs": [],
   "source": []
  },
  {
   "cell_type": "code",
   "execution_count": 128,
   "id": "ba56c327",
   "metadata": {},
   "outputs": [
    {
     "data": {
      "text/plain": [
       "'chetan is python developer'"
      ]
     },
     "execution_count": 128,
     "metadata": {},
     "output_type": "execute_result"
    }
   ],
   "source": [
    "\" \".join(['chetan', 'is', 'python', 'developer'])"
   ]
  },
  {
   "cell_type": "code",
   "execution_count": 130,
   "id": "e8d4eaf6",
   "metadata": {},
   "outputs": [
    {
     "data": {
      "text/plain": [
       "'chetanispythondeveloper'"
      ]
     },
     "execution_count": 130,
     "metadata": {},
     "output_type": "execute_result"
    }
   ],
   "source": [
    "\"\".join(['chetan', 'is', 'python', 'developer'])"
   ]
  },
  {
   "cell_type": "code",
   "execution_count": null,
   "id": "e0e75c0a",
   "metadata": {},
   "outputs": [],
   "source": []
  },
  {
   "cell_type": "markdown",
   "id": "5ab0811d",
   "metadata": {},
   "source": [
    "#### 9. replace"
   ]
  },
  {
   "cell_type": "code",
   "execution_count": 131,
   "id": "fb4e2c78",
   "metadata": {},
   "outputs": [
    {
     "data": {
      "text/plain": [
       "'chetan is java developer'"
      ]
     },
     "execution_count": 131,
     "metadata": {},
     "output_type": "execute_result"
    }
   ],
   "source": [
    "'chetan is python developer'.replace('python','java')"
   ]
  },
  {
   "cell_type": "markdown",
   "id": "be3fe0c6",
   "metadata": {},
   "source": [
    "#### 10. strip"
   ]
  },
  {
   "cell_type": "code",
   "execution_count": 132,
   "id": "aae1588d",
   "metadata": {},
   "outputs": [],
   "source": [
    "name= '     welcome         '"
   ]
  },
  {
   "cell_type": "code",
   "execution_count": 133,
   "id": "267b921c",
   "metadata": {},
   "outputs": [
    {
     "data": {
      "text/plain": [
       "'welcome'"
      ]
     },
     "execution_count": 133,
     "metadata": {},
     "output_type": "execute_result"
    }
   ],
   "source": [
    "name.strip()"
   ]
  },
  {
   "cell_type": "code",
   "execution_count": null,
   "id": "dae5cc2c",
   "metadata": {},
   "outputs": [],
   "source": []
  }
 ],
 "metadata": {
  "kernelspec": {
   "display_name": "Python 3 (ipykernel)",
   "language": "python",
   "name": "python3"
  },
  "language_info": {
   "codemirror_mode": {
    "name": "ipython",
    "version": 3
   },
   "file_extension": ".py",
   "mimetype": "text/x-python",
   "name": "python",
   "nbconvert_exporter": "python",
   "pygments_lexer": "ipython3",
   "version": "3.9.12"
  }
 },
 "nbformat": 4,
 "nbformat_minor": 5
}
