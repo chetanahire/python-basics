{
 "cells": [
  {
   "cell_type": "code",
   "execution_count": 9,
   "id": "eb622f39",
   "metadata": {},
   "outputs": [],
   "source": [
    "# lambda has no name and return value\n",
    "# one line functions\n",
    "# Not used for code reusability\n",
    "\n",
    "# syntax\n",
    "# lambda input expression"
   ]
  },
  {
   "cell_type": "code",
   "execution_count": 10,
   "id": "e902dec4",
   "metadata": {},
   "outputs": [
    {
     "data": {
      "text/plain": [
       "<function __main__.<lambda>(x)>"
      ]
     },
     "execution_count": 10,
     "metadata": {},
     "output_type": "execute_result"
    }
   ],
   "source": [
    "lambda x : x**2"
   ]
  },
  {
   "cell_type": "code",
   "execution_count": 11,
   "id": "c4ad099c",
   "metadata": {},
   "outputs": [],
   "source": [
    "y = lambda x : x**2"
   ]
  },
  {
   "cell_type": "code",
   "execution_count": 12,
   "id": "45e119a5",
   "metadata": {},
   "outputs": [
    {
     "data": {
      "text/plain": [
       "9"
      ]
     },
     "execution_count": 12,
     "metadata": {},
     "output_type": "execute_result"
    }
   ],
   "source": [
    "y(3)"
   ]
  },
  {
   "cell_type": "code",
   "execution_count": 13,
   "id": "c71c8e72",
   "metadata": {},
   "outputs": [],
   "source": [
    "sum = lambda x,y : x + y"
   ]
  },
  {
   "cell_type": "code",
   "execution_count": 14,
   "id": "37d46983",
   "metadata": {},
   "outputs": [
    {
     "data": {
      "text/plain": [
       "5"
      ]
     },
     "execution_count": 14,
     "metadata": {},
     "output_type": "execute_result"
    }
   ],
   "source": [
    "sum(2,3)"
   ]
  },
  {
   "cell_type": "code",
   "execution_count": 15,
   "id": "d0120d23",
   "metadata": {},
   "outputs": [
    {
     "data": {
      "text/plain": [
       "function"
      ]
     },
     "execution_count": 15,
     "metadata": {},
     "output_type": "execute_result"
    }
   ],
   "source": [
    "type(sum)"
   ]
  },
  {
   "cell_type": "code",
   "execution_count": 19,
   "id": "68270790",
   "metadata": {},
   "outputs": [],
   "source": [
    "num = lambda x : 'Even' if x%2 == 0 else 'Odd'"
   ]
  },
  {
   "cell_type": "code",
   "execution_count": 20,
   "id": "2dad360f",
   "metadata": {},
   "outputs": [
    {
     "data": {
      "text/plain": [
       "'Even'"
      ]
     },
     "execution_count": 20,
     "metadata": {},
     "output_type": "execute_result"
    }
   ],
   "source": [
    "num(4)"
   ]
  },
  {
   "cell_type": "code",
   "execution_count": 21,
   "id": "e4c72ab1",
   "metadata": {},
   "outputs": [
    {
     "data": {
      "text/plain": [
       "'Odd'"
      ]
     },
     "execution_count": 21,
     "metadata": {},
     "output_type": "execute_result"
    }
   ],
   "source": [
    "num(3)"
   ]
  },
  {
   "cell_type": "code",
   "execution_count": 25,
   "id": "36f78b6c",
   "metadata": {},
   "outputs": [],
   "source": [
    "L = [11,14,21,23,56,58,67,28,48,24]"
   ]
  },
  {
   "cell_type": "code",
   "execution_count": 27,
   "id": "a6c9ddbe",
   "metadata": {},
   "outputs": [
    {
     "name": "stdout",
     "output_type": "stream",
     "text": [
      "228\n",
      "122\n",
      "93\n"
     ]
    }
   ],
   "source": [
    "def return_sum(func,L):\n",
    "    result = 0\n",
    "    for i in L:\n",
    "        if func(i):\n",
    "            result = result + i\n",
    "    return result\n",
    "\n",
    "x = lambda x: x%2==0\n",
    "y = lambda x: x%2!=0\n",
    "z = lambda x: x%3==0\n",
    "\n",
    "print(return_sum(x,L))\n",
    "print(return_sum(y,L))\n",
    "print(return_sum(z,L))"
   ]
  },
  {
   "cell_type": "code",
   "execution_count": 1,
   "id": "56db4cd7",
   "metadata": {},
   "outputs": [],
   "source": [
    "# map\n",
    "# filter\n",
    "# reduce"
   ]
  },
  {
   "cell_type": "code",
   "execution_count": 2,
   "id": "2a9ea8eb",
   "metadata": {},
   "outputs": [],
   "source": [
    "# Map"
   ]
  },
  {
   "cell_type": "code",
   "execution_count": 3,
   "id": "02f2e706",
   "metadata": {},
   "outputs": [],
   "source": [
    "l = [1,2,3,4,5,6]"
   ]
  },
  {
   "cell_type": "code",
   "execution_count": 4,
   "id": "de7c99ba",
   "metadata": {},
   "outputs": [
    {
     "data": {
      "text/plain": [
       "<map at 0x1ff056c66a0>"
      ]
     },
     "execution_count": 4,
     "metadata": {},
     "output_type": "execute_result"
    }
   ],
   "source": [
    "map(lambda x : x * 2, l)"
   ]
  },
  {
   "cell_type": "code",
   "execution_count": 5,
   "id": "12956287",
   "metadata": {},
   "outputs": [
    {
     "data": {
      "text/plain": [
       "[2, 4, 6, 8, 10, 12]"
      ]
     },
     "execution_count": 5,
     "metadata": {},
     "output_type": "execute_result"
    }
   ],
   "source": [
    "list(map(lambda x : x * 2, l))"
   ]
  },
  {
   "cell_type": "code",
   "execution_count": 7,
   "id": "60703698",
   "metadata": {},
   "outputs": [
    {
     "data": {
      "text/plain": [
       "[False, True, False, True, False, True]"
      ]
     },
     "execution_count": 7,
     "metadata": {},
     "output_type": "execute_result"
    }
   ],
   "source": [
    "list(map(lambda x:x%2==0, l))"
   ]
  },
  {
   "cell_type": "code",
   "execution_count": 9,
   "id": "bdc8f9f9",
   "metadata": {},
   "outputs": [],
   "source": [
    "students = [\n",
    "    {\n",
    "        'name':'Chetan',\n",
    "        'add':'Nashik',\n",
    "        'job':'SD'\n",
    "    },\n",
    "    {\n",
    "        'name':'Nikhil',\n",
    "        'add':'Pune',\n",
    "        'job':'AD'\n",
    "    },\n",
    "    {\n",
    "        'name':'Dipak',\n",
    "        'add':'Mumbai',\n",
    "        'job':'NE'\n",
    "    }\n",
    "]"
   ]
  },
  {
   "cell_type": "code",
   "execution_count": 10,
   "id": "29104de8",
   "metadata": {},
   "outputs": [
    {
     "data": {
      "text/plain": [
       "[{'name': 'Chetan', 'add': 'Nashik', 'job': 'SD'},\n",
       " {'name': 'Nikhil', 'add': 'Pune', 'job': 'AD'},\n",
       " {'name': 'Dipak', 'add': 'Mumbai', 'job': 'NE'}]"
      ]
     },
     "execution_count": 10,
     "metadata": {},
     "output_type": "execute_result"
    }
   ],
   "source": [
    "students"
   ]
  },
  {
   "cell_type": "code",
   "execution_count": 13,
   "id": "a45e0645",
   "metadata": {},
   "outputs": [
    {
     "data": {
      "text/plain": [
       "<map at 0x1ff04b89970>"
      ]
     },
     "execution_count": 13,
     "metadata": {},
     "output_type": "execute_result"
    }
   ],
   "source": [
    "map(lambda student : student['name'],students)"
   ]
  },
  {
   "cell_type": "code",
   "execution_count": 14,
   "id": "a664dedf",
   "metadata": {},
   "outputs": [
    {
     "data": {
      "text/plain": [
       "['Chetan', 'Nikhil', 'Dipak']"
      ]
     },
     "execution_count": 14,
     "metadata": {},
     "output_type": "execute_result"
    }
   ],
   "source": [
    "list(map(lambda student : student['name'],students))"
   ]
  },
  {
   "cell_type": "code",
   "execution_count": 15,
   "id": "e9227378",
   "metadata": {},
   "outputs": [
    {
     "data": {
      "text/plain": [
       "['SD', 'AD', 'NE']"
      ]
     },
     "execution_count": 15,
     "metadata": {},
     "output_type": "execute_result"
    }
   ],
   "source": [
    "list(map(lambda student : student['job'],students))"
   ]
  },
  {
   "cell_type": "code",
   "execution_count": 16,
   "id": "028de8d1",
   "metadata": {},
   "outputs": [
    {
     "data": {
      "text/plain": [
       "['Nashik', 'Pune', 'Mumbai']"
      ]
     },
     "execution_count": 16,
     "metadata": {},
     "output_type": "execute_result"
    }
   ],
   "source": [
    "list(map(lambda student : student['add'],students))"
   ]
  },
  {
   "cell_type": "code",
   "execution_count": 17,
   "id": "0b89fd7d",
   "metadata": {},
   "outputs": [],
   "source": [
    "# Filter"
   ]
  },
  {
   "cell_type": "code",
   "execution_count": 18,
   "id": "e26cfb97",
   "metadata": {},
   "outputs": [],
   "source": [
    "L = [1,2,3,4,5,6,7]"
   ]
  },
  {
   "cell_type": "code",
   "execution_count": 19,
   "id": "19c2334a",
   "metadata": {},
   "outputs": [
    {
     "data": {
      "text/plain": [
       "[5, 6, 7]"
      ]
     },
     "execution_count": 19,
     "metadata": {},
     "output_type": "execute_result"
    }
   ],
   "source": [
    "list(filter(lambda x : x > 4, L))"
   ]
  },
  {
   "cell_type": "code",
   "execution_count": 20,
   "id": "44fcc79f",
   "metadata": {},
   "outputs": [],
   "source": [
    "A = list(map(lambda student : student['add'],students))"
   ]
  },
  {
   "cell_type": "code",
   "execution_count": 21,
   "id": "30a4195c",
   "metadata": {},
   "outputs": [
    {
     "data": {
      "text/plain": [
       "['Nashik', 'Pune', 'Mumbai']"
      ]
     },
     "execution_count": 21,
     "metadata": {},
     "output_type": "execute_result"
    }
   ],
   "source": [
    "A"
   ]
  },
  {
   "cell_type": "code",
   "execution_count": 23,
   "id": "1575f7a9",
   "metadata": {},
   "outputs": [
    {
     "data": {
      "text/plain": [
       "['Nashik', 'Mumbai']"
      ]
     },
     "execution_count": 23,
     "metadata": {},
     "output_type": "execute_result"
    }
   ],
   "source": [
    "list(filter(lambda x : 'a' in x, A))"
   ]
  },
  {
   "cell_type": "code",
   "execution_count": 24,
   "id": "498a604f",
   "metadata": {},
   "outputs": [],
   "source": [
    "# Reduce"
   ]
  },
  {
   "cell_type": "code",
   "execution_count": 26,
   "id": "3cbdf6d3",
   "metadata": {},
   "outputs": [],
   "source": [
    "import functools"
   ]
  },
  {
   "cell_type": "code",
   "execution_count": 27,
   "id": "fe5ccb10",
   "metadata": {},
   "outputs": [],
   "source": [
    "L = [1,2,3,4,5,6,7]"
   ]
  },
  {
   "cell_type": "code",
   "execution_count": 29,
   "id": "dc689405",
   "metadata": {},
   "outputs": [
    {
     "data": {
      "text/plain": [
       "28"
      ]
     },
     "execution_count": 29,
     "metadata": {},
     "output_type": "execute_result"
    }
   ],
   "source": [
    "functools.reduce(lambda x, y : x + y, L)"
   ]
  },
  {
   "cell_type": "code",
   "execution_count": 31,
   "id": "f9c3a647",
   "metadata": {},
   "outputs": [],
   "source": [
    "L1 = [21,12,43,54,67,32,87]"
   ]
  },
  {
   "cell_type": "code",
   "execution_count": 32,
   "id": "7a1249aa",
   "metadata": {},
   "outputs": [
    {
     "data": {
      "text/plain": [
       "316"
      ]
     },
     "execution_count": 32,
     "metadata": {},
     "output_type": "execute_result"
    }
   ],
   "source": [
    "functools.reduce(lambda x, y : x + y, L1)"
   ]
  },
  {
   "cell_type": "code",
   "execution_count": 35,
   "id": "4f8dea99",
   "metadata": {},
   "outputs": [
    {
     "data": {
      "text/plain": [
       "87"
      ]
     },
     "execution_count": 35,
     "metadata": {},
     "output_type": "execute_result"
    }
   ],
   "source": [
    "functools.reduce(lambda x, y : x if x>y else y, L1)"
   ]
  },
  {
   "cell_type": "code",
   "execution_count": 36,
   "id": "c451f242",
   "metadata": {},
   "outputs": [],
   "source": [
    "# List Comprehension"
   ]
  },
  {
   "cell_type": "code",
   "execution_count": 37,
   "id": "1bf0baa6",
   "metadata": {},
   "outputs": [],
   "source": [
    "L1 = [item * 2 for item in L]"
   ]
  },
  {
   "cell_type": "code",
   "execution_count": 38,
   "id": "fb344751",
   "metadata": {},
   "outputs": [
    {
     "data": {
      "text/plain": [
       "[2, 4, 6, 8, 10, 12, 14]"
      ]
     },
     "execution_count": 38,
     "metadata": {},
     "output_type": "execute_result"
    }
   ],
   "source": [
    "L1"
   ]
  },
  {
   "cell_type": "code",
   "execution_count": 39,
   "id": "245b5967",
   "metadata": {},
   "outputs": [],
   "source": [
    "L2 = [i**2 for i in range(10)]"
   ]
  },
  {
   "cell_type": "code",
   "execution_count": 40,
   "id": "715184df",
   "metadata": {},
   "outputs": [
    {
     "data": {
      "text/plain": [
       "[0, 1, 4, 9, 16, 25, 36, 49, 64, 81]"
      ]
     },
     "execution_count": 40,
     "metadata": {},
     "output_type": "execute_result"
    }
   ],
   "source": [
    "L2"
   ]
  },
  {
   "cell_type": "code",
   "execution_count": 41,
   "id": "1cc475e5",
   "metadata": {},
   "outputs": [],
   "source": [
    "l3 = [i**2 for i in range(10) if i%2!=0]"
   ]
  },
  {
   "cell_type": "code",
   "execution_count": 43,
   "id": "965884b5",
   "metadata": {},
   "outputs": [
    {
     "data": {
      "text/plain": [
       "[1, 9, 25, 49, 81]"
      ]
     },
     "execution_count": 43,
     "metadata": {},
     "output_type": "execute_result"
    }
   ],
   "source": [
    "l3"
   ]
  },
  {
   "cell_type": "code",
   "execution_count": 46,
   "id": "8b359024",
   "metadata": {},
   "outputs": [],
   "source": [
    "names = ['Nashik', 'Puna', 'Mumbai']"
   ]
  },
  {
   "cell_type": "code",
   "execution_count": 47,
   "id": "3ccb09d9",
   "metadata": {},
   "outputs": [
    {
     "data": {
      "text/plain": [
       "['Nashik', 'Puna', 'Mumbai']"
      ]
     },
     "execution_count": 47,
     "metadata": {},
     "output_type": "execute_result"
    }
   ],
   "source": [
    "names"
   ]
  },
  {
   "cell_type": "code",
   "execution_count": 50,
   "id": "dafdca90",
   "metadata": {},
   "outputs": [],
   "source": [
    "L4 = [name for name in names if 'a' in name]"
   ]
  },
  {
   "cell_type": "code",
   "execution_count": 51,
   "id": "c1f98ff3",
   "metadata": {},
   "outputs": [
    {
     "data": {
      "text/plain": [
       "['Nashik', 'Puna', 'Mumbai']"
      ]
     },
     "execution_count": 51,
     "metadata": {},
     "output_type": "execute_result"
    }
   ],
   "source": [
    "L4"
   ]
  },
  {
   "cell_type": "code",
   "execution_count": 53,
   "id": "465279fa",
   "metadata": {},
   "outputs": [],
   "source": [
    "L5 = [name for name in names if name[0]=='N']"
   ]
  },
  {
   "cell_type": "code",
   "execution_count": 54,
   "id": "662c93ee",
   "metadata": {},
   "outputs": [
    {
     "data": {
      "text/plain": [
       "['Nashik']"
      ]
     },
     "execution_count": 54,
     "metadata": {},
     "output_type": "execute_result"
    }
   ],
   "source": [
    "L5"
   ]
  },
  {
   "cell_type": "code",
   "execution_count": 55,
   "id": "a352b707",
   "metadata": {},
   "outputs": [],
   "source": [
    "D = {'Name':'Chetan','Gender':'Male'}"
   ]
  },
  {
   "cell_type": "code",
   "execution_count": 56,
   "id": "1cab36de",
   "metadata": {},
   "outputs": [
    {
     "data": {
      "text/plain": [
       "dict_items([('Name', 'Chetan'), ('Gender', 'Male')])"
      ]
     },
     "execution_count": 56,
     "metadata": {},
     "output_type": "execute_result"
    }
   ],
   "source": [
    "D.items()"
   ]
  },
  {
   "cell_type": "code",
   "execution_count": 57,
   "id": "8782f6a3",
   "metadata": {},
   "outputs": [],
   "source": [
    "D1 = {key:value for key,value in D.items()}"
   ]
  },
  {
   "cell_type": "code",
   "execution_count": 58,
   "id": "d2c5fcf9",
   "metadata": {},
   "outputs": [
    {
     "data": {
      "text/plain": [
       "{'Name': 'Chetan', 'Gender': 'Male'}"
      ]
     },
     "execution_count": 58,
     "metadata": {},
     "output_type": "execute_result"
    }
   ],
   "source": [
    "D1"
   ]
  },
  {
   "cell_type": "code",
   "execution_count": 59,
   "id": "e06b1d8d",
   "metadata": {},
   "outputs": [],
   "source": [
    "D1 = {key:value for key,value in D.items() if len(key)>4}"
   ]
  },
  {
   "cell_type": "code",
   "execution_count": 60,
   "id": "7842ebc4",
   "metadata": {},
   "outputs": [
    {
     "data": {
      "text/plain": [
       "{'Gender': 'Male'}"
      ]
     },
     "execution_count": 60,
     "metadata": {},
     "output_type": "execute_result"
    }
   ],
   "source": [
    "D1"
   ]
  },
  {
   "cell_type": "code",
   "execution_count": 61,
   "id": "9efd654c",
   "metadata": {},
   "outputs": [],
   "source": [
    "L = [1,2,3,4,5,6,7]"
   ]
  },
  {
   "cell_type": "code",
   "execution_count": 62,
   "id": "b95c7e42",
   "metadata": {},
   "outputs": [],
   "source": [
    "D = {item:item**2 for item in L}"
   ]
  },
  {
   "cell_type": "code",
   "execution_count": 63,
   "id": "7f1119f6",
   "metadata": {},
   "outputs": [
    {
     "data": {
      "text/plain": [
       "{1: 1, 2: 4, 3: 9, 4: 16, 5: 25, 6: 36, 7: 49}"
      ]
     },
     "execution_count": 63,
     "metadata": {},
     "output_type": "execute_result"
    }
   ],
   "source": [
    "D"
   ]
  },
  {
   "cell_type": "code",
   "execution_count": 64,
   "id": "4ef559bb",
   "metadata": {},
   "outputs": [],
   "source": [
    "D = {item:item**2 for item in L if item%2==0}"
   ]
  },
  {
   "cell_type": "code",
   "execution_count": 65,
   "id": "abd28afc",
   "metadata": {},
   "outputs": [
    {
     "data": {
      "text/plain": [
       "{2: 4, 4: 16, 6: 36}"
      ]
     },
     "execution_count": 65,
     "metadata": {},
     "output_type": "execute_result"
    }
   ],
   "source": [
    "D"
   ]
  },
  {
   "cell_type": "code",
   "execution_count": null,
   "id": "0567298e",
   "metadata": {},
   "outputs": [],
   "source": []
  }
 ],
 "metadata": {
  "kernelspec": {
   "display_name": "Python 3 (ipykernel)",
   "language": "python",
   "name": "python3"
  },
  "language_info": {
   "codemirror_mode": {
    "name": "ipython",
    "version": 3
   },
   "file_extension": ".py",
   "mimetype": "text/x-python",
   "name": "python",
   "nbconvert_exporter": "python",
   "pygments_lexer": "ipython3",
   "version": "3.9.12"
  }
 },
 "nbformat": 4,
 "nbformat_minor": 5
}
