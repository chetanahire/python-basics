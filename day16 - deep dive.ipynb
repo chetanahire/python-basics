{
 "cells": [
  {
   "cell_type": "markdown",
   "id": "25b6dbcd",
   "metadata": {},
   "source": [
    "- garbage collection"
   ]
  },
  {
   "cell_type": "markdown",
   "id": "88acc282",
   "metadata": {},
   "source": [
    "Make un-referenced varaible eligible to garbage collection using collector collector"
   ]
  },
  {
   "cell_type": "markdown",
   "id": "e0994c48",
   "metadata": {},
   "source": [
    "- weird stuff"
   ]
  },
  {
   "cell_type": "code",
   "execution_count": 17,
   "id": "cc233997",
   "metadata": {},
   "outputs": [],
   "source": [
    "a = 717\n",
    "b = a\n",
    "c = b"
   ]
  },
  {
   "cell_type": "code",
   "execution_count": 18,
   "id": "a0fa21f0",
   "metadata": {},
   "outputs": [
    {
     "data": {
      "text/plain": [
       "4"
      ]
     },
     "execution_count": 18,
     "metadata": {},
     "output_type": "execute_result"
    }
   ],
   "source": [
    "import sys\n",
    "sys.getrefcount(a)"
   ]
  },
  {
   "cell_type": "code",
   "execution_count": 19,
   "id": "bbf8a345",
   "metadata": {},
   "outputs": [],
   "source": [
    "d = 717"
   ]
  },
  {
   "cell_type": "code",
   "execution_count": 20,
   "id": "99b6dc02",
   "metadata": {},
   "outputs": [
    {
     "data": {
      "text/plain": [
       "4"
      ]
     },
     "execution_count": 20,
     "metadata": {},
     "output_type": "execute_result"
    }
   ],
   "source": [
    "sys.getrefcount(a)"
   ]
  },
  {
   "cell_type": "code",
   "execution_count": 21,
   "id": "d71db24e",
   "metadata": {},
   "outputs": [],
   "source": [
    "d= c"
   ]
  },
  {
   "cell_type": "code",
   "execution_count": 22,
   "id": "9da550f1",
   "metadata": {},
   "outputs": [
    {
     "data": {
      "text/plain": [
       "5"
      ]
     },
     "execution_count": 22,
     "metadata": {},
     "output_type": "execute_result"
    }
   ],
   "source": [
    "sys.getrefcount(a)"
   ]
  },
  {
   "cell_type": "code",
   "execution_count": 23,
   "id": "187e5918",
   "metadata": {},
   "outputs": [],
   "source": [
    "#-5 to 256 id are same"
   ]
  },
  {
   "cell_type": "markdown",
   "id": "d616c9ec",
   "metadata": {},
   "source": [
    "- mautablity"
   ]
  },
  {
   "cell_type": "code",
   "execution_count": 28,
   "id": "b78ee837",
   "metadata": {},
   "outputs": [],
   "source": [
    "a = 'hello'"
   ]
  },
  {
   "cell_type": "code",
   "execution_count": 30,
   "id": "63a147e8",
   "metadata": {},
   "outputs": [
    {
     "data": {
      "text/plain": [
       "2824177411056"
      ]
     },
     "execution_count": 30,
     "metadata": {},
     "output_type": "execute_result"
    }
   ],
   "source": [
    "id(a)"
   ]
  },
  {
   "cell_type": "code",
   "execution_count": 31,
   "id": "1d84c416",
   "metadata": {},
   "outputs": [],
   "source": [
    "a = a+'world'"
   ]
  },
  {
   "cell_type": "code",
   "execution_count": 32,
   "id": "3fa271c6",
   "metadata": {},
   "outputs": [
    {
     "data": {
      "text/plain": [
       "2824217115632"
      ]
     },
     "execution_count": 32,
     "metadata": {},
     "output_type": "execute_result"
    }
   ],
   "source": [
    "id(a)"
   ]
  },
  {
   "cell_type": "code",
   "execution_count": 33,
   "id": "5580e2ed",
   "metadata": {},
   "outputs": [
    {
     "data": {
      "text/plain": [
       "'helloworld'"
      ]
     },
     "execution_count": 33,
     "metadata": {},
     "output_type": "execute_result"
    }
   ],
   "source": [
    "a"
   ]
  },
  {
   "cell_type": "code",
   "execution_count": 34,
   "id": "99d125f9",
   "metadata": {},
   "outputs": [],
   "source": [
    "t = (1,2,3)"
   ]
  },
  {
   "cell_type": "code",
   "execution_count": 35,
   "id": "920429e5",
   "metadata": {},
   "outputs": [
    {
     "data": {
      "text/plain": [
       "2824217084288"
      ]
     },
     "execution_count": 35,
     "metadata": {},
     "output_type": "execute_result"
    }
   ],
   "source": [
    "id(t)"
   ]
  },
  {
   "cell_type": "code",
   "execution_count": 37,
   "id": "b06705b9",
   "metadata": {},
   "outputs": [],
   "source": [
    "t = t + (5,6)"
   ]
  },
  {
   "cell_type": "code",
   "execution_count": 38,
   "id": "aae19ec3",
   "metadata": {},
   "outputs": [
    {
     "data": {
      "text/plain": [
       "2824217156400"
      ]
     },
     "execution_count": 38,
     "metadata": {},
     "output_type": "execute_result"
    }
   ],
   "source": [
    "id(t)"
   ]
  },
  {
   "cell_type": "code",
   "execution_count": 39,
   "id": "f9229a2b",
   "metadata": {},
   "outputs": [],
   "source": [
    "lst = [1,2,3,4]"
   ]
  },
  {
   "cell_type": "code",
   "execution_count": 40,
   "id": "ad08a2cb",
   "metadata": {},
   "outputs": [
    {
     "data": {
      "text/plain": [
       "[1, 2, 3, 4]"
      ]
     },
     "execution_count": 40,
     "metadata": {},
     "output_type": "execute_result"
    }
   ],
   "source": [
    "lst"
   ]
  },
  {
   "cell_type": "code",
   "execution_count": 41,
   "id": "9777fef8",
   "metadata": {},
   "outputs": [
    {
     "data": {
      "text/plain": [
       "2824216599296"
      ]
     },
     "execution_count": 41,
     "metadata": {},
     "output_type": "execute_result"
    }
   ],
   "source": [
    "id(lst)"
   ]
  },
  {
   "cell_type": "code",
   "execution_count": 42,
   "id": "f27d19ef",
   "metadata": {},
   "outputs": [],
   "source": [
    "lst.append(7)"
   ]
  },
  {
   "cell_type": "code",
   "execution_count": 43,
   "id": "f3161982",
   "metadata": {},
   "outputs": [
    {
     "data": {
      "text/plain": [
       "2824216599296"
      ]
     },
     "execution_count": 43,
     "metadata": {},
     "output_type": "execute_result"
    }
   ],
   "source": [
    "id(lst)"
   ]
  },
  {
   "cell_type": "markdown",
   "id": "7f2f6b92",
   "metadata": {},
   "source": [
    "- side effect of mutation"
   ]
  },
  {
   "cell_type": "code",
   "execution_count": 44,
   "id": "9a6b610a",
   "metadata": {},
   "outputs": [],
   "source": [
    "l = [1,2,3]"
   ]
  },
  {
   "cell_type": "code",
   "execution_count": 45,
   "id": "3045acfe",
   "metadata": {},
   "outputs": [
    {
     "data": {
      "text/plain": [
       "2824216826304"
      ]
     },
     "execution_count": 45,
     "metadata": {},
     "output_type": "execute_result"
    }
   ],
   "source": [
    "id(l)"
   ]
  },
  {
   "cell_type": "code",
   "execution_count": 46,
   "id": "f706ebab",
   "metadata": {},
   "outputs": [],
   "source": [
    "l1 = l"
   ]
  },
  {
   "cell_type": "code",
   "execution_count": 47,
   "id": "fd72f04b",
   "metadata": {},
   "outputs": [
    {
     "data": {
      "text/plain": [
       "2824216826304"
      ]
     },
     "execution_count": 47,
     "metadata": {},
     "output_type": "execute_result"
    }
   ],
   "source": [
    "id(l1)"
   ]
  },
  {
   "cell_type": "code",
   "execution_count": 48,
   "id": "95026608",
   "metadata": {},
   "outputs": [],
   "source": [
    "l1.append(4)"
   ]
  },
  {
   "cell_type": "code",
   "execution_count": 49,
   "id": "14e0818e",
   "metadata": {},
   "outputs": [
    {
     "data": {
      "text/plain": [
       "2824216826304"
      ]
     },
     "execution_count": 49,
     "metadata": {},
     "output_type": "execute_result"
    }
   ],
   "source": [
    "id(l1)"
   ]
  },
  {
   "cell_type": "code",
   "execution_count": 50,
   "id": "5b176710",
   "metadata": {},
   "outputs": [
    {
     "data": {
      "text/plain": [
       "2824216826304"
      ]
     },
     "execution_count": 50,
     "metadata": {},
     "output_type": "execute_result"
    }
   ],
   "source": [
    "id(l)"
   ]
  },
  {
   "cell_type": "code",
   "execution_count": 51,
   "id": "ca13aa27",
   "metadata": {},
   "outputs": [
    {
     "data": {
      "text/plain": [
       "[1, 2, 3, 4]"
      ]
     },
     "execution_count": 51,
     "metadata": {},
     "output_type": "execute_result"
    }
   ],
   "source": [
    "l"
   ]
  },
  {
   "cell_type": "code",
   "execution_count": 52,
   "id": "a10e2329",
   "metadata": {},
   "outputs": [
    {
     "data": {
      "text/plain": [
       "[1, 2, 3, 4]"
      ]
     },
     "execution_count": 52,
     "metadata": {},
     "output_type": "execute_result"
    }
   ],
   "source": [
    "l1"
   ]
  },
  {
   "cell_type": "markdown",
   "id": "d37ffcb9",
   "metadata": {},
   "source": [
    "- cloning"
   ]
  },
  {
   "cell_type": "code",
   "execution_count": 65,
   "id": "3ac22871",
   "metadata": {},
   "outputs": [],
   "source": [
    "l=[1,2,3]"
   ]
  },
  {
   "cell_type": "code",
   "execution_count": 66,
   "id": "98e5ee2d",
   "metadata": {},
   "outputs": [
    {
     "data": {
      "text/plain": [
       "[1, 2, 3]"
      ]
     },
     "execution_count": 66,
     "metadata": {},
     "output_type": "execute_result"
    }
   ],
   "source": [
    "l"
   ]
  },
  {
   "cell_type": "code",
   "execution_count": 67,
   "id": "a932a22f",
   "metadata": {},
   "outputs": [
    {
     "data": {
      "text/plain": [
       "2824216944192"
      ]
     },
     "execution_count": 67,
     "metadata": {},
     "output_type": "execute_result"
    }
   ],
   "source": [
    "id(l)"
   ]
  },
  {
   "cell_type": "code",
   "execution_count": 68,
   "id": "3ddcf621",
   "metadata": {},
   "outputs": [],
   "source": [
    "l1 = l[:]"
   ]
  },
  {
   "cell_type": "code",
   "execution_count": 69,
   "id": "5c6b846d",
   "metadata": {},
   "outputs": [
    {
     "data": {
      "text/plain": [
       "[1, 2, 3]"
      ]
     },
     "execution_count": 69,
     "metadata": {},
     "output_type": "execute_result"
    }
   ],
   "source": [
    "l1"
   ]
  },
  {
   "cell_type": "code",
   "execution_count": 70,
   "id": "d3a690aa",
   "metadata": {},
   "outputs": [
    {
     "data": {
      "text/plain": [
       "2824216944192"
      ]
     },
     "execution_count": 70,
     "metadata": {},
     "output_type": "execute_result"
    }
   ],
   "source": [
    "id(l)"
   ]
  },
  {
   "cell_type": "code",
   "execution_count": 73,
   "id": "3d6a16d9",
   "metadata": {},
   "outputs": [],
   "source": [
    "l1.append(4)"
   ]
  },
  {
   "cell_type": "code",
   "execution_count": 74,
   "id": "e90a8f27",
   "metadata": {},
   "outputs": [
    {
     "data": {
      "text/plain": [
       "[1, 2, 3, 4, 4]"
      ]
     },
     "execution_count": 74,
     "metadata": {},
     "output_type": "execute_result"
    }
   ],
   "source": [
    "l1"
   ]
  },
  {
   "cell_type": "code",
   "execution_count": 75,
   "id": "b362d7d9",
   "metadata": {},
   "outputs": [
    {
     "data": {
      "text/plain": [
       "2824217218944"
      ]
     },
     "execution_count": 75,
     "metadata": {},
     "output_type": "execute_result"
    }
   ],
   "source": [
    "id(l1)"
   ]
  },
  {
   "cell_type": "code",
   "execution_count": 76,
   "id": "bdda5a18",
   "metadata": {},
   "outputs": [
    {
     "data": {
      "text/plain": [
       "[1, 2, 3]"
      ]
     },
     "execution_count": 76,
     "metadata": {},
     "output_type": "execute_result"
    }
   ],
   "source": [
    "l"
   ]
  },
  {
   "cell_type": "code",
   "execution_count": 78,
   "id": "c8fa583c",
   "metadata": {},
   "outputs": [],
   "source": [
    "t = (1,2,3,[4,5])"
   ]
  },
  {
   "cell_type": "code",
   "execution_count": 79,
   "id": "e048bb26",
   "metadata": {},
   "outputs": [
    {
     "data": {
      "text/plain": [
       "(1, 2, 3, [4, 5])"
      ]
     },
     "execution_count": 79,
     "metadata": {},
     "output_type": "execute_result"
    }
   ],
   "source": [
    "t"
   ]
  },
  {
   "cell_type": "code",
   "execution_count": 81,
   "id": "2f5f507a",
   "metadata": {},
   "outputs": [
    {
     "data": {
      "text/plain": [
       "5"
      ]
     },
     "execution_count": 81,
     "metadata": {},
     "output_type": "execute_result"
    }
   ],
   "source": [
    "t[-1][-1]"
   ]
  },
  {
   "cell_type": "code",
   "execution_count": 82,
   "id": "36843dcd",
   "metadata": {},
   "outputs": [],
   "source": [
    "t[-1][-1] = 500"
   ]
  },
  {
   "cell_type": "code",
   "execution_count": 83,
   "id": "bc71d7fa",
   "metadata": {},
   "outputs": [
    {
     "data": {
      "text/plain": [
       "(1, 2, 3, [4, 500])"
      ]
     },
     "execution_count": 83,
     "metadata": {},
     "output_type": "execute_result"
    }
   ],
   "source": [
    "t"
   ]
  },
  {
   "cell_type": "code",
   "execution_count": 84,
   "id": "93c33a15",
   "metadata": {},
   "outputs": [],
   "source": [
    "l = [1,2,3,(4,5)]"
   ]
  },
  {
   "cell_type": "code",
   "execution_count": 85,
   "id": "1d115eb1",
   "metadata": {},
   "outputs": [
    {
     "data": {
      "text/plain": [
       "5"
      ]
     },
     "execution_count": 85,
     "metadata": {},
     "output_type": "execute_result"
    }
   ],
   "source": [
    "l[-1][-1]"
   ]
  },
  {
   "cell_type": "code",
   "execution_count": 86,
   "id": "d6108831",
   "metadata": {},
   "outputs": [
    {
     "ename": "TypeError",
     "evalue": "'tuple' object does not support item assignment",
     "output_type": "error",
     "traceback": [
      "\u001b[1;31m---------------------------------------------------------------------------\u001b[0m",
      "\u001b[1;31mTypeError\u001b[0m                                 Traceback (most recent call last)",
      "Input \u001b[1;32mIn [86]\u001b[0m, in \u001b[0;36m<cell line: 1>\u001b[1;34m()\u001b[0m\n\u001b[1;32m----> 1\u001b[0m l[\u001b[38;5;241m-\u001b[39m\u001b[38;5;241m1\u001b[39m][\u001b[38;5;241m-\u001b[39m\u001b[38;5;241m1\u001b[39m] \u001b[38;5;241m=\u001b[39m \u001b[38;5;241m10\u001b[39m\n",
      "\u001b[1;31mTypeError\u001b[0m: 'tuple' object does not support item assignment"
     ]
    }
   ],
   "source": [
    "l[-1][-1] = 10"
   ]
  },
  {
   "cell_type": "code",
   "execution_count": 103,
   "id": "a82c34fc",
   "metadata": {},
   "outputs": [],
   "source": [
    "a = [1,2]"
   ]
  },
  {
   "cell_type": "code",
   "execution_count": 104,
   "id": "a3515a41",
   "metadata": {},
   "outputs": [],
   "source": [
    "b=[3,4]"
   ]
  },
  {
   "cell_type": "code",
   "execution_count": 106,
   "id": "aecef8eb",
   "metadata": {},
   "outputs": [],
   "source": [
    "c=(a,b)"
   ]
  },
  {
   "cell_type": "code",
   "execution_count": 107,
   "id": "cff34da0",
   "metadata": {},
   "outputs": [
    {
     "data": {
      "text/plain": [
       "([1, 2], [3, 4])"
      ]
     },
     "execution_count": 107,
     "metadata": {},
     "output_type": "execute_result"
    }
   ],
   "source": [
    "c"
   ]
  },
  {
   "cell_type": "code",
   "execution_count": 108,
   "id": "63bd169a",
   "metadata": {},
   "outputs": [
    {
     "data": {
      "text/plain": [
       "2824218268608"
      ]
     },
     "execution_count": 108,
     "metadata": {},
     "output_type": "execute_result"
    }
   ],
   "source": [
    "id(a)"
   ]
  },
  {
   "cell_type": "code",
   "execution_count": 109,
   "id": "e402a8be",
   "metadata": {},
   "outputs": [
    {
     "data": {
      "text/plain": [
       "2824218268544"
      ]
     },
     "execution_count": 109,
     "metadata": {},
     "output_type": "execute_result"
    }
   ],
   "source": [
    "id(b)"
   ]
  },
  {
   "cell_type": "code",
   "execution_count": 110,
   "id": "d863f0b2",
   "metadata": {},
   "outputs": [
    {
     "data": {
      "text/plain": [
       "2824216733696"
      ]
     },
     "execution_count": 110,
     "metadata": {},
     "output_type": "execute_result"
    }
   ],
   "source": [
    "id(c)"
   ]
  },
  {
   "cell_type": "code",
   "execution_count": 111,
   "id": "3afe58b0",
   "metadata": {},
   "outputs": [
    {
     "data": {
      "text/plain": [
       "1"
      ]
     },
     "execution_count": 111,
     "metadata": {},
     "output_type": "execute_result"
    }
   ],
   "source": [
    "c[0][0]"
   ]
  },
  {
   "cell_type": "code",
   "execution_count": 113,
   "id": "73e8ed8f",
   "metadata": {},
   "outputs": [],
   "source": [
    "c[0][0] = 100"
   ]
  },
  {
   "cell_type": "code",
   "execution_count": 114,
   "id": "ae001b2f",
   "metadata": {},
   "outputs": [
    {
     "data": {
      "text/plain": [
       "2824218268608"
      ]
     },
     "execution_count": 114,
     "metadata": {},
     "output_type": "execute_result"
    }
   ],
   "source": [
    "id(a)"
   ]
  },
  {
   "cell_type": "code",
   "execution_count": 115,
   "id": "a9f46e4b",
   "metadata": {},
   "outputs": [
    {
     "data": {
      "text/plain": [
       "2824218268544"
      ]
     },
     "execution_count": 115,
     "metadata": {},
     "output_type": "execute_result"
    }
   ],
   "source": [
    "id(b)"
   ]
  },
  {
   "cell_type": "code",
   "execution_count": 116,
   "id": "8a993168",
   "metadata": {},
   "outputs": [
    {
     "data": {
      "text/plain": [
       "2824216733696"
      ]
     },
     "execution_count": 116,
     "metadata": {},
     "output_type": "execute_result"
    }
   ],
   "source": [
    "id(c)"
   ]
  },
  {
   "cell_type": "code",
   "execution_count": 117,
   "id": "b323fdae",
   "metadata": {},
   "outputs": [
    {
     "data": {
      "text/plain": [
       "([100, 2], [3, 4])"
      ]
     },
     "execution_count": 117,
     "metadata": {},
     "output_type": "execute_result"
    }
   ],
   "source": [
    "c"
   ]
  },
  {
   "cell_type": "code",
   "execution_count": 118,
   "id": "9ebc7251",
   "metadata": {},
   "outputs": [
    {
     "ename": "TypeError",
     "evalue": "'tuple' object does not support item assignment",
     "output_type": "error",
     "traceback": [
      "\u001b[1;31m---------------------------------------------------------------------------\u001b[0m",
      "\u001b[1;31mTypeError\u001b[0m                                 Traceback (most recent call last)",
      "Input \u001b[1;32mIn [118]\u001b[0m, in \u001b[0;36m<cell line: 1>\u001b[1;34m()\u001b[0m\n\u001b[1;32m----> 1\u001b[0m c[\u001b[38;5;241m0\u001b[39m]\u001b[38;5;241m=\u001b[39mc[\u001b[38;5;241m0\u001b[39m]\u001b[38;5;241m+\u001b[39m[\u001b[38;5;241m5\u001b[39m,\u001b[38;5;241m6\u001b[39m]\n",
      "\u001b[1;31mTypeError\u001b[0m: 'tuple' object does not support item assignment"
     ]
    }
   ],
   "source": [
    "c[0]=c[0]+[5,6]"
   ]
  },
  {
   "cell_type": "code",
   "execution_count": null,
   "id": "f2621247",
   "metadata": {},
   "outputs": [],
   "source": []
  },
  {
   "cell_type": "code",
   "execution_count": null,
   "id": "78d5dc70",
   "metadata": {},
   "outputs": [],
   "source": []
  },
  {
   "cell_type": "code",
   "execution_count": null,
   "id": "23e56bfd",
   "metadata": {},
   "outputs": [],
   "source": []
  }
 ],
 "metadata": {
  "kernelspec": {
   "display_name": "Python 3 (ipykernel)",
   "language": "python",
   "name": "python3"
  },
  "language_info": {
   "codemirror_mode": {
    "name": "ipython",
    "version": 3
   },
   "file_extension": ".py",
   "mimetype": "text/x-python",
   "name": "python",
   "nbconvert_exporter": "python",
   "pygments_lexer": "ipython3",
   "version": "3.9.12"
  }
 },
 "nbformat": 4,
 "nbformat_minor": 5
}
