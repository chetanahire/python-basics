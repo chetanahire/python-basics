{
 "cells": [
  {
   "cell_type": "code",
   "execution_count": 1,
   "id": "6c757a18",
   "metadata": {},
   "outputs": [],
   "source": [
    "#functions syntax \n",
    "# def identifier(argument):\n",
    "#     \"\"\"doc string\"\"\"\n",
    "#     body\n",
    "#     return value\n",
    "\n",
    "# #function call\n",
    "# function_name(value)"
   ]
  },
  {
   "cell_type": "code",
   "execution_count": 9,
   "id": "3281f533",
   "metadata": {},
   "outputs": [
    {
     "name": "stdout",
     "output_type": "stream",
     "text": [
      "odd\n"
     ]
    }
   ],
   "source": [
    "def is_even(num):   # num us argument\n",
    "    \"\"\"\n",
    "    This functions tell if gievn number is odd or even\n",
    "    Input - any valid interger number\n",
    "    Output - even/odd\n",
    "    Created by - Chetan\n",
    "    \"\"\"\n",
    "    if num %2 ==0:\n",
    "        return 'even'\n",
    "    else:\n",
    "        return 'odd'\n",
    "    \n",
    "#function call\n",
    "\n",
    "print(is_even(15))"
   ]
  },
  {
   "cell_type": "code",
   "execution_count": 10,
   "id": "e1cbcbd5",
   "metadata": {},
   "outputs": [
    {
     "name": "stdout",
     "output_type": "stream",
     "text": [
      "even\n"
     ]
    }
   ],
   "source": [
    "print(is_even(20))  # 20 is parameter"
   ]
  },
  {
   "cell_type": "code",
   "execution_count": 11,
   "id": "2388882e",
   "metadata": {},
   "outputs": [
    {
     "name": "stdout",
     "output_type": "stream",
     "text": [
      "\n",
      "    This functions tell if gievn number is odd or even\n",
      "    Input - any valid interger number\n",
      "    Output - even/odd\n",
      "    Created by - Chetan\n",
      "    \n"
     ]
    }
   ],
   "source": [
    "print(is_even.__doc__)"
   ]
  },
  {
   "cell_type": "code",
   "execution_count": 14,
   "id": "fc827c1f",
   "metadata": {},
   "outputs": [],
   "source": [
    "def power(a,b):\n",
    "    return a**b"
   ]
  },
  {
   "cell_type": "code",
   "execution_count": 16,
   "id": "3c460744",
   "metadata": {},
   "outputs": [
    {
     "data": {
      "text/plain": [
       "8"
      ]
     },
     "execution_count": 16,
     "metadata": {},
     "output_type": "execute_result"
    }
   ],
   "source": [
    "power(2,3)"
   ]
  },
  {
   "cell_type": "code",
   "execution_count": 17,
   "id": "611a1929",
   "metadata": {},
   "outputs": [
    {
     "ename": "TypeError",
     "evalue": "power() missing 1 required positional argument: 'b'",
     "output_type": "error",
     "traceback": [
      "\u001b[1;31m---------------------------------------------------------------------------\u001b[0m",
      "\u001b[1;31mTypeError\u001b[0m                                 Traceback (most recent call last)",
      "Input \u001b[1;32mIn [17]\u001b[0m, in \u001b[0;36m<cell line: 1>\u001b[1;34m()\u001b[0m\n\u001b[1;32m----> 1\u001b[0m \u001b[43mpower\u001b[49m\u001b[43m(\u001b[49m\u001b[38;5;241;43m2\u001b[39;49m\u001b[43m)\u001b[49m\n",
      "\u001b[1;31mTypeError\u001b[0m: power() missing 1 required positional argument: 'b'"
     ]
    }
   ],
   "source": [
    "power(2)"
   ]
  },
  {
   "cell_type": "code",
   "execution_count": 2,
   "id": "a62eff79",
   "metadata": {},
   "outputs": [],
   "source": [
    "def power(a=1,b=1):  # default argument\n",
    "    return a**b"
   ]
  },
  {
   "cell_type": "code",
   "execution_count": 3,
   "id": "ed51eacd",
   "metadata": {},
   "outputs": [
    {
     "data": {
      "text/plain": [
       "8"
      ]
     },
     "execution_count": 3,
     "metadata": {},
     "output_type": "execute_result"
    }
   ],
   "source": [
    "power(2,3)"
   ]
  },
  {
   "cell_type": "code",
   "execution_count": 4,
   "id": "a3ef36b9",
   "metadata": {},
   "outputs": [
    {
     "data": {
      "text/plain": [
       "3"
      ]
     },
     "execution_count": 4,
     "metadata": {},
     "output_type": "execute_result"
    }
   ],
   "source": [
    "power(3)"
   ]
  },
  {
   "cell_type": "code",
   "execution_count": 5,
   "id": "86a1147c",
   "metadata": {},
   "outputs": [
    {
     "data": {
      "text/plain": [
       "1"
      ]
     },
     "execution_count": 5,
     "metadata": {},
     "output_type": "execute_result"
    }
   ],
   "source": [
    "power()"
   ]
  },
  {
   "cell_type": "code",
   "execution_count": 6,
   "id": "19b11928",
   "metadata": {},
   "outputs": [
    {
     "data": {
      "text/plain": [
       "8"
      ]
     },
     "execution_count": 6,
     "metadata": {},
     "output_type": "execute_result"
    }
   ],
   "source": [
    "#positional arguement\n",
    "\n",
    "power(2,3)"
   ]
  },
  {
   "cell_type": "code",
   "execution_count": 7,
   "id": "73ba8502",
   "metadata": {},
   "outputs": [
    {
     "data": {
      "text/plain": [
       "9"
      ]
     },
     "execution_count": 7,
     "metadata": {},
     "output_type": "execute_result"
    }
   ],
   "source": [
    "power(3,2)"
   ]
  },
  {
   "cell_type": "code",
   "execution_count": 11,
   "id": "75bcc5f8",
   "metadata": {},
   "outputs": [
    {
     "data": {
      "text/plain": [
       "8"
      ]
     },
     "execution_count": 11,
     "metadata": {},
     "output_type": "execute_result"
    }
   ],
   "source": [
    "#keyword arguement\n",
    "power(a=2,b=3)"
   ]
  },
  {
   "cell_type": "code",
   "execution_count": 12,
   "id": "5b6adb4a",
   "metadata": {},
   "outputs": [
    {
     "data": {
      "text/plain": [
       "9"
      ]
     },
     "execution_count": 12,
     "metadata": {},
     "output_type": "execute_result"
    }
   ],
   "source": [
    "power(b=2,a=3)"
   ]
  },
  {
   "cell_type": "code",
   "execution_count": 13,
   "id": "92cd9153",
   "metadata": {},
   "outputs": [
    {
     "name": "stdout",
     "output_type": "stream",
     "text": [
      "1 2 3 4 5 6 7\n"
     ]
    }
   ],
   "source": [
    "print(1,2,3,4,5,6,7)"
   ]
  },
  {
   "cell_type": "code",
   "execution_count": 23,
   "id": "4859f466",
   "metadata": {},
   "outputs": [],
   "source": [
    "def prod_numbers(*number):\n",
    "    product = 1\n",
    "    print(number)\n",
    "    print(type(number))\n",
    "    for i in number:\n",
    "        product = product * i\n",
    "    print(product)"
   ]
  },
  {
   "cell_type": "code",
   "execution_count": 24,
   "id": "9d1cf552",
   "metadata": {},
   "outputs": [
    {
     "name": "stdout",
     "output_type": "stream",
     "text": [
      "(1, 2, 3, 4)\n",
      "<class 'tuple'>\n",
      "24\n"
     ]
    }
   ],
   "source": [
    "prod_numbers(1,2,3,4)"
   ]
  },
  {
   "cell_type": "code",
   "execution_count": 25,
   "id": "ea39a6a0",
   "metadata": {},
   "outputs": [
    {
     "name": "stdout",
     "output_type": "stream",
     "text": [
      "(1, 2, 3, 4, 5, 6, 7, 8, 9, 10)\n",
      "<class 'tuple'>\n",
      "3628800\n"
     ]
    }
   ],
   "source": [
    "prod_numbers(1,2,3,4,5,6,7,8,9,10)"
   ]
  },
  {
   "cell_type": "code",
   "execution_count": 28,
   "id": "059d6830",
   "metadata": {},
   "outputs": [
    {
     "name": "stdout",
     "output_type": "stream",
     "text": [
      "inside a\n",
      "None\n",
      "inside b\n",
      "7\n"
     ]
    }
   ],
   "source": [
    "def a():\n",
    "    print('inside a')\n",
    "    \n",
    "def b(y):\n",
    "    print('inside b')\n",
    "    return y\n",
    "    \n",
    "print(a())\n",
    "print(5+b(2))"
   ]
  },
  {
   "cell_type": "code",
   "execution_count": 31,
   "id": "f8779373",
   "metadata": {},
   "outputs": [
    {
     "name": "stdout",
     "output_type": "stream",
     "text": [
      "2\n",
      "5\n"
     ]
    }
   ],
   "source": [
    "def f(y):\n",
    "    x = 1\n",
    "    x += 1\n",
    "    print(x)\n",
    "    \n",
    "x = 5\n",
    "f(x)\n",
    "print(x)"
   ]
  },
  {
   "cell_type": "code",
   "execution_count": 32,
   "id": "f48a9828",
   "metadata": {},
   "outputs": [
    {
     "name": "stdout",
     "output_type": "stream",
     "text": [
      "5\n",
      "6\n",
      "5\n"
     ]
    }
   ],
   "source": [
    "def g(y): \n",
    "    print(x)\n",
    "    print(x+1)\n",
    "    \n",
    "x = 5\n",
    "g(x)\n",
    "print(x)"
   ]
  },
  {
   "cell_type": "code",
   "execution_count": 34,
   "id": "c3b9b0df",
   "metadata": {},
   "outputs": [
    {
     "ename": "UnboundLocalError",
     "evalue": "local variable 'x' referenced before assignment",
     "output_type": "error",
     "traceback": [
      "\u001b[1;31m---------------------------------------------------------------------------\u001b[0m",
      "\u001b[1;31mUnboundLocalError\u001b[0m                         Traceback (most recent call last)",
      "Input \u001b[1;32mIn [34]\u001b[0m, in \u001b[0;36m<cell line: 5>\u001b[1;34m()\u001b[0m\n\u001b[0;32m      2\u001b[0m     x\u001b[38;5;241m+\u001b[39m\u001b[38;5;241m=\u001b[39m\u001b[38;5;241m1\u001b[39m\n\u001b[0;32m      4\u001b[0m x \u001b[38;5;241m=\u001b[39m \u001b[38;5;241m5\u001b[39m\n\u001b[1;32m----> 5\u001b[0m \u001b[43mg\u001b[49m\u001b[43m(\u001b[49m\u001b[43mx\u001b[49m\u001b[43m)\u001b[49m\n\u001b[0;32m      6\u001b[0m \u001b[38;5;28mprint\u001b[39m(x)\n",
      "Input \u001b[1;32mIn [34]\u001b[0m, in \u001b[0;36mg\u001b[1;34m(y)\u001b[0m\n\u001b[0;32m      1\u001b[0m \u001b[38;5;28;01mdef\u001b[39;00m \u001b[38;5;21mg\u001b[39m(y): \n\u001b[1;32m----> 2\u001b[0m     x\u001b[38;5;241m+\u001b[39m\u001b[38;5;241m=\u001b[39m\u001b[38;5;241m1\u001b[39m\n",
      "\u001b[1;31mUnboundLocalError\u001b[0m: local variable 'x' referenced before assignment"
     ]
    }
   ],
   "source": [
    "def g(y): \n",
    "    x+=1\n",
    "    \n",
    "x = 5\n",
    "g(x)\n",
    "print(x)"
   ]
  },
  {
   "cell_type": "code",
   "execution_count": 35,
   "id": "115b94bc",
   "metadata": {},
   "outputs": [
    {
     "name": "stdout",
     "output_type": "stream",
     "text": [
      "1\n",
      "1\n",
      "5\n",
      "6\n"
     ]
    }
   ],
   "source": [
    "def test1():\n",
    "    x = 1\n",
    "    print(x)\n",
    "def test2():\n",
    "    y = 1\n",
    "    print(y)\n",
    "\n",
    "x = 5\n",
    "y = 6\n",
    "test1()\n",
    "test2()\n",
    "print(x)\n",
    "print(y)"
   ]
  },
  {
   "cell_type": "code",
   "execution_count": 36,
   "id": "8abdfb9d",
   "metadata": {},
   "outputs": [
    {
     "name": "stdout",
     "output_type": "stream",
     "text": [
      "inside f x =  11\n",
      "inside main prgram x =  10\n",
      "inside main prgram y =  11\n"
     ]
    }
   ],
   "source": [
    "def f(x):\n",
    "    x +=1\n",
    "    print('inside f x = ', x)\n",
    "    return x\n",
    "\n",
    "x = 10\n",
    "y = f(x)\n",
    "\n",
    "\n",
    "print('inside main prgram x = ', x)\n",
    "print('inside main prgram y = ', y)"
   ]
  },
  {
   "cell_type": "code",
   "execution_count": 45,
   "id": "d77bd698",
   "metadata": {},
   "outputs": [
    {
     "name": "stdout",
     "output_type": "stream",
     "text": [
      "6\n"
     ]
    }
   ],
   "source": [
    "def g(y):\n",
    "    global x\n",
    "    x += 1\n",
    "\n",
    "x = 5 \n",
    "g(x)\n",
    "print(x)"
   ]
  },
  {
   "cell_type": "code",
   "execution_count": 51,
   "id": "5808ca24",
   "metadata": {},
   "outputs": [
    {
     "name": "stdout",
     "output_type": "stream",
     "text": [
      "in main program before calling f\n",
      "inside f 1\n",
      "inside f 2\n",
      "inside g\n",
      "inside f 3\n",
      "in main program after calling f\n"
     ]
    },
    {
     "ename": "NameError",
     "evalue": "name 'q' is not defined",
     "output_type": "error",
     "traceback": [
      "\u001b[1;31m---------------------------------------------------------------------------\u001b[0m",
      "\u001b[1;31mNameError\u001b[0m                                 Traceback (most recent call last)",
      "Input \u001b[1;32mIn [51]\u001b[0m, in \u001b[0;36m<cell line: 12>\u001b[1;34m()\u001b[0m\n\u001b[0;32m     10\u001b[0m p()\n\u001b[0;32m     11\u001b[0m \u001b[38;5;28mprint\u001b[39m(\u001b[38;5;124m'\u001b[39m\u001b[38;5;124min main program after calling f\u001b[39m\u001b[38;5;124m'\u001b[39m)\n\u001b[1;32m---> 12\u001b[0m \u001b[43mq\u001b[49m()\n",
      "\u001b[1;31mNameError\u001b[0m: name 'q' is not defined"
     ]
    }
   ],
   "source": [
    "def p():\n",
    "    print('inside f 1')\n",
    "    def q():\n",
    "        print('inside g')\n",
    "    print('inside f 2')    \n",
    "    q()\n",
    "    print('inside f 3')\n",
    "\n",
    "print('in main program before calling f')\n",
    "p()\n",
    "print('in main program after calling f')\n",
    "q()"
   ]
  },
  {
   "cell_type": "code",
   "execution_count": 2,
   "id": "0674edae",
   "metadata": {},
   "outputs": [
    {
     "name": "stdout",
     "output_type": "stream",
     "text": [
      "in main program before calling f\n",
      "inside f 1\n",
      "inside f 2\n",
      "inside g\n",
      "inside f 3\n",
      "in main program after calling f\n"
     ]
    }
   ],
   "source": [
    "def p():\n",
    "    print('inside f 1')\n",
    "    def q():\n",
    "        print('inside g')\n",
    "#         p()\n",
    "    print('inside f 2')    \n",
    "    q()\n",
    "    print('inside f 3')\n",
    "    \n",
    "print('in main program before calling f')\n",
    "p()\n",
    "print('in main program after calling f')\n",
    "# q()   inner function is hidden to main program"
   ]
  },
  {
   "cell_type": "markdown",
   "id": "d875b913",
   "metadata": {},
   "source": [
    "- functions as objects"
   ]
  },
  {
   "cell_type": "code",
   "execution_count": 23,
   "id": "31e549a6",
   "metadata": {},
   "outputs": [],
   "source": [
    "def f(num):\n",
    "    return num**2"
   ]
  },
  {
   "cell_type": "code",
   "execution_count": 24,
   "id": "06632c98",
   "metadata": {},
   "outputs": [
    {
     "data": {
      "text/plain": [
       "4"
      ]
     },
     "execution_count": 24,
     "metadata": {},
     "output_type": "execute_result"
    }
   ],
   "source": [
    "f(2)"
   ]
  },
  {
   "cell_type": "code",
   "execution_count": 25,
   "id": "7dfca4a2",
   "metadata": {},
   "outputs": [
    {
     "data": {
      "text/plain": [
       "16"
      ]
     },
     "execution_count": 25,
     "metadata": {},
     "output_type": "execute_result"
    }
   ],
   "source": [
    "f(4)"
   ]
  },
  {
   "cell_type": "code",
   "execution_count": 26,
   "id": "c0cbd482",
   "metadata": {},
   "outputs": [],
   "source": [
    "a =f"
   ]
  },
  {
   "cell_type": "code",
   "execution_count": 27,
   "id": "e130690d",
   "metadata": {},
   "outputs": [
    {
     "data": {
      "text/plain": [
       "9"
      ]
     },
     "execution_count": 27,
     "metadata": {},
     "output_type": "execute_result"
    }
   ],
   "source": [
    "a(3)"
   ]
  },
  {
   "cell_type": "code",
   "execution_count": 28,
   "id": "1f02f285",
   "metadata": {},
   "outputs": [],
   "source": [
    "del f"
   ]
  },
  {
   "cell_type": "code",
   "execution_count": 29,
   "id": "edf55729",
   "metadata": {},
   "outputs": [
    {
     "ename": "NameError",
     "evalue": "name 'f' is not defined",
     "output_type": "error",
     "traceback": [
      "\u001b[1;31m---------------------------------------------------------------------------\u001b[0m",
      "\u001b[1;31mNameError\u001b[0m                                 Traceback (most recent call last)",
      "Input \u001b[1;32mIn [29]\u001b[0m, in \u001b[0;36m<cell line: 1>\u001b[1;34m()\u001b[0m\n\u001b[1;32m----> 1\u001b[0m \u001b[43mf\u001b[49m(\u001b[38;5;241m2\u001b[39m)\n",
      "\u001b[1;31mNameError\u001b[0m: name 'f' is not defined"
     ]
    }
   ],
   "source": [
    "f(2)"
   ]
  },
  {
   "cell_type": "code",
   "execution_count": 31,
   "id": "3ca70a22",
   "metadata": {},
   "outputs": [
    {
     "data": {
      "text/plain": [
       "4"
      ]
     },
     "execution_count": 31,
     "metadata": {},
     "output_type": "execute_result"
    }
   ],
   "source": [
    "a(2)"
   ]
  },
  {
   "cell_type": "code",
   "execution_count": 32,
   "id": "ed7b5d6f",
   "metadata": {},
   "outputs": [
    {
     "data": {
      "text/plain": [
       "function"
      ]
     },
     "execution_count": 32,
     "metadata": {},
     "output_type": "execute_result"
    }
   ],
   "source": [
    "type(a)"
   ]
  },
  {
   "cell_type": "code",
   "execution_count": 33,
   "id": "8380cb3e",
   "metadata": {},
   "outputs": [],
   "source": [
    "L = [1,2,3,4]"
   ]
  },
  {
   "cell_type": "code",
   "execution_count": 35,
   "id": "fd04b6d8",
   "metadata": {},
   "outputs": [
    {
     "data": {
      "text/plain": [
       "[1, 2, 3, 4]"
      ]
     },
     "execution_count": 35,
     "metadata": {},
     "output_type": "execute_result"
    }
   ],
   "source": [
    "L"
   ]
  },
  {
   "cell_type": "code",
   "execution_count": 36,
   "id": "0d00531b",
   "metadata": {},
   "outputs": [],
   "source": [
    "L = [1,2,3,a]"
   ]
  },
  {
   "cell_type": "code",
   "execution_count": 37,
   "id": "8cd711e2",
   "metadata": {},
   "outputs": [
    {
     "data": {
      "text/plain": [
       "[1, 2, 3, <function __main__.f(num)>]"
      ]
     },
     "execution_count": 37,
     "metadata": {},
     "output_type": "execute_result"
    }
   ],
   "source": [
    "L"
   ]
  },
  {
   "cell_type": "code",
   "execution_count": 39,
   "id": "66521d71",
   "metadata": {},
   "outputs": [
    {
     "data": {
      "text/plain": [
       "16"
      ]
     },
     "execution_count": 39,
     "metadata": {},
     "output_type": "execute_result"
    }
   ],
   "source": [
    "L[-1](4)"
   ]
  },
  {
   "cell_type": "code",
   "execution_count": 40,
   "id": "439b7f05",
   "metadata": {},
   "outputs": [],
   "source": [
    "L=[1,2,3,4,a(5)]"
   ]
  },
  {
   "cell_type": "code",
   "execution_count": 41,
   "id": "5c192727",
   "metadata": {},
   "outputs": [
    {
     "data": {
      "text/plain": [
       "[1, 2, 3, 4, 25]"
      ]
     },
     "execution_count": 41,
     "metadata": {},
     "output_type": "execute_result"
    }
   ],
   "source": [
    "L"
   ]
  },
  {
   "cell_type": "code",
   "execution_count": 48,
   "id": "68c077b9",
   "metadata": {},
   "outputs": [
    {
     "name": "stdout",
     "output_type": "stream",
     "text": [
      "inside a  1\n",
      "None\n",
      "inside b\n",
      "inside a  2\n",
      "None\n"
     ]
    }
   ],
   "source": [
    "def a():\n",
    "    global count\n",
    "    count +=1\n",
    "    print('inside a ', count)\n",
    "    \n",
    "def b(x):\n",
    "    print('inside b')\n",
    "    return x()\n",
    "\n",
    "count = 0\n",
    "print(a())\n",
    "print(b(a))"
   ]
  },
  {
   "cell_type": "code",
   "execution_count": null,
   "id": "dc36fec7",
   "metadata": {},
   "outputs": [],
   "source": []
  }
 ],
 "metadata": {
  "kernelspec": {
   "display_name": "Python 3 (ipykernel)",
   "language": "python",
   "name": "python3"
  },
  "language_info": {
   "codemirror_mode": {
    "name": "ipython",
    "version": 3
   },
   "file_extension": ".py",
   "mimetype": "text/x-python",
   "name": "python",
   "nbconvert_exporter": "python",
   "pygments_lexer": "ipython3",
   "version": "3.9.12"
  }
 },
 "nbformat": 4,
 "nbformat_minor": 5
}
