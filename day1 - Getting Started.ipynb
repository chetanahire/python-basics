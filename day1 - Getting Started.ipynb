{
 "cells": [
  {
   "cell_type": "markdown",
   "id": "99df0dab",
   "metadata": {},
   "source": [
    "# Getting Started..."
   ]
  },
  {
   "cell_type": "code",
   "execution_count": 54,
   "id": "e1f21bfe",
   "metadata": {},
   "outputs": [
    {
     "name": "stdout",
     "output_type": "stream",
     "text": [
      "Hello, Welcome to python\n"
     ]
    }
   ],
   "source": [
    "print(\"Hello, Welcome to python\")"
   ]
  },
  {
   "cell_type": "code",
   "execution_count": 55,
   "id": "891446e7",
   "metadata": {},
   "outputs": [],
   "source": [
    "# defined fun used to add two values\n",
    "def add(a,b):\n",
    "    print(a+b)"
   ]
  },
  {
   "cell_type": "code",
   "execution_count": 59,
   "id": "199991ae",
   "metadata": {},
   "outputs": [
    {
     "name": "stdout",
     "output_type": "stream",
     "text": [
      "chetanahire\n"
     ]
    }
   ],
   "source": [
    "add('chetan','ahire')"
   ]
  },
  {
   "cell_type": "code",
   "execution_count": 60,
   "id": "4f3bdabc",
   "metadata": {},
   "outputs": [
    {
     "name": "stdout",
     "output_type": "stream",
     "text": [
      "ab\n"
     ]
    }
   ],
   "source": [
    "add('a','b')"
   ]
  },
  {
   "cell_type": "code",
   "execution_count": 61,
   "id": "a561d358",
   "metadata": {},
   "outputs": [
    {
     "name": "stdout",
     "output_type": "stream",
     "text": [
      "6.5\n"
     ]
    }
   ],
   "source": [
    "add(2.0,4.5)"
   ]
  },
  {
   "cell_type": "code",
   "execution_count": 62,
   "id": "06b8a0e9",
   "metadata": {},
   "outputs": [
    {
     "ename": "TypeError",
     "evalue": "unsupported operand type(s) for +: 'int' and 'str'",
     "output_type": "error",
     "traceback": [
      "\u001b[1;31m---------------------------------------------------------------------------\u001b[0m",
      "\u001b[1;31mTypeError\u001b[0m                                 Traceback (most recent call last)",
      "Input \u001b[1;32mIn [62]\u001b[0m, in \u001b[0;36m<cell line: 1>\u001b[1;34m()\u001b[0m\n\u001b[1;32m----> 1\u001b[0m \u001b[43madd\u001b[49m\u001b[43m(\u001b[49m\u001b[38;5;241;43m10\u001b[39;49m\u001b[43m,\u001b[49m\u001b[38;5;124;43m'\u001b[39;49m\u001b[38;5;124;43mchetan\u001b[39;49m\u001b[38;5;124;43m'\u001b[39;49m\u001b[43m)\u001b[49m\n",
      "Input \u001b[1;32mIn [55]\u001b[0m, in \u001b[0;36madd\u001b[1;34m(a, b)\u001b[0m\n\u001b[0;32m      2\u001b[0m \u001b[38;5;28;01mdef\u001b[39;00m \u001b[38;5;21madd\u001b[39m(a,b):\n\u001b[1;32m----> 3\u001b[0m     \u001b[38;5;28mprint\u001b[39m(\u001b[43ma\u001b[49m\u001b[38;5;241;43m+\u001b[39;49m\u001b[43mb\u001b[49m)\n",
      "\u001b[1;31mTypeError\u001b[0m: unsupported operand type(s) for +: 'int' and 'str'"
     ]
    }
   ],
   "source": [
    "add(10,'chetan')"
   ]
  },
  {
   "cell_type": "code",
   "execution_count": 63,
   "id": "9776152d",
   "metadata": {},
   "outputs": [
    {
     "name": "stdout",
     "output_type": "stream",
     "text": [
      "3\n"
     ]
    }
   ],
   "source": [
    "add(1,2)"
   ]
  },
  {
   "cell_type": "code",
   "execution_count": 64,
   "id": "5ff2dc57",
   "metadata": {},
   "outputs": [
    {
     "name": "stdout",
     "output_type": "stream",
     "text": [
      "6\n"
     ]
    }
   ],
   "source": [
    "print(2+4)"
   ]
  },
  {
   "cell_type": "code",
   "execution_count": 65,
   "id": "075d892d",
   "metadata": {},
   "outputs": [
    {
     "data": {
      "text/plain": [
       "4"
      ]
     },
     "execution_count": 65,
     "metadata": {},
     "output_type": "execute_result"
    }
   ],
   "source": [
    "1+3"
   ]
  },
  {
   "cell_type": "code",
   "execution_count": 66,
   "id": "d93fc3e4",
   "metadata": {},
   "outputs": [
    {
     "data": {
      "text/plain": [
       "10"
      ]
     },
     "execution_count": 66,
     "metadata": {},
     "output_type": "execute_result"
    }
   ],
   "source": [
    "1+3*3"
   ]
  },
  {
   "cell_type": "code",
   "execution_count": 67,
   "id": "28ffd86d",
   "metadata": {},
   "outputs": [
    {
     "data": {
      "text/plain": [
       "2.5"
      ]
     },
     "execution_count": 67,
     "metadata": {},
     "output_type": "execute_result"
    }
   ],
   "source": [
    "5/2"
   ]
  },
  {
   "cell_type": "code",
   "execution_count": 68,
   "id": "59fbe4d7",
   "metadata": {},
   "outputs": [
    {
     "data": {
      "text/plain": [
       "2"
      ]
     },
     "execution_count": 68,
     "metadata": {},
     "output_type": "execute_result"
    }
   ],
   "source": [
    "5//2   # floor function"
   ]
  },
  {
   "cell_type": "code",
   "execution_count": 69,
   "id": "42772350",
   "metadata": {},
   "outputs": [
    {
     "data": {
      "text/plain": [
       "8"
      ]
     },
     "execution_count": 69,
     "metadata": {},
     "output_type": "execute_result"
    }
   ],
   "source": [
    "2*2*2"
   ]
  },
  {
   "cell_type": "code",
   "execution_count": 70,
   "id": "7f8b85e3",
   "metadata": {},
   "outputs": [
    {
     "data": {
      "text/plain": [
       "8"
      ]
     },
     "execution_count": 70,
     "metadata": {},
     "output_type": "execute_result"
    }
   ],
   "source": [
    "2**3    # it's power of 2^3"
   ]
  },
  {
   "cell_type": "code",
   "execution_count": 71,
   "id": "8cc210da",
   "metadata": {},
   "outputs": [
    {
     "data": {
      "text/plain": [
       "30"
      ]
     },
     "execution_count": 71,
     "metadata": {},
     "output_type": "execute_result"
    }
   ],
   "source": [
    "(3+2)*6"
   ]
  },
  {
   "cell_type": "code",
   "execution_count": 72,
   "id": "e5c6b31c",
   "metadata": {},
   "outputs": [
    {
     "data": {
      "text/plain": [
       "1"
      ]
     },
     "execution_count": 72,
     "metadata": {},
     "output_type": "execute_result"
    }
   ],
   "source": [
    "10%3"
   ]
  },
  {
   "cell_type": "code",
   "execution_count": 73,
   "id": "aa261828",
   "metadata": {},
   "outputs": [
    {
     "data": {
      "text/plain": [
       "3"
      ]
     },
     "execution_count": 73,
     "metadata": {},
     "output_type": "execute_result"
    }
   ],
   "source": [
    "10//3"
   ]
  },
  {
   "cell_type": "code",
   "execution_count": 74,
   "id": "cafc17b8",
   "metadata": {},
   "outputs": [
    {
     "data": {
      "text/plain": [
       "'chetan'"
      ]
     },
     "execution_count": 74,
     "metadata": {},
     "output_type": "execute_result"
    }
   ],
   "source": [
    "'chetan'"
   ]
  },
  {
   "cell_type": "code",
   "execution_count": 75,
   "id": "74fddb2b",
   "metadata": {},
   "outputs": [
    {
     "name": "stdout",
     "output_type": "stream",
     "text": [
      "chetan\n"
     ]
    }
   ],
   "source": [
    "print('chetan')"
   ]
  },
  {
   "cell_type": "code",
   "execution_count": 76,
   "id": "d62cf280",
   "metadata": {},
   "outputs": [
    {
     "ename": "SyntaxError",
     "evalue": "invalid syntax (2269641823.py, line 1)",
     "output_type": "error",
     "traceback": [
      "\u001b[1;36m  Input \u001b[1;32mIn [76]\u001b[1;36m\u001b[0m\n\u001b[1;33m    print('chetan's mobile')\u001b[0m\n\u001b[1;37m                  ^\u001b[0m\n\u001b[1;31mSyntaxError\u001b[0m\u001b[1;31m:\u001b[0m invalid syntax\n"
     ]
    }
   ],
   "source": [
    "print('chetan's mobile')"
   ]
  },
  {
   "cell_type": "code",
   "execution_count": 77,
   "id": "7e31cd71",
   "metadata": {},
   "outputs": [
    {
     "name": "stdout",
     "output_type": "stream",
     "text": [
      "chetan's mobile\n"
     ]
    }
   ],
   "source": [
    "print(\"chetan's mobile\")"
   ]
  },
  {
   "cell_type": "code",
   "execution_count": 78,
   "id": "6238dcba",
   "metadata": {},
   "outputs": [
    {
     "name": "stdout",
     "output_type": "stream",
     "text": [
      "chetan \"mobile\"\n"
     ]
    }
   ],
   "source": [
    "print('chetan \"mobile\"')"
   ]
  },
  {
   "cell_type": "code",
   "execution_count": 79,
   "id": "2771cf23",
   "metadata": {},
   "outputs": [
    {
     "name": "stdout",
     "output_type": "stream",
     "text": [
      "chetan's mobile\n"
     ]
    }
   ],
   "source": [
    "print('chetan\\'s mobile')"
   ]
  },
  {
   "cell_type": "code",
   "execution_count": 80,
   "id": "2d3d3dc1",
   "metadata": {},
   "outputs": [
    {
     "data": {
      "text/plain": [
       "'chetanahire'"
      ]
     },
     "execution_count": 80,
     "metadata": {},
     "output_type": "execute_result"
    }
   ],
   "source": [
    "  'chetan'+'ahire'"
   ]
  },
  {
   "cell_type": "code",
   "execution_count": 81,
   "id": "578020aa",
   "metadata": {},
   "outputs": [
    {
     "data": {
      "text/plain": [
       "'chetanchetanchetanchetanchetanchetanchetanchetanchetanchetan'"
      ]
     },
     "execution_count": 81,
     "metadata": {},
     "output_type": "execute_result"
    }
   ],
   "source": [
    "10*'chetan'"
   ]
  },
  {
   "cell_type": "code",
   "execution_count": 82,
   "id": "e0835cac",
   "metadata": {},
   "outputs": [
    {
     "name": "stdout",
     "output_type": "stream",
     "text": [
      "c:\\docs\\chetan\n"
     ]
    }
   ],
   "source": [
    "print('c:\\docs\\chetan')"
   ]
  },
  {
   "cell_type": "code",
   "execution_count": 83,
   "id": "d460e173",
   "metadata": {},
   "outputs": [
    {
     "name": "stdout",
     "output_type": "stream",
     "text": [
      "c:\\docs\n",
      "_chetan\n"
     ]
    }
   ],
   "source": [
    "print('c:\\docs\\n_chetan')    # here n is special symbol which used to newline"
   ]
  },
  {
   "cell_type": "code",
   "execution_count": 84,
   "id": "2cf136e7",
   "metadata": {},
   "outputs": [
    {
     "name": "stdout",
     "output_type": "stream",
     "text": [
      "c:\\docs\\n_chetan\n"
     ]
    }
   ],
   "source": [
    "print(r'c:\\docs\\n_chetan')   # it's raw string denoted by 'r'"
   ]
  },
  {
   "cell_type": "code",
   "execution_count": 85,
   "id": "7f588bd0",
   "metadata": {},
   "outputs": [],
   "source": [
    "# variables\n",
    "\n",
    "x = 2"
   ]
  },
  {
   "cell_type": "code",
   "execution_count": 86,
   "id": "93c65b74",
   "metadata": {},
   "outputs": [
    {
     "data": {
      "text/plain": [
       "2"
      ]
     },
     "execution_count": 86,
     "metadata": {},
     "output_type": "execute_result"
    }
   ],
   "source": [
    "x"
   ]
  },
  {
   "cell_type": "code",
   "execution_count": 87,
   "id": "809849ef",
   "metadata": {},
   "outputs": [
    {
     "name": "stdout",
     "output_type": "stream",
     "text": [
      "2\n"
     ]
    }
   ],
   "source": [
    "print(x)"
   ]
  },
  {
   "cell_type": "code",
   "execution_count": 88,
   "id": "49e5b07a",
   "metadata": {},
   "outputs": [
    {
     "data": {
      "text/plain": [
       "5"
      ]
     },
     "execution_count": 88,
     "metadata": {},
     "output_type": "execute_result"
    }
   ],
   "source": [
    "x+3"
   ]
  },
  {
   "cell_type": "code",
   "execution_count": 89,
   "id": "143b34b8",
   "metadata": {},
   "outputs": [],
   "source": [
    "y = 5"
   ]
  },
  {
   "cell_type": "code",
   "execution_count": 90,
   "id": "51bbfb08",
   "metadata": {},
   "outputs": [
    {
     "data": {
      "text/plain": [
       "7"
      ]
     },
     "execution_count": 90,
     "metadata": {},
     "output_type": "execute_result"
    }
   ],
   "source": [
    "x+y"
   ]
  },
  {
   "cell_type": "code",
   "execution_count": 91,
   "id": "d4288ad3",
   "metadata": {},
   "outputs": [],
   "source": [
    "x=7"
   ]
  },
  {
   "cell_type": "code",
   "execution_count": 92,
   "id": "3afa2b4f",
   "metadata": {},
   "outputs": [
    {
     "data": {
      "text/plain": [
       "12"
      ]
     },
     "execution_count": 92,
     "metadata": {},
     "output_type": "execute_result"
    }
   ],
   "source": [
    "x+y"
   ]
  },
  {
   "cell_type": "code",
   "execution_count": 93,
   "id": "8feb9700",
   "metadata": {},
   "outputs": [
    {
     "ename": "NameError",
     "evalue": "name 'test' is not defined",
     "output_type": "error",
     "traceback": [
      "\u001b[1;31m---------------------------------------------------------------------------\u001b[0m",
      "\u001b[1;31mNameError\u001b[0m                                 Traceback (most recent call last)",
      "Input \u001b[1;32mIn [93]\u001b[0m, in \u001b[0;36m<cell line: 1>\u001b[1;34m()\u001b[0m\n\u001b[1;32m----> 1\u001b[0m \u001b[43mtest\u001b[49m\n",
      "\u001b[1;31mNameError\u001b[0m: name 'test' is not defined"
     ]
    }
   ],
   "source": [
    "test  # not defined variable"
   ]
  },
  {
   "cell_type": "code",
   "execution_count": 94,
   "id": "4d90ee1f",
   "metadata": {},
   "outputs": [
    {
     "data": {
      "text/plain": [
       "17"
      ]
     },
     "execution_count": 94,
     "metadata": {},
     "output_type": "execute_result"
    }
   ],
   "source": [
    "_+y"
   ]
  },
  {
   "cell_type": "code",
   "execution_count": 95,
   "id": "ba4feabe",
   "metadata": {},
   "outputs": [
    {
     "data": {
      "text/plain": [
       "17"
      ]
     },
     "execution_count": 95,
     "metadata": {},
     "output_type": "execute_result"
    }
   ],
   "source": [
    "_   # '_' is a special variable in most Python REPLs that represents the result of the last expression evaluated by the interpreter."
   ]
  },
  {
   "cell_type": "code",
   "execution_count": 96,
   "id": "67298c38",
   "metadata": {},
   "outputs": [],
   "source": [
    "name = 'chetan'"
   ]
  },
  {
   "cell_type": "code",
   "execution_count": 97,
   "id": "0ed0dbe2",
   "metadata": {},
   "outputs": [
    {
     "data": {
      "text/plain": [
       "'chetan'"
      ]
     },
     "execution_count": 97,
     "metadata": {},
     "output_type": "execute_result"
    }
   ],
   "source": [
    "name"
   ]
  },
  {
   "cell_type": "code",
   "execution_count": 98,
   "id": "d06f8a0b",
   "metadata": {},
   "outputs": [
    {
     "data": {
      "text/plain": [
       "'chetanchetan'"
      ]
     },
     "execution_count": 98,
     "metadata": {},
     "output_type": "execute_result"
    }
   ],
   "source": [
    "name + 'chetan'"
   ]
  },
  {
   "cell_type": "code",
   "execution_count": 99,
   "id": "53ca5428",
   "metadata": {},
   "outputs": [
    {
     "data": {
      "text/plain": [
       "'c'"
      ]
     },
     "execution_count": 99,
     "metadata": {},
     "output_type": "execute_result"
    }
   ],
   "source": [
    "name[0]"
   ]
  },
  {
   "cell_type": "code",
   "execution_count": 100,
   "id": "33636bea",
   "metadata": {},
   "outputs": [
    {
     "ename": "IndexError",
     "evalue": "string index out of range",
     "output_type": "error",
     "traceback": [
      "\u001b[1;31m---------------------------------------------------------------------------\u001b[0m",
      "\u001b[1;31mIndexError\u001b[0m                                Traceback (most recent call last)",
      "Input \u001b[1;32mIn [100]\u001b[0m, in \u001b[0;36m<cell line: 1>\u001b[1;34m()\u001b[0m\n\u001b[1;32m----> 1\u001b[0m \u001b[43mname\u001b[49m\u001b[43m[\u001b[49m\u001b[38;5;241;43m6\u001b[39;49m\u001b[43m]\u001b[49m\n",
      "\u001b[1;31mIndexError\u001b[0m: string index out of range"
     ]
    }
   ],
   "source": [
    "name[6]"
   ]
  },
  {
   "cell_type": "code",
   "execution_count": 101,
   "id": "6722c5a7",
   "metadata": {},
   "outputs": [
    {
     "data": {
      "text/plain": [
       "'n'"
      ]
     },
     "execution_count": 101,
     "metadata": {},
     "output_type": "execute_result"
    }
   ],
   "source": [
    "name[-1]   # start from revers order"
   ]
  },
  {
   "cell_type": "code",
   "execution_count": 102,
   "id": "959cc084",
   "metadata": {},
   "outputs": [
    {
     "data": {
      "text/plain": [
       "'ch'"
      ]
     },
     "execution_count": 102,
     "metadata": {},
     "output_type": "execute_result"
    }
   ],
   "source": [
    "name[0:2]"
   ]
  },
  {
   "cell_type": "code",
   "execution_count": 103,
   "id": "31e4085b",
   "metadata": {},
   "outputs": [
    {
     "data": {
      "text/plain": [
       "'het'"
      ]
     },
     "execution_count": 103,
     "metadata": {},
     "output_type": "execute_result"
    }
   ],
   "source": [
    "name[1:4]  # start and end point specified"
   ]
  },
  {
   "cell_type": "code",
   "execution_count": 104,
   "id": "d380ef27",
   "metadata": {},
   "outputs": [
    {
     "data": {
      "text/plain": [
       "'chet'"
      ]
     },
     "execution_count": 104,
     "metadata": {},
     "output_type": "execute_result"
    }
   ],
   "source": [
    "name[:4]"
   ]
  },
  {
   "cell_type": "code",
   "execution_count": 105,
   "id": "35076299",
   "metadata": {},
   "outputs": [
    {
     "data": {
      "text/plain": [
       "'hetan'"
      ]
     },
     "execution_count": 105,
     "metadata": {},
     "output_type": "execute_result"
    }
   ],
   "source": [
    "name[1:]"
   ]
  },
  {
   "cell_type": "code",
   "execution_count": 106,
   "id": "c96f1296",
   "metadata": {},
   "outputs": [
    {
     "ename": "TypeError",
     "evalue": "'str' object does not support item assignment",
     "output_type": "error",
     "traceback": [
      "\u001b[1;31m---------------------------------------------------------------------------\u001b[0m",
      "\u001b[1;31mTypeError\u001b[0m                                 Traceback (most recent call last)",
      "Input \u001b[1;32mIn [106]\u001b[0m, in \u001b[0;36m<cell line: 1>\u001b[1;34m()\u001b[0m\n\u001b[1;32m----> 1\u001b[0m name[\u001b[38;5;241m0\u001b[39m] \u001b[38;5;241m=\u001b[39m \u001b[38;5;124m'\u001b[39m\u001b[38;5;124mA\u001b[39m\u001b[38;5;124m'\u001b[39m\n",
      "\u001b[1;31mTypeError\u001b[0m: 'str' object does not support item assignment"
     ]
    }
   ],
   "source": [
    "name[0] = 'A'"
   ]
  },
  {
   "cell_type": "code",
   "execution_count": 107,
   "id": "21159f79",
   "metadata": {},
   "outputs": [
    {
     "data": {
      "text/plain": [
       "'Aan'"
      ]
     },
     "execution_count": 107,
     "metadata": {},
     "output_type": "execute_result"
    }
   ],
   "source": [
    "'A' + name[4:]"
   ]
  },
  {
   "cell_type": "code",
   "execution_count": 108,
   "id": "5092482d",
   "metadata": {},
   "outputs": [
    {
     "data": {
      "text/plain": [
       "6"
      ]
     },
     "execution_count": 108,
     "metadata": {},
     "output_type": "execute_result"
    }
   ],
   "source": [
    "len(name)"
   ]
  },
  {
   "cell_type": "code",
   "execution_count": null,
   "id": "ceaa2a13",
   "metadata": {},
   "outputs": [],
   "source": []
  },
  {
   "cell_type": "code",
   "execution_count": null,
   "id": "3e517b88",
   "metadata": {},
   "outputs": [],
   "source": []
  },
  {
   "cell_type": "code",
   "execution_count": null,
   "id": "71395c43",
   "metadata": {},
   "outputs": [],
   "source": []
  }
 ],
 "metadata": {
  "kernelspec": {
   "display_name": "Python 3 (ipykernel)",
   "language": "python",
   "name": "python3"
  },
  "language_info": {
   "codemirror_mode": {
    "name": "ipython",
    "version": 3
   },
   "file_extension": ".py",
   "mimetype": "text/x-python",
   "name": "python",
   "nbconvert_exporter": "python",
   "pygments_lexer": "ipython3",
   "version": "3.9.12"
  }
 },
 "nbformat": 4,
 "nbformat_minor": 5
}
