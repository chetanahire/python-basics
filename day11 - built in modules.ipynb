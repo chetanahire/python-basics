{
 "cells": [
  {
   "cell_type": "markdown",
   "id": "c1f01e6e",
   "metadata": {},
   "source": [
    "# library = module"
   ]
  },
  {
   "cell_type": "code",
   "execution_count": 50,
   "id": "c2b85bca",
   "metadata": {},
   "outputs": [
    {
     "name": "stdout",
     "output_type": "stream",
     "text": [
      "\n",
      "Please wait a moment while I gather a list of all available modules...\n",
      "\n",
      "Cython              conda               msvcrt              sphinx\n",
      "IPython             conda_build         multidict           sphinxify\n",
      "OpenSSL             conda_content_trust multipledispatch    sphinxthread\n",
      "PIL                 conda_env           multiprocessing     spyder\n",
      "PyQt5               conda_pack          munkres             spyder_kernels\n",
      "TBB                 conda_package_handling mypackage           sqlalchemy\n",
      "__future__          conda_token         mypy_extensions     sqlite3\n",
      "_abc                conda_verify        nacl                sre_compile\n",
      "_aix_support        conf                navigator_updater   sre_constants\n",
      "_argon2_cffi_bindings configparser        nbclassic           sre_parse\n",
      "_ast                conftest            nbclient            ssl\n",
      "_asyncio            constantly          nbconvert           sspi\n",
      "_bisect             contextlib          nbformat            sspicon\n",
      "_black_version      contextvars         nest_asyncio        stack_data\n",
      "_blake2             cookiecutter        netbios             stat\n",
      "_bootlocale         copy                netrc               statistics\n",
      "_bootsubprocess     copyreg             networkx            statsmodels\n",
      "_bz2                crypt               nltk                string\n",
      "_cffi_backend       cryptography        nntplib             stringprep\n",
      "_codecs             cssselect           nose                struct\n",
      "_codecs_cn          csv                 notebook            subprocess\n",
      "_codecs_hk          ctypes              nt                  sunau\n",
      "_codecs_iso2022     curl                ntpath              symbol\n",
      "_codecs_jp          curses              ntsecuritycon       sympy\n",
      "_codecs_kr          cwp                 nturl2path          symtable\n",
      "_codecs_tw          cycler              numba               sys\n",
      "_collections        cython              numbergen           sysconfig\n",
      "_collections_abc    cytoolz             numbers             tables\n",
      "_compat_pickle      daal4py             numexpr             tabnanny\n",
      "_compression        dask                numpy               tabulate\n",
      "_contextvars        dataclasses         numpydoc            tarfile\n",
      "_csv                datashader          odbc                tbb\n",
      "_ctypes             datashape           olefile             tblib\n",
      "_ctypes_test        datetime            onedal              telnetlib\n",
      "_datetime           dateutil            opcode              tempfile\n",
      "_decimal            dbi                 openpyxl            tenacity\n",
      "_distutils_hack     dbm                 operator            terminado\n",
      "_elementtree        dde                 optparse            test\n",
      "_functools          debugpy             os                  test_connect\n",
      "_hashlib            decimal             packaging           test_core\n",
      "_heapq              decorator           pandas              test_cosmology\n",
      "_imp                defusedxml          pandocfilters       test_flrw\n",
      "_io                 deprecated          panel               test_funcs\n",
      "_json               diff_match_patch    param               test_parameter\n",
      "_locale             difflib             paramiko            test_pickle\n",
      "_lsprof             dis                 parsel              test_pycosat\n",
      "_lzma               distributed         parser              test_realizations\n",
      "_markupbase         distutils           parso               test_units\n",
      "_md5                doctest             partd               test_utils\n",
      "_msi                docutils            past                testpath\n",
      "_multibytecodec     email               pathlib             text_unidecode\n",
      "_multiprocessing    encodings           pathspec            textdistance\n",
      "_nsis               ensurepip           patsy               textwrap\n",
      "_opcode             entrypoints         pdb                 this\n",
      "_operator           enum                pep8                threading\n",
      "_osx_support        erfa                perfmon             threadpoolctl\n",
      "_overlapped         errno               pexpect             three_merge\n",
      "_peg_parser         et_xmlfile          pickle              tifffile\n",
      "_pickle             executing           pickleshare         time\n",
      "_plotly_future_     fastjsonschema      pickletools         timeit\n",
      "_plotly_utils       faulthandler        pip                 timer\n",
      "_py_abc             filecmp             pipes               tinycss\n",
      "_pydecimal          fileinput           pkg_resources       tkinter\n",
      "_pyio               filelock            pkginfo             tldextract\n",
      "_pyrsistent_version flake8              pkgutil             tlz\n",
      "_pytest             flask               platform            token\n",
      "_queue              fnmatch             plistlib            tokenize\n",
      "_random             fontTools           plotly              toml\n",
      "_sha1               formatter           pluggy              tomli\n",
      "_sha256             fractions           poplib              toolz\n",
      "_sha3               frozenlist          posixpath           tornado\n",
      "_sha512             fsspec              poyo                tqdm\n",
      "_signal             ftplib              pprint              trace\n",
      "_sitebuiltins       functools           profile             traceback\n",
      "_socket             future              prometheus_client   tracemalloc\n",
      "_sqlite3            gc                  prompt_toolkit      traitlets\n",
      "_sre                genericpath         protego             tty\n",
      "_ssl                gensim              pstats              turtle\n",
      "_stat               getopt              psutil              turtledemo\n",
      "_statistics         getpass             pty                 twisted\n",
      "_string             gettext             ptyprocess          typed_ast\n",
      "_strptime           glob                pure_eval           types\n",
      "_struct             glob2               pvectorc            typing\n",
      "_symtable           google_crc32c       py                  typing_extensions\n",
      "_system_path        graphlib            py_compile          ujson\n",
      "_testbuffer         greenlet            pyasn1              unicodedata\n",
      "_testcapi           grpc                pyasn1_modules      unidecode\n",
      "_testconsole        gzip                pyclbr              unittest\n",
      "_testimportmultiple h5py                pycodestyle         urllib\n",
      "_testinternalcapi   hamcrest            pycosat             urllib3\n",
      "_testmultiphase     hashlib             pycparser           uu\n",
      "_thread             heapdict            pyct                uuid\n",
      "_threading_local    heapq               pycurl              venv\n",
      "_tkinter            hmac                pydispatch          w3lib\n",
      "_tracemalloc        holoviews           pydoc               warnings\n",
      "_uuid               html                pydoc_data          watchdog\n",
      "_warnings           http                pydocstyle          wave\n",
      "_weakref            hvplot              pyexpat             wcwidth\n",
      "_weakrefset         hyperlink           pyflakes            weakref\n",
      "_win32sysloader     idlelib             pygments            webbrowser\n",
      "_winapi             idna                pylab               webencodings\n",
      "_winxptheme         imagecodecs         pylint              websocket\n",
      "_xxsubinterpreters  imageio             pyls_spyder         werkzeug\n",
      "_yaml               imagesize           pylsp               wheel\n",
      "_zoneinfo           imaplib             pylsp_black         widgetsnbextension\n",
      "abc                 imghdr              pylsp_jsonrpc       win2kras\n",
      "adodbapi            imp                 pyodbc              win32api\n",
      "afxres              importlib           pyparsing           win32clipboard\n",
      "aifc                importlib_metadata  pyreadline          win32com\n",
      "aiohttp             incremental         pyrsistent          win32con\n",
      "aiosignal           inflection          pytest              win32console\n",
      "alabaster           iniconfig           pythoncom           win32cred\n",
      "anaconda_navigator  inspect             pytz                win32crypt\n",
      "anaconda_project    intake              pyviz_comms         win32cryptcon\n",
      "antigravity         intervaltree        pywin               win32ctypes\n",
      "anyio               io                  pywin32_bootstrap   win32event\n",
      "appdirs             ipaddress           pywin32_testutil    win32evtlog\n",
      "argon2              ipykernel           pywintypes          win32evtlogutil\n",
      "argparse            ipykernel_launcher  pywt                win32file\n",
      "array               ipython_genutils    pyximport           win32gui\n",
      "arrow               ipywidgets          qdarkstyle          win32gui_struct\n",
      "ast                 isapi               qstylizer           win32help\n",
      "astroid             isort               qtawesome           win32inet\n",
      "astropy             isympy              qtconsole           win32inetcon\n",
      "asttokens           itemadapter         qtpy                win32job\n",
      "async_timeout       itemloaders         queue               win32lz\n",
      "asynchat            itertools           queuelib            win32net\n",
      "asyncio             itsdangerous        quopri              win32netcon\n",
      "asyncore            jdcal               random              win32pdh\n",
      "atexit              jedi                rasutil             win32pdhquery\n",
      "atomicwrites        jinja2              re                  win32pdhutil\n",
      "attr                jinja2_time         readline            win32pipe\n",
      "attrs               jmespath            redis               win32print\n",
      "audioop             joblib              regcheck            win32process\n",
      "automat             json                regex               win32profile\n",
      "autopep8            json5               regutil             win32ras\n",
      "babel               jsonschema          repo_cli            win32rcparser\n",
      "backcall            jupyter             reprlib             win32security\n",
      "backports           jupyter_client      requests            win32service\n",
      "base64              jupyter_console     requests_file       win32serviceutil\n",
      "bcrypt              jupyter_core        rlcompleter         win32timezone\n",
      "bdb                 jupyter_server      rope                win32trace\n",
      "binaryornot         jupyterlab          rq                  win32traceutil\n",
      "binascii            jupyterlab_plotly   rsa                 win32transaction\n",
      "binhex              jupyterlab_pygments rtree               win32ts\n",
      "binstar_client      jupyterlab_server   ruamel_yaml         win32ui\n",
      "bisect              jupyterlab_widgets  run                 win32uiole\n",
      "bitarray            jwt                 runpy               win32verstamp\n",
      "bkcharts            keyring             s3transfer          win32wnet\n",
      "black               keyword             sched               win_inet_pton\n",
      "blackd              kiwisolver          scipy               win_unicode_console\n",
      "bleach              lazy_object_proxy   scrapy              wincertstore\n",
      "blib2to3            lib2to3             seaborn             winerror\n",
      "bokeh               libarchive          secrets             winioctlcon\n",
      "boto3               libfuturize         select              winnt\n",
      "botocore            libpasteurize       selectors           winperf\n",
      "bottleneck          lief                send2trash          winpty\n",
      "brotli              linecache           service_identity    winreg\n",
      "bs4                 llvmlite            servicemanager      winsound\n",
      "builtins            locale              setuptools          winxpgui\n",
      "bz2                 locket              shelve              winxptheme\n",
      "cProfile            logging             shlex               wrapt\n",
      "cachetools          lxml                shutil              wsgiref\n",
      "calendar            lzma                signal              xarray\n",
      "certifi             mailbox             sip                 xdrlib\n",
      "cffi                mailcap             sipconfig           xlrd\n",
      "cgi                 markdown            sipdistutils        xlsxwriter\n",
      "cgitb               markupsafe          site                xlwings\n",
      "chardet             marshal             six                 xml\n",
      "charset_normalizer  math                skimage             xmlrpc\n",
      "chunk               matplotlib          sklearn             xxsubtype\n",
      "click               matplotlib_inline   sklearnex           yaml\n",
      "cloudpickle         mccabe              slugify             yapf\n",
      "clyent              menuinst            smart_open          yapftests\n",
      "cmath               mimetypes           smtpd               yarl\n",
      "cmd                 mistune             smtplib             zict\n",
      "code                mkl                 snappy              zipapp\n",
      "codecs              mkl_fft             sndhdr              zipfile\n",
      "codeop              mkl_random          sniffio             zipimport\n",
      "collections         mmap                snowballstemmer     zipp\n",
      "colorama            mmapfile            socket              zlib\n",
      "colorcet            mmsystem            socketserver        zmq\n",
      "colorsys            mock                socks               zoneinfo\n",
      "commctrl            modulefinder        sockshandler        zope\n",
      "compileall          mpmath              sortedcollections   \n",
      "comtypes            msgpack             sortedcontainers    \n",
      "concurrent          msilib              soupsieve           \n",
      "\n",
      "Enter any module name to get more help.  Or, type \"modules spam\" to search\n",
      "for modules whose name or summary contain the string \"spam\".\n",
      "\n"
     ]
    }
   ],
   "source": [
    "help('modules')"
   ]
  },
  {
   "cell_type": "code",
   "execution_count": 2,
   "id": "b4698066",
   "metadata": {},
   "outputs": [],
   "source": [
    "import math"
   ]
  },
  {
   "cell_type": "code",
   "execution_count": 4,
   "id": "7023469a",
   "metadata": {},
   "outputs": [
    {
     "data": {
      "text/plain": [
       "3.141592653589793"
      ]
     },
     "execution_count": 4,
     "metadata": {},
     "output_type": "execute_result"
    }
   ],
   "source": [
    "math.pi"
   ]
  },
  {
   "cell_type": "code",
   "execution_count": 5,
   "id": "f855d1c2",
   "metadata": {},
   "outputs": [
    {
     "data": {
      "text/plain": [
       "2.718281828459045"
      ]
     },
     "execution_count": 5,
     "metadata": {},
     "output_type": "execute_result"
    }
   ],
   "source": [
    "math.e"
   ]
  },
  {
   "cell_type": "code",
   "execution_count": 6,
   "id": "36168f43",
   "metadata": {},
   "outputs": [
    {
     "data": {
      "text/plain": [
       "120"
      ]
     },
     "execution_count": 6,
     "metadata": {},
     "output_type": "execute_result"
    }
   ],
   "source": [
    "math.factorial(5)"
   ]
  },
  {
   "cell_type": "code",
   "execution_count": 7,
   "id": "82236e1b",
   "metadata": {},
   "outputs": [
    {
     "data": {
      "text/plain": [
       "4"
      ]
     },
     "execution_count": 7,
     "metadata": {},
     "output_type": "execute_result"
    }
   ],
   "source": [
    "math.ceil(3.4)"
   ]
  },
  {
   "cell_type": "code",
   "execution_count": 8,
   "id": "9fed1773",
   "metadata": {},
   "outputs": [
    {
     "data": {
      "text/plain": [
       "3"
      ]
     },
     "execution_count": 8,
     "metadata": {},
     "output_type": "execute_result"
    }
   ],
   "source": [
    "math.floor(3.4)"
   ]
  },
  {
   "cell_type": "code",
   "execution_count": 9,
   "id": "eb6044a5",
   "metadata": {},
   "outputs": [
    {
     "data": {
      "text/plain": [
       "inf"
      ]
     },
     "execution_count": 9,
     "metadata": {},
     "output_type": "execute_result"
    }
   ],
   "source": [
    "math.inf"
   ]
  },
  {
   "cell_type": "code",
   "execution_count": 10,
   "id": "6769176b",
   "metadata": {},
   "outputs": [
    {
     "data": {
      "text/plain": [
       "10.0"
      ]
     },
     "execution_count": 10,
     "metadata": {},
     "output_type": "execute_result"
    }
   ],
   "source": [
    "math.sqrt(100)"
   ]
  },
  {
   "cell_type": "markdown",
   "id": "de415f72",
   "metadata": {},
   "source": [
    "# import random"
   ]
  },
  {
   "cell_type": "code",
   "execution_count": 11,
   "id": "e54f7241",
   "metadata": {},
   "outputs": [],
   "source": [
    "import random"
   ]
  },
  {
   "cell_type": "code",
   "execution_count": 12,
   "id": "3f0d7288",
   "metadata": {},
   "outputs": [
    {
     "data": {
      "text/plain": [
       "9"
      ]
     },
     "execution_count": 12,
     "metadata": {},
     "output_type": "execute_result"
    }
   ],
   "source": [
    "random.randint(1,20)"
   ]
  },
  {
   "cell_type": "code",
   "execution_count": 21,
   "id": "a4d59f64",
   "metadata": {},
   "outputs": [
    {
     "name": "stdout",
     "output_type": "stream",
     "text": [
      "[4, 6, 1, 5, 9, 3, 7, 2, 8]\n"
     ]
    }
   ],
   "source": [
    "a = [1,2,3,4,5,6,7,8,9]\n",
    "random.shuffle(a)\n",
    "print(a)"
   ]
  },
  {
   "cell_type": "code",
   "execution_count": 22,
   "id": "bfadaf63",
   "metadata": {},
   "outputs": [
    {
     "data": {
      "text/plain": [
       "[4, 6, 1, 5, 9, 3, 7, 2, 8]"
      ]
     },
     "execution_count": 22,
     "metadata": {},
     "output_type": "execute_result"
    }
   ],
   "source": [
    "a"
   ]
  },
  {
   "cell_type": "markdown",
   "id": "2a4ea49b",
   "metadata": {},
   "source": [
    "# import time"
   ]
  },
  {
   "cell_type": "code",
   "execution_count": 23,
   "id": "f8a44d7c",
   "metadata": {},
   "outputs": [],
   "source": [
    "import time"
   ]
  },
  {
   "cell_type": "code",
   "execution_count": 35,
   "id": "e4152fd1",
   "metadata": {},
   "outputs": [
    {
     "data": {
      "text/plain": [
       "1664472540.0209613"
      ]
     },
     "execution_count": 35,
     "metadata": {},
     "output_type": "execute_result"
    }
   ],
   "source": [
    "time.time()"
   ]
  },
  {
   "cell_type": "code",
   "execution_count": 44,
   "id": "526a4e89",
   "metadata": {},
   "outputs": [
    {
     "data": {
      "text/plain": [
       "'Thu Sep 29 22:59:18 2022'"
      ]
     },
     "execution_count": 44,
     "metadata": {},
     "output_type": "execute_result"
    }
   ],
   "source": [
    "time.ctime()"
   ]
  },
  {
   "cell_type": "code",
   "execution_count": 45,
   "id": "3f131a37",
   "metadata": {},
   "outputs": [
    {
     "name": "stdout",
     "output_type": "stream",
     "text": [
      "hello\n",
      "chetan\n"
     ]
    }
   ],
   "source": [
    "print('hello')\n",
    "time.sleep(1)\n",
    "print('chetan')"
   ]
  },
  {
   "cell_type": "markdown",
   "id": "e11ab515",
   "metadata": {},
   "source": [
    "# import os"
   ]
  },
  {
   "cell_type": "code",
   "execution_count": 46,
   "id": "68dfd572",
   "metadata": {},
   "outputs": [],
   "source": [
    "import os"
   ]
  },
  {
   "cell_type": "code",
   "execution_count": 47,
   "id": "9658fb89",
   "metadata": {},
   "outputs": [
    {
     "data": {
      "text/plain": [
       "'C:\\\\Users\\\\cheta\\\\100 Days Python'"
      ]
     },
     "execution_count": 47,
     "metadata": {},
     "output_type": "execute_result"
    }
   ],
   "source": [
    "os.getcwd()"
   ]
  },
  {
   "cell_type": "code",
   "execution_count": 48,
   "id": "a239bb7b",
   "metadata": {},
   "outputs": [
    {
     "data": {
      "text/plain": [
       "['.ipynb_checkpoints',\n",
       " 'day1 - Getting Started.ipynb',\n",
       " 'day10 - build in functions.ipynb',\n",
       " 'day11 - built in modules.ipynb',\n",
       " 'day2 - inbuilt functions.ipynb',\n",
       " 'day3 - tuple set.ipynb',\n",
       " 'day4 - Data Types.ipynb',\n",
       " 'day5 - Operators , conversions.ipynb',\n",
       " 'day6 - user input.ipynb',\n",
       " 'day7 - conditional statement and loops.ipynb',\n",
       " 'day8 - examples.ipynb',\n",
       " 'day9 - break continue pass.ipynb']"
      ]
     },
     "execution_count": 48,
     "metadata": {},
     "output_type": "execute_result"
    }
   ],
   "source": [
    "os.listdir()"
   ]
  },
  {
   "cell_type": "code",
   "execution_count": null,
   "id": "6ac8fc97",
   "metadata": {},
   "outputs": [],
   "source": []
  }
 ],
 "metadata": {
  "kernelspec": {
   "display_name": "Python 3 (ipykernel)",
   "language": "python",
   "name": "python3"
  },
  "language_info": {
   "codemirror_mode": {
    "name": "ipython",
    "version": 3
   },
   "file_extension": ".py",
   "mimetype": "text/x-python",
   "name": "python",
   "nbconvert_exporter": "python",
   "pygments_lexer": "ipython3",
   "version": "3.9.12"
  }
 },
 "nbformat": 4,
 "nbformat_minor": 5
}
