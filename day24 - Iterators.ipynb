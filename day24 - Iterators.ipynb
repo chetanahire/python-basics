{
 "cells": [
  {
   "cell_type": "markdown",
   "id": "2bc35d32",
   "metadata": {},
   "source": [
    "### What is an Iteration"
   ]
  },
  {
   "cell_type": "markdown",
   "id": "3d0dc660",
   "metadata": {},
   "source": [
    "Iteration is an general term for taking each item of something, one after another. Any time you use a loop, explicit or implicit, to go over a group of items, that is iteration"
   ]
  },
  {
   "cell_type": "code",
   "execution_count": 5,
   "id": "b42b5494",
   "metadata": {},
   "outputs": [
    {
     "name": "stdout",
     "output_type": "stream",
     "text": [
      "1\n",
      "2\n",
      "3\n"
     ]
    }
   ],
   "source": [
    "# example\n",
    "\n",
    "L = [1, 2, 3]\n",
    "\n",
    "for i in L:\n",
    "    print(i)"
   ]
  },
  {
   "cell_type": "markdown",
   "id": "881c6f0c",
   "metadata": {},
   "source": [
    "### What is Iterator"
   ]
  },
  {
   "cell_type": "markdown",
   "id": "b261b87c",
   "metadata": {},
   "source": [
    "An Iterator is an object that allows the programmer to traverse through a sequence of data without having store the entire data in memory"
   ]
  },
  {
   "cell_type": "code",
   "execution_count": 11,
   "id": "f82be2eb",
   "metadata": {},
   "outputs": [
    {
     "name": "stdout",
     "output_type": "stream",
     "text": [
      "1330.875\n",
      "0.75\n"
     ]
    }
   ],
   "source": [
    "# example\n",
    "L = [x for x in range(1, 10000)]\n",
    "\n",
    "# for i in L:\n",
    "#     print(i*2)\n",
    "\n",
    "import sys\n",
    "\n",
    "print(sys.getsizeof(L)/64)\n",
    "\n",
    "x = range(1, 10000)\n",
    "\n",
    "# for i in x:\n",
    "#     print(i)\n",
    "\n",
    "print(sys.getsizeof(x)/64)"
   ]
  },
  {
   "cell_type": "markdown",
   "id": "77bae086",
   "metadata": {},
   "source": [
    "### What is Iterable"
   ]
  },
  {
   "cell_type": "markdown",
   "id": "9c834cbb",
   "metadata": {},
   "source": [
    "Iterable is an object, which one can iterate over\n",
    "It generate an iterator when passed to iter() method."
   ]
  },
  {
   "cell_type": "code",
   "execution_count": 15,
   "id": "17a05309",
   "metadata": {},
   "outputs": [
    {
     "data": {
      "text/plain": [
       "list_iterator"
      ]
     },
     "execution_count": 15,
     "metadata": {},
     "output_type": "execute_result"
    }
   ],
   "source": [
    "# example\n",
    "L = [1, 2, 3]\n",
    "type(L)\n",
    "\n",
    "# L is an iterable\n",
    "type(iter(L))\n",
    "\n",
    "# iter(L) --> iterator"
   ]
  },
  {
   "cell_type": "code",
   "execution_count": null,
   "id": "afde0e20",
   "metadata": {},
   "outputs": [],
   "source": []
  }
 ],
 "metadata": {
  "kernelspec": {
   "display_name": "Python 3 (ipykernel)",
   "language": "python",
   "name": "python3"
  },
  "language_info": {
   "codemirror_mode": {
    "name": "ipython",
    "version": 3
   },
   "file_extension": ".py",
   "mimetype": "text/x-python",
   "name": "python",
   "nbconvert_exporter": "python",
   "pygments_lexer": "ipython3",
   "version": "3.9.12"
  }
 },
 "nbformat": 4,
 "nbformat_minor": 5
}
