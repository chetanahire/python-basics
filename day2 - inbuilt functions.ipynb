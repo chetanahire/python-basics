{
 "cells": [
  {
   "cell_type": "markdown",
   "id": "9cdb1558",
   "metadata": {},
   "source": [
    "# List"
   ]
  },
  {
   "cell_type": "code",
   "execution_count": 24,
   "id": "206f866a",
   "metadata": {},
   "outputs": [],
   "source": [
    "nums = [2,4,5,7,8,3]"
   ]
  },
  {
   "cell_type": "code",
   "execution_count": 25,
   "id": "afbf1161",
   "metadata": {},
   "outputs": [
    {
     "data": {
      "text/plain": [
       "[2, 4, 5, 7, 8, 3]"
      ]
     },
     "execution_count": 25,
     "metadata": {},
     "output_type": "execute_result"
    }
   ],
   "source": [
    "nums"
   ]
  },
  {
   "cell_type": "code",
   "execution_count": 26,
   "id": "771b7e4d",
   "metadata": {},
   "outputs": [
    {
     "data": {
      "text/plain": [
       "2"
      ]
     },
     "execution_count": 26,
     "metadata": {},
     "output_type": "execute_result"
    }
   ],
   "source": [
    "nums[0]"
   ]
  },
  {
   "cell_type": "code",
   "execution_count": 27,
   "id": "fe72977c",
   "metadata": {},
   "outputs": [
    {
     "data": {
      "text/plain": [
       "8"
      ]
     },
     "execution_count": 27,
     "metadata": {},
     "output_type": "execute_result"
    }
   ],
   "source": [
    "nums[4]"
   ]
  },
  {
   "cell_type": "code",
   "execution_count": 28,
   "id": "8192fd04",
   "metadata": {},
   "outputs": [
    {
     "data": {
      "text/plain": [
       "3"
      ]
     },
     "execution_count": 28,
     "metadata": {},
     "output_type": "execute_result"
    }
   ],
   "source": [
    "nums[-1]"
   ]
  },
  {
   "cell_type": "code",
   "execution_count": 29,
   "id": "c599d96b",
   "metadata": {},
   "outputs": [
    {
     "data": {
      "text/plain": [
       "2"
      ]
     },
     "execution_count": 29,
     "metadata": {},
     "output_type": "execute_result"
    }
   ],
   "source": [
    "nums[-6]\n"
   ]
  },
  {
   "cell_type": "code",
   "execution_count": 30,
   "id": "1f1f92a1",
   "metadata": {},
   "outputs": [
    {
     "data": {
      "text/plain": [
       "2"
      ]
     },
     "execution_count": 30,
     "metadata": {},
     "output_type": "execute_result"
    }
   ],
   "source": [
    "nums[0]"
   ]
  },
  {
   "cell_type": "code",
   "execution_count": 31,
   "id": "b7bd4c5b",
   "metadata": {},
   "outputs": [],
   "source": [
    "names= ['chetan','ahire']"
   ]
  },
  {
   "cell_type": "code",
   "execution_count": 32,
   "id": "05b88117",
   "metadata": {},
   "outputs": [
    {
     "data": {
      "text/plain": [
       "['chetan', 'ahire']"
      ]
     },
     "execution_count": 32,
     "metadata": {},
     "output_type": "execute_result"
    }
   ],
   "source": [
    "names"
   ]
  },
  {
   "cell_type": "code",
   "execution_count": 33,
   "id": "f5d14579",
   "metadata": {},
   "outputs": [
    {
     "data": {
      "text/plain": [
       "'chetan'"
      ]
     },
     "execution_count": 33,
     "metadata": {},
     "output_type": "execute_result"
    }
   ],
   "source": [
    "names[0]"
   ]
  },
  {
   "cell_type": "code",
   "execution_count": 34,
   "id": "afdd2e4d",
   "metadata": {},
   "outputs": [],
   "source": [
    "items = [123,'chetan', '20/20/2022']"
   ]
  },
  {
   "cell_type": "code",
   "execution_count": 35,
   "id": "6a994263",
   "metadata": {},
   "outputs": [
    {
     "data": {
      "text/plain": [
       "[123, 'chetan', '20/20/2022']"
      ]
     },
     "execution_count": 35,
     "metadata": {},
     "output_type": "execute_result"
    }
   ],
   "source": [
    "items"
   ]
  },
  {
   "cell_type": "code",
   "execution_count": 36,
   "id": "8edba76c",
   "metadata": {},
   "outputs": [],
   "source": [
    "mil = [nums, items]  #list of lists"
   ]
  },
  {
   "cell_type": "code",
   "execution_count": 37,
   "id": "02e01f29",
   "metadata": {},
   "outputs": [
    {
     "data": {
      "text/plain": [
       "[[2, 4, 5, 7, 8, 3], [123, 'chetan', '20/20/2022']]"
      ]
     },
     "execution_count": 37,
     "metadata": {},
     "output_type": "execute_result"
    }
   ],
   "source": [
    "mil"
   ]
  },
  {
   "cell_type": "code",
   "execution_count": 38,
   "id": "49f7c40b",
   "metadata": {},
   "outputs": [],
   "source": [
    "names.append('nikhil') # append at end"
   ]
  },
  {
   "cell_type": "code",
   "execution_count": 39,
   "id": "cfd75f01",
   "metadata": {},
   "outputs": [
    {
     "data": {
      "text/plain": [
       "['chetan', 'ahire', 'nikhil']"
      ]
     },
     "execution_count": 39,
     "metadata": {},
     "output_type": "execute_result"
    }
   ],
   "source": [
    "names"
   ]
  },
  {
   "cell_type": "code",
   "execution_count": 40,
   "id": "83a42df1",
   "metadata": {},
   "outputs": [],
   "source": [
    "names.insert(2,'dipak')  # insert at index"
   ]
  },
  {
   "cell_type": "code",
   "execution_count": 41,
   "id": "3931300e",
   "metadata": {},
   "outputs": [
    {
     "data": {
      "text/plain": [
       "['chetan', 'ahire', 'dipak', 'nikhil']"
      ]
     },
     "execution_count": 41,
     "metadata": {},
     "output_type": "execute_result"
    }
   ],
   "source": [
    "names"
   ]
  },
  {
   "cell_type": "code",
   "execution_count": 42,
   "id": "44fb1b92",
   "metadata": {},
   "outputs": [],
   "source": [
    "names.remove('dipak')"
   ]
  },
  {
   "cell_type": "code",
   "execution_count": 43,
   "id": "0da5717d",
   "metadata": {},
   "outputs": [
    {
     "data": {
      "text/plain": [
       "['chetan', 'ahire', 'nikhil']"
      ]
     },
     "execution_count": 43,
     "metadata": {},
     "output_type": "execute_result"
    }
   ],
   "source": [
    "names"
   ]
  },
  {
   "cell_type": "code",
   "execution_count": 46,
   "id": "acb44bd6",
   "metadata": {},
   "outputs": [
    {
     "data": {
      "text/plain": [
       "'ahire'"
      ]
     },
     "execution_count": 46,
     "metadata": {},
     "output_type": "execute_result"
    }
   ],
   "source": [
    "names.pop(1)"
   ]
  },
  {
   "cell_type": "code",
   "execution_count": 47,
   "id": "786b0a9d",
   "metadata": {},
   "outputs": [
    {
     "data": {
      "text/plain": [
       "['chetan', 'nikhil']"
      ]
     },
     "execution_count": 47,
     "metadata": {},
     "output_type": "execute_result"
    }
   ],
   "source": [
    "names"
   ]
  },
  {
   "cell_type": "code",
   "execution_count": 48,
   "id": "1079b3af",
   "metadata": {},
   "outputs": [
    {
     "data": {
      "text/plain": [
       "'nikhil'"
      ]
     },
     "execution_count": 48,
     "metadata": {},
     "output_type": "execute_result"
    }
   ],
   "source": [
    "names.pop()"
   ]
  },
  {
   "cell_type": "code",
   "execution_count": 49,
   "id": "cd3a3f80",
   "metadata": {},
   "outputs": [
    {
     "data": {
      "text/plain": [
       "['chetan']"
      ]
     },
     "execution_count": 49,
     "metadata": {},
     "output_type": "execute_result"
    }
   ],
   "source": [
    "names"
   ]
  },
  {
   "cell_type": "code",
   "execution_count": 50,
   "id": "58632439",
   "metadata": {},
   "outputs": [
    {
     "ename": "TypeError",
     "evalue": "list.extend() takes exactly one argument (4 given)",
     "output_type": "error",
     "traceback": [
      "\u001b[1;31m---------------------------------------------------------------------------\u001b[0m",
      "\u001b[1;31mTypeError\u001b[0m                                 Traceback (most recent call last)",
      "Input \u001b[1;32mIn [50]\u001b[0m, in \u001b[0;36m<cell line: 3>\u001b[1;34m()\u001b[0m\n\u001b[0;32m      1\u001b[0m \u001b[38;5;66;03m#add multiple values \u001b[39;00m\n\u001b[1;32m----> 3\u001b[0m \u001b[43mnums\u001b[49m\u001b[38;5;241;43m.\u001b[39;49m\u001b[43mextend\u001b[49m\u001b[43m(\u001b[49m\u001b[38;5;241;43m23\u001b[39;49m\u001b[43m,\u001b[49m\u001b[38;5;241;43m34\u001b[39;49m\u001b[43m,\u001b[49m\u001b[38;5;241;43m76\u001b[39;49m\u001b[43m,\u001b[49m\u001b[38;5;241;43m12\u001b[39;49m\u001b[43m)\u001b[49m\n",
      "\u001b[1;31mTypeError\u001b[0m: list.extend() takes exactly one argument (4 given)"
     ]
    }
   ],
   "source": [
    "#add multiple values \n",
    "\n",
    "nums.extend(23,34,76,12)"
   ]
  },
  {
   "cell_type": "code",
   "execution_count": 51,
   "id": "0641f823",
   "metadata": {},
   "outputs": [],
   "source": [
    "nums.extend([23,34,76,12])"
   ]
  },
  {
   "cell_type": "code",
   "execution_count": 52,
   "id": "3a8584b8",
   "metadata": {},
   "outputs": [
    {
     "data": {
      "text/plain": [
       "[2, 5, 7, 8, 23, 34, 76, 12]"
      ]
     },
     "execution_count": 52,
     "metadata": {},
     "output_type": "execute_result"
    }
   ],
   "source": [
    "nums"
   ]
  },
  {
   "cell_type": "code",
   "execution_count": 53,
   "id": "c02d37cb",
   "metadata": {},
   "outputs": [
    {
     "data": {
      "text/plain": [
       "2"
      ]
     },
     "execution_count": 53,
     "metadata": {},
     "output_type": "execute_result"
    }
   ],
   "source": [
    "min(nums)"
   ]
  },
  {
   "cell_type": "code",
   "execution_count": 54,
   "id": "0606430a",
   "metadata": {},
   "outputs": [
    {
     "data": {
      "text/plain": [
       "76"
      ]
     },
     "execution_count": 54,
     "metadata": {},
     "output_type": "execute_result"
    }
   ],
   "source": [
    "max(nums)"
   ]
  },
  {
   "cell_type": "code",
   "execution_count": 55,
   "id": "0c0a1fd9",
   "metadata": {},
   "outputs": [
    {
     "data": {
      "text/plain": [
       "167"
      ]
     },
     "execution_count": 55,
     "metadata": {},
     "output_type": "execute_result"
    }
   ],
   "source": [
    "sum(nums)"
   ]
  },
  {
   "cell_type": "code",
   "execution_count": 56,
   "id": "d52acc0e",
   "metadata": {},
   "outputs": [],
   "source": [
    "nums.sort()"
   ]
  },
  {
   "cell_type": "code",
   "execution_count": 57,
   "id": "08adc688",
   "metadata": {},
   "outputs": [
    {
     "data": {
      "text/plain": [
       "[2, 5, 7, 8, 12, 23, 34, 76]"
      ]
     },
     "execution_count": 57,
     "metadata": {},
     "output_type": "execute_result"
    }
   ],
   "source": [
    "nums"
   ]
  }
 ],
 "metadata": {
  "kernelspec": {
   "display_name": "Python 3 (ipykernel)",
   "language": "python",
   "name": "python3"
  },
  "language_info": {
   "codemirror_mode": {
    "name": "ipython",
    "version": 3
   },
   "file_extension": ".py",
   "mimetype": "text/x-python",
   "name": "python",
   "nbconvert_exporter": "python",
   "pygments_lexer": "ipython3",
   "version": "3.9.12"
  }
 },
 "nbformat": 4,
 "nbformat_minor": 5
}
