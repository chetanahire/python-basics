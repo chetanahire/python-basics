{
 "cells": [
  {
   "cell_type": "markdown",
   "id": "08382f28",
   "metadata": {},
   "source": [
    "1.\tUser will input (3ages).Find the oldest one"
   ]
  },
  {
   "cell_type": "code",
   "execution_count": 30,
   "id": "5af89992",
   "metadata": {},
   "outputs": [
    {
     "name": "stdout",
     "output_type": "stream",
     "text": [
      "Enter your age33\n",
      "Enter your age44\n",
      "Enter your age55\n",
      "older one is :  55\n"
     ]
    }
   ],
   "source": [
    "user1_age = int(input('Enter your age'))\n",
    "user2_age = int(input('Enter your age'))\n",
    "user3_age = int(input('Enter your age'))\n",
    "\n",
    "older_one = user1_age\n",
    "\n",
    "if  older_one < user2_age:\n",
    "    older_one = user2_age\n",
    "if older_one < user3_age:\n",
    "    older_one = user3_age\n",
    "    \n",
    "print(\"older one is : \",older_one)"
   ]
  },
  {
   "cell_type": "code",
   "execution_count": 31,
   "id": "6505de26",
   "metadata": {},
   "outputs": [
    {
     "data": {
      "text/plain": [
       "1.8"
      ]
     },
     "execution_count": 31,
     "metadata": {},
     "output_type": "execute_result"
    }
   ],
   "source": [
    "9/5"
   ]
  },
  {
   "cell_type": "markdown",
   "id": "a0ab35bd",
   "metadata": {},
   "source": [
    " 2.\tWrite a program that will convert celsius value to fahrenheit"
   ]
  },
  {
   "cell_type": "code",
   "execution_count": 32,
   "id": "78cfdb59",
   "metadata": {},
   "outputs": [
    {
     "name": "stdout",
     "output_type": "stream",
     "text": [
      "Enter tempreture in Celsius34\n",
      "Hey, 34.0 °C is equal to 93.2 °F \n"
     ]
    }
   ],
   "source": [
    "# formula - (1°C × 9/5) + 32 = 33.8°F\n",
    "\n",
    "\n",
    "temp_c = float(input('Enter tempreture in Celsius'))\n",
    "temp_f = (temp_c * 1.8) + 32\n",
    "print(\"Hey, {} °C is equal to {} °F \".format(temp_c,temp_f))"
   ]
  },
  {
   "cell_type": "markdown",
   "id": "df98ff8b",
   "metadata": {},
   "source": [
    "3.\tUser will input (2numbers).Write a program to swap the numbers"
   ]
  },
  {
   "cell_type": "code",
   "execution_count": 34,
   "id": "d1a0144a",
   "metadata": {},
   "outputs": [
    {
     "name": "stdout",
     "output_type": "stream",
     "text": [
      "Enter number 1: 3\n",
      "Enter number 2: 4\n",
      "user 1 input: 3 and user 2 input: 4\n",
      "After Swaping:-------\n",
      "user 1 input: 4 and user 2 input: 3\n"
     ]
    }
   ],
   "source": [
    "num1 = int(input('Enter number 1: '))\n",
    "num2 = int(input('Enter number 2: '))\n",
    "print(\"user 1 input: {} and user 2 input: {}\".format(num1,num2))\n",
    "\n",
    "temp = num1\n",
    "num1 = num2\n",
    "num2 = temp\n",
    "\n",
    "print('After Swaping:-------')\n",
    "print(\"user 1 input: {} and user 2 input: {}\".format(num1,num2))"
   ]
  },
  {
   "cell_type": "markdown",
   "id": "36e15fda",
   "metadata": {},
   "source": [
    "4.\tWrite a program that will give you the sum of 3 digits"
   ]
  },
  {
   "cell_type": "code",
   "execution_count": 49,
   "id": "97af18b0",
   "metadata": {},
   "outputs": [
    {
     "name": "stdout",
     "output_type": "stream",
     "text": [
      "Enter the number98765333232\n",
      "51\n"
     ]
    }
   ],
   "source": [
    "user_input = int(input('Enter the number'))\n",
    "\n",
    "add = 0\n",
    "while user_input>0:\n",
    "    rem = user_input % 10\n",
    "    user_input = user_input // 10\n",
    "    add = add + rem\n",
    "\n",
    "print(add)"
   ]
  },
  {
   "cell_type": "markdown",
   "id": "7a1145f8",
   "metadata": {},
   "source": [
    "5.\tWrite a program that will reverse a four digit number.Also it checks whether the reverse is true."
   ]
  },
  {
   "cell_type": "code",
   "execution_count": 74,
   "id": "39f27723",
   "metadata": {},
   "outputs": [
    {
     "name": "stdout",
     "output_type": "stream",
     "text": [
      "Enter the number: 234\n",
      "original number 234\n",
      "Reverse number 432\n",
      "False\n"
     ]
    }
   ],
   "source": [
    "input_num = int(input('Enter the number: '))\n",
    "\n",
    "temp = input_num\n",
    "rev = 0\n",
    "while temp > 0:\n",
    "    rem = temp % 10\n",
    "    temp = temp // 10\n",
    "    rev = ( rev * 10 ) + rem\n",
    "\n",
    "print('original number', input_num)\n",
    "print('Reverse number',rev)\n",
    "\n",
    "print(rev == input_num)"
   ]
  },
  {
   "cell_type": "markdown",
   "id": "d3f07208",
   "metadata": {},
   "source": [
    "6.\tWrite a program that will tell whether the number entered by the user is odd or even."
   ]
  },
  {
   "cell_type": "code",
   "execution_count": 81,
   "id": "6834e345",
   "metadata": {},
   "outputs": [
    {
     "name": "stdout",
     "output_type": "stream",
     "text": [
      "Enter the number: 58\n",
      "even\n"
     ]
    }
   ],
   "source": [
    "input_num = int(input('Enter the number: '))\n",
    "\n",
    "print(\"even\" if input_num % 2 == 0 else \"odd\"  )"
   ]
  },
  {
   "cell_type": "markdown",
   "id": "bab34583",
   "metadata": {},
   "source": [
    "7.\tWrite a program that will tell whether the given year is a leap year or not."
   ]
  },
  {
   "cell_type": "code",
   "execution_count": 84,
   "id": "42b767ac",
   "metadata": {},
   "outputs": [
    {
     "name": "stdout",
     "output_type": "stream",
     "text": [
      "Enter the year: 2032\n",
      "2032  is leap year\n"
     ]
    }
   ],
   "source": [
    "year = int(input('Enter the year: '))\n",
    "print(year, \" is leap year\" if year % 4 ==0 and year % 100 != 0 else \" is not leap year\")"
   ]
  },
  {
   "cell_type": "markdown",
   "id": "5170cd7a",
   "metadata": {},
   "source": [
    "8.\tWrite a program to find the euclidean distance between two coordinates."
   ]
  },
  {
   "cell_type": "code",
   "execution_count": 85,
   "id": "522870f1",
   "metadata": {},
   "outputs": [],
   "source": [
    "# d =√[(x2 – x1)2 + (y2 – y1)2]"
   ]
  },
  {
   "cell_type": "code",
   "execution_count": 96,
   "id": "de74c688",
   "metadata": {},
   "outputs": [],
   "source": [
    "import math as m\n",
    "def euclidean_dist(x, y):\n",
    "    dist = m.sqrt((x[1] - x[0]) ** 2 + (y[1] - y[0]) ** 2)\n",
    "    print(dist)\n",
    "    "
   ]
  },
  {
   "cell_type": "code",
   "execution_count": 97,
   "id": "9657596e",
   "metadata": {},
   "outputs": [
    {
     "name": "stdout",
     "output_type": "stream",
     "text": [
      "1.6970562748477143\n"
     ]
    }
   ],
   "source": [
    "euclidean_dist((1.0,2.2),(5.3,6.5))"
   ]
  },
  {
   "cell_type": "markdown",
   "id": "2077e2c3",
   "metadata": {},
   "source": [
    "9.\tWrite a program that take a user inputr of three angles and will find out whether it can form a triangle or not."
   ]
  },
  {
   "cell_type": "code",
   "execution_count": 137,
   "id": "dfc9d63e",
   "metadata": {},
   "outputs": [],
   "source": [
    "def can_form_tringle(a, b, c):\n",
    "    if (a + b + c == 180) and (a != 0 and b != 0 and c != 0):\n",
    "        print('yes, can form Tringle')\n",
    "    else:\n",
    "        print(\"No, can't form Tringle\")"
   ]
  },
  {
   "cell_type": "code",
   "execution_count": 138,
   "id": "3acce9d7",
   "metadata": {},
   "outputs": [
    {
     "name": "stdout",
     "output_type": "stream",
     "text": [
      "No, can't form Tringle\n"
     ]
    }
   ],
   "source": [
    "can_form_tringle(45,45,45)"
   ]
  },
  {
   "cell_type": "code",
   "execution_count": 139,
   "id": "d9123d87",
   "metadata": {},
   "outputs": [
    {
     "name": "stdout",
     "output_type": "stream",
     "text": [
      "No, can't form Tringle\n"
     ]
    }
   ],
   "source": [
    "can_form_tringle(0,120,60)"
   ]
  },
  {
   "cell_type": "code",
   "execution_count": 140,
   "id": "32064406",
   "metadata": {},
   "outputs": [
    {
     "name": "stdout",
     "output_type": "stream",
     "text": [
      "yes, can form Tringle\n"
     ]
    }
   ],
   "source": [
    "can_form_tringle(60,60,60)"
   ]
  },
  {
   "cell_type": "markdown",
   "id": "38a0b75b",
   "metadata": {},
   "source": [
    "10.\tWrite a program that will take user input of cost price and selling price and determines whether its a loss or a profit"
   ]
  },
  {
   "cell_type": "code",
   "execution_count": 144,
   "id": "8c83c663",
   "metadata": {},
   "outputs": [
    {
     "name": "stdout",
     "output_type": "stream",
     "text": [
      "Enter cost price: 33\n",
      "Enter selling price: 22\n",
      "It is Loss\n"
     ]
    }
   ],
   "source": [
    "cp = float(input(\"Enter cost price: \"))\n",
    "sp = float(input(\"Enter selling price: \"))\n",
    "\n",
    "print(\"It is\", \"Profit\" if cp < sp else \"Loss\")"
   ]
  },
  {
   "cell_type": "code",
   "execution_count": null,
   "id": "629e056f",
   "metadata": {},
   "outputs": [],
   "source": []
  }
 ],
 "metadata": {
  "kernelspec": {
   "display_name": "Python 3 (ipykernel)",
   "language": "python",
   "name": "python3"
  },
  "language_info": {
   "codemirror_mode": {
    "name": "ipython",
    "version": 3
   },
   "file_extension": ".py",
   "mimetype": "text/x-python",
   "name": "python",
   "nbconvert_exporter": "python",
   "pygments_lexer": "ipython3",
   "version": "3.9.12"
  }
 },
 "nbformat": 4,
 "nbformat_minor": 5
}
