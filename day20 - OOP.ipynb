{
 "cells": [
  {
   "cell_type": "code",
   "execution_count": 1,
   "id": "a890091b",
   "metadata": {},
   "outputs": [],
   "source": [
    "# Class name  - PascalCase\n",
    "# variable - lower case\n",
    "# Methods - lower_case\n",
    "\n",
    "# ----------------\n",
    "# |Car           |\n",
    "# |---------------\n",
    "# |-color        |\n",
    "# |-engine       |\n",
    "# |---------------\n",
    "# |+car_speed()  |\n",
    "# |+gears()      |\n",
    "# ----------------\n",
    "# bmw = car()"
   ]
  },
  {
   "cell_type": "code",
   "execution_count": 2,
   "id": "ec9dd36b",
   "metadata": {},
   "outputs": [],
   "source": [
    "# Functions vs Methods\n",
    "# len(L)\n",
    "# L.append(1)"
   ]
  },
  {
   "cell_type": "code",
   "execution_count": 68,
   "id": "15c73bee",
   "metadata": {},
   "outputs": [],
   "source": [
    "class Atm:\n",
    "    # __init__  - Constructor - special kind of method which execute when object is created\n",
    "    def __init__(self):\n",
    "        self.pin = \"\"\n",
    "        self.balance = 0\n",
    "\n",
    "        self.menu()\n",
    "    \n",
    "    def menu(self):\n",
    "        user_input = input(\"\"\"\n",
    "        Hello, How would you like to proceed?\n",
    "        1. Enter 1 to create pin\n",
    "        2. Enter 2 to deposit\n",
    "        3. Enter 3 to withdraw\n",
    "        4. Enter 4 to check balance\n",
    "        5. Enter 5 to exit \"\"\")\n",
    "        \n",
    "        if user_input == \"1\":\n",
    "#             print('Create pin')\n",
    "            self.create_pin()\n",
    "        elif user_input == \"2\":\n",
    "#             print('deposit')\n",
    "            self.deposit()\n",
    "        elif user_input == \"3\":\n",
    "#             print('withdraw')\n",
    "            self.withdraw()\n",
    "        elif user_input == \"4\":\n",
    "#             print('balance')\n",
    "            self.check_balance()\n",
    "        elif user_input == \"5\":\n",
    "            print('Bye')\n",
    "            \n",
    "    def create_pin(self):\n",
    "        self.pin = input('Enter your pin')\n",
    "        print('pin set successfully')\n",
    "        self.menu()\n",
    "    \n",
    "    def deposit(self):\n",
    "        temp = input('Enter your pin')\n",
    "        if temp == self.pin:\n",
    "            amount = int(input('Enter the amount'))\n",
    "            self.balance = self.balance + amount\n",
    "            print('deposited successfully')\n",
    "        else:\n",
    "            print('invalid pin')\n",
    "            \n",
    "        self.menu()\n",
    "    \n",
    "    def withdraw(self):\n",
    "        temp = input('Enter your pin')\n",
    "        if temp == self.pin:\n",
    "            amount = int(input('Enter the amount'))\n",
    "            if amount < self.balance:\n",
    "                self.balance = self.balance - amount\n",
    "                print('operation successfully')\n",
    "            else:\n",
    "                print('insuficient balance')\n",
    "        else:\n",
    "            print('invalid pin')\n",
    "        self.menu()\n",
    "\n",
    "    def check_balance(self):\n",
    "        temp = input('Enter your pin')\n",
    "        if temp == self.pin:\n",
    "            print(self.balance)\n",
    "        else:\n",
    "            print('invalid pin')\n",
    "        self.menu()"
   ]
  },
  {
   "cell_type": "code",
   "execution_count": 28,
   "id": "000bbf08",
   "metadata": {},
   "outputs": [
    {
     "name": "stdout",
     "output_type": "stream",
     "text": [
      "\n",
      "        Hello, How would you like to proceed?\n",
      "        1. Enter 1 to create pin\n",
      "        2. Enter 2 to deposit\n",
      "        3. Enter 3 to withdraw\n",
      "        4. Enter 4 to check balance\n",
      "        5. Enter 5 to exit 1\n",
      "Enter your pin1234\n",
      "pin set successfully\n",
      "\n",
      "        Hello, How would you like to proceed?\n",
      "        1. Enter 1 to create pin\n",
      "        2. Enter 2 to deposit\n",
      "        3. Enter 3 to withdraw\n",
      "        4. Enter 4 to check balance\n",
      "        5. Enter 5 to exit 2\n",
      "Enter your pin1234\n",
      "Enter the amount12222\n",
      "deposited successfully\n",
      "\n",
      "        Hello, How would you like to proceed?\n",
      "        1. Enter 1 to create pin\n",
      "        2. Enter 2 to deposit\n",
      "        3. Enter 3 to withdraw\n",
      "        4. Enter 4 to check balance\n",
      "        5. Enter 5 to exit 4\n",
      "Enter your pin1234\n",
      "12222\n",
      "\n",
      "        Hello, How would you like to proceed?\n",
      "        1. Enter 1 to create pin\n",
      "        2. Enter 2 to deposit\n",
      "        3. Enter 3 to withdraw\n",
      "        4. Enter 4 to check balance\n",
      "        5. Enter 5 to exit 5\n",
      "Bye\n"
     ]
    }
   ],
   "source": [
    "sbi = Atm()"
   ]
  },
  {
   "cell_type": "code",
   "execution_count": 29,
   "id": "0ce82b45",
   "metadata": {},
   "outputs": [],
   "source": [
    "# self - relating to java lang 'this' object\n",
    "# i.e current class object"
   ]
  },
  {
   "cell_type": "code",
   "execution_count": 30,
   "id": "c4060dce",
   "metadata": {},
   "outputs": [
    {
     "name": "stdout",
     "output_type": "stream",
     "text": [
      "2336456636496\n",
      "<class '__main__.test'>\n"
     ]
    }
   ],
   "source": [
    "class test:\n",
    "    def __init__(self):\n",
    "        self.a  = 0\n",
    "        print(id(self))\n",
    "        print(type(self))\n",
    "\n",
    "t = test()"
   ]
  },
  {
   "cell_type": "code",
   "execution_count": 31,
   "id": "b90a532b",
   "metadata": {},
   "outputs": [
    {
     "data": {
      "text/plain": [
       "2336456636496"
      ]
     },
     "execution_count": 31,
     "metadata": {},
     "output_type": "execute_result"
    }
   ],
   "source": [
    "id(t)"
   ]
  },
  {
   "cell_type": "code",
   "execution_count": 32,
   "id": "6fedcdd8",
   "metadata": {},
   "outputs": [],
   "source": [
    "class Fraction:\n",
    "    def __init__(self, n, d):\n",
    "        self.num = n\n",
    "        self.den = d"
   ]
  },
  {
   "cell_type": "code",
   "execution_count": 33,
   "id": "4ad9bcc0",
   "metadata": {},
   "outputs": [],
   "source": [
    "f = Fraction(4,5)"
   ]
  },
  {
   "cell_type": "code",
   "execution_count": 35,
   "id": "c9f79bc4",
   "metadata": {},
   "outputs": [
    {
     "data": {
      "text/plain": [
       "__main__.Fraction"
      ]
     },
     "execution_count": 35,
     "metadata": {},
     "output_type": "execute_result"
    }
   ],
   "source": [
    "type(f)"
   ]
  },
  {
   "cell_type": "code",
   "execution_count": 36,
   "id": "1e6eba60",
   "metadata": {},
   "outputs": [],
   "source": [
    "l = [1,2,3,f]"
   ]
  },
  {
   "cell_type": "code",
   "execution_count": 37,
   "id": "250dc876",
   "metadata": {},
   "outputs": [
    {
     "data": {
      "text/plain": [
       "[1, 2, 3, <__main__.Fraction at 0x21fffe29070>]"
      ]
     },
     "execution_count": 37,
     "metadata": {},
     "output_type": "execute_result"
    }
   ],
   "source": [
    "l"
   ]
  },
  {
   "cell_type": "code",
   "execution_count": 38,
   "id": "2453fa50",
   "metadata": {},
   "outputs": [
    {
     "name": "stdout",
     "output_type": "stream",
     "text": [
      "<__main__.Fraction object at 0x0000021FFFE29070>\n"
     ]
    }
   ],
   "source": [
    "print(f)"
   ]
  },
  {
   "cell_type": "code",
   "execution_count": 43,
   "id": "ef9af6c5",
   "metadata": {},
   "outputs": [],
   "source": [
    "class Fraction:\n",
    "    def __init__(self, n, d):\n",
    "        self.num = n\n",
    "        self.den = d\n",
    "        \n",
    "    def __str__(self):\n",
    "        return '{}/{}'.format(self.num,self.den)"
   ]
  },
  {
   "cell_type": "code",
   "execution_count": 48,
   "id": "2d399a97",
   "metadata": {},
   "outputs": [
    {
     "name": "stdout",
     "output_type": "stream",
     "text": [
      "7/4\n"
     ]
    }
   ],
   "source": [
    "f1 = Fraction(3,4)\n",
    "print(f)"
   ]
  },
  {
   "cell_type": "code",
   "execution_count": 50,
   "id": "d9f24cd6",
   "metadata": {},
   "outputs": [
    {
     "name": "stdout",
     "output_type": "stream",
     "text": [
      "7/4\n"
     ]
    }
   ],
   "source": [
    "f2 = Fraction(7,4)\n",
    "print(f)"
   ]
  },
  {
   "cell_type": "code",
   "execution_count": 51,
   "id": "3731f760",
   "metadata": {},
   "outputs": [
    {
     "ename": "TypeError",
     "evalue": "unsupported operand type(s) for +: 'Fraction' and 'Fraction'",
     "output_type": "error",
     "traceback": [
      "\u001b[1;31m---------------------------------------------------------------------------\u001b[0m",
      "\u001b[1;31mTypeError\u001b[0m                                 Traceback (most recent call last)",
      "Input \u001b[1;32mIn [51]\u001b[0m, in \u001b[0;36m<cell line: 1>\u001b[1;34m()\u001b[0m\n\u001b[1;32m----> 1\u001b[0m \u001b[38;5;28mprint\u001b[39m(\u001b[43mf1\u001b[49m\u001b[43m \u001b[49m\u001b[38;5;241;43m+\u001b[39;49m\u001b[43m \u001b[49m\u001b[43mf2\u001b[49m)\n",
      "\u001b[1;31mTypeError\u001b[0m: unsupported operand type(s) for +: 'Fraction' and 'Fraction'"
     ]
    }
   ],
   "source": [
    "print(f1 + f2)"
   ]
  },
  {
   "cell_type": "code",
   "execution_count": 52,
   "id": "f247453e",
   "metadata": {},
   "outputs": [],
   "source": [
    "class Fraction:\n",
    "    def __init__(self, n, d):\n",
    "        self.num = n\n",
    "        self.den = d\n",
    "        \n",
    "    def __str__(self):\n",
    "        return '{}/{}'.format(self.num,self.den)\n",
    "    def __add__(self, other):\n",
    "        temp_num = self.num * other.den + other.num * self.den\n",
    "        temp_den = self.den * other.den\n",
    "        return '{}/{}'.format(temp_num ,temp_den)"
   ]
  },
  {
   "cell_type": "code",
   "execution_count": 53,
   "id": "ceacd981",
   "metadata": {},
   "outputs": [],
   "source": [
    "f1= Fraction(3,4)"
   ]
  },
  {
   "cell_type": "code",
   "execution_count": 54,
   "id": "bb9fd500",
   "metadata": {},
   "outputs": [],
   "source": [
    "f2 = Fraction(2,5)"
   ]
  },
  {
   "cell_type": "code",
   "execution_count": 55,
   "id": "c480eedd",
   "metadata": {},
   "outputs": [
    {
     "name": "stdout",
     "output_type": "stream",
     "text": [
      "23/20\n"
     ]
    }
   ],
   "source": [
    "print(f1 + f2)"
   ]
  },
  {
   "cell_type": "code",
   "execution_count": 56,
   "id": "c4a7c498",
   "metadata": {},
   "outputs": [],
   "source": [
    "class Fraction:\n",
    "    def __init__(self, n, d):\n",
    "        self.num = n\n",
    "        self.den = d\n",
    "        \n",
    "    def __str__(self):\n",
    "        return '{}/{}'.format(self.num,self.den)\n",
    "    def __add__(self, other):\n",
    "        temp_num = self.num * other.den + other.num * self.den\n",
    "        temp_den = self.den * other.den\n",
    "        return '{}/{}'.format(temp_num ,temp_den)\n",
    "    def __sub__(self, other):\n",
    "        temp_num = self.num * other.den - other.num * self.den\n",
    "        temp_den = self.den * other.den\n",
    "        return '{}/{}'.format(temp_num ,temp_den)\n",
    "    def __mul__(self, other):\n",
    "        temp_num = self.num * other.num\n",
    "        temp_den = self.den * other.den\n",
    "        return '{}/{}'.format(temp_num ,temp_den)\n",
    "    def __truediv__(self, other):\n",
    "        temp_num = self.num * other.den\n",
    "        temp_den = self.den * other.num\n",
    "        return '{}/{}'.format(temp_num ,temp_den)"
   ]
  },
  {
   "cell_type": "code",
   "execution_count": 57,
   "id": "ae8a3acb",
   "metadata": {},
   "outputs": [],
   "source": [
    "x = Fraction(3,4)"
   ]
  },
  {
   "cell_type": "code",
   "execution_count": 58,
   "id": "86c67a00",
   "metadata": {},
   "outputs": [],
   "source": [
    "y = Fraction(3,5)"
   ]
  },
  {
   "cell_type": "code",
   "execution_count": 59,
   "id": "caf97027",
   "metadata": {},
   "outputs": [
    {
     "name": "stdout",
     "output_type": "stream",
     "text": [
      "3/4\n"
     ]
    }
   ],
   "source": [
    "print(x)"
   ]
  },
  {
   "cell_type": "code",
   "execution_count": 60,
   "id": "74901396",
   "metadata": {},
   "outputs": [
    {
     "name": "stdout",
     "output_type": "stream",
     "text": [
      "3/5\n"
     ]
    }
   ],
   "source": [
    "print(y)"
   ]
  },
  {
   "cell_type": "code",
   "execution_count": 61,
   "id": "59b71b47",
   "metadata": {},
   "outputs": [
    {
     "name": "stdout",
     "output_type": "stream",
     "text": [
      "27/20\n"
     ]
    }
   ],
   "source": [
    "print(x+y)"
   ]
  },
  {
   "cell_type": "code",
   "execution_count": 62,
   "id": "7efb7991",
   "metadata": {},
   "outputs": [
    {
     "name": "stdout",
     "output_type": "stream",
     "text": [
      "3/20\n"
     ]
    }
   ],
   "source": [
    "print(x-y)"
   ]
  },
  {
   "cell_type": "code",
   "execution_count": 63,
   "id": "48daeef7",
   "metadata": {},
   "outputs": [
    {
     "name": "stdout",
     "output_type": "stream",
     "text": [
      "9/20\n"
     ]
    }
   ],
   "source": [
    "print(x*y)"
   ]
  },
  {
   "cell_type": "code",
   "execution_count": 64,
   "id": "636fd25e",
   "metadata": {},
   "outputs": [
    {
     "name": "stdout",
     "output_type": "stream",
     "text": [
      "15/12\n"
     ]
    }
   ],
   "source": [
    "print(x/y)"
   ]
  },
  {
   "cell_type": "markdown",
   "id": "f0926cf9",
   "metadata": {},
   "source": [
    "- Encapsulation"
   ]
  },
  {
   "cell_type": "code",
   "execution_count": 65,
   "id": "c4b01ab3",
   "metadata": {},
   "outputs": [],
   "source": [
    "# instance variables"
   ]
  },
  {
   "cell_type": "code",
   "execution_count": 70,
   "id": "0078ac1b",
   "metadata": {},
   "outputs": [
    {
     "name": "stdout",
     "output_type": "stream",
     "text": [
      "\n",
      "        Hello, How would you like to proceed?\n",
      "        1. Enter 1 to create pin\n",
      "        2. Enter 2 to deposit\n",
      "        3. Enter 3 to withdraw\n",
      "        4. Enter 4 to check balance\n",
      "        5. Enter 5 to exit 1\n",
      "Enter your pin1234\n",
      "pin set successfully\n",
      "\n",
      "        Hello, How would you like to proceed?\n",
      "        1. Enter 1 to create pin\n",
      "        2. Enter 2 to deposit\n",
      "        3. Enter 3 to withdraw\n",
      "        4. Enter 4 to check balance\n",
      "        5. Enter 5 to exit 4\n",
      "Enter your pin1234\n",
      "0\n",
      "\n",
      "        Hello, How would you like to proceed?\n",
      "        1. Enter 1 to create pin\n",
      "        2. Enter 2 to deposit\n",
      "        3. Enter 3 to withdraw\n",
      "        4. Enter 4 to check balance\n",
      "        5. Enter 5 to exit 2\n",
      "Enter your pin1234\n",
      "Enter the amount122222\n",
      "deposited successfully\n",
      "\n",
      "        Hello, How would you like to proceed?\n",
      "        1. Enter 1 to create pin\n",
      "        2. Enter 2 to deposit\n",
      "        3. Enter 3 to withdraw\n",
      "        4. Enter 4 to check balance\n",
      "        5. Enter 5 to exit 5\n",
      "Bye\n"
     ]
    }
   ],
   "source": [
    "sbi = Atm()"
   ]
  },
  {
   "cell_type": "code",
   "execution_count": 74,
   "id": "a87e7f55",
   "metadata": {},
   "outputs": [
    {
     "data": {
      "text/plain": [
       "122222"
      ]
     },
     "execution_count": 74,
     "metadata": {},
     "output_type": "execute_result"
    }
   ],
   "source": [
    "sbi.balance"
   ]
  },
  {
   "cell_type": "code",
   "execution_count": null,
   "id": "4a49e50d",
   "metadata": {},
   "outputs": [],
   "source": [
    "# __varaible_name  = private member\n",
    "# Hiding data member of class"
   ]
  },
  {
   "cell_type": "code",
   "execution_count": 85,
   "id": "36798d39",
   "metadata": {},
   "outputs": [],
   "source": [
    "class Atm:\n",
    "    # __init__  - Constructor - special kind of method which execute when object is created\n",
    "    def __init__(self):\n",
    "        self.__pin = \"\"\n",
    "        self.__balance = 0\n",
    "\n",
    "        self.__menu()\n",
    "    \n",
    "    def __menu(self):\n",
    "        user_input = input(\"\"\"\n",
    "        Hello, How would you like to proceed?\n",
    "        1. Enter 1 to create pin\n",
    "        2. Enter 2 to deposit\n",
    "        3. Enter 3 to withdraw\n",
    "        4. Enter 4 to check balance\n",
    "        5. Enter 5 to exit \"\"\")\n",
    "        \n",
    "        if user_input == \"1\":\n",
    "#             print('Create pin')\n",
    "            self.create_pin()\n",
    "        elif user_input == \"2\":\n",
    "#             print('deposit')\n",
    "            self.deposit()\n",
    "        elif user_input == \"3\":\n",
    "#             print('withdraw')\n",
    "            self.withdraw()\n",
    "        elif user_input == \"4\":\n",
    "#             print('balance')\n",
    "            self.check_balance()\n",
    "        elif user_input == \"5\":\n",
    "            print('Bye')\n",
    "            \n",
    "    def create_pin(self):\n",
    "        self.__pin = input('Enter your pin')\n",
    "        print('pin set successfully')\n",
    "        self.__menu()\n",
    "    \n",
    "    def deposit(self):\n",
    "        temp = input('Enter your pin')\n",
    "        if temp == self.__pin:\n",
    "            amount = int(input('Enter the amount'))\n",
    "            self.__balance = self.__balance + amount\n",
    "            print('deposited successfully')\n",
    "        else:\n",
    "            print('invalid pin')\n",
    "            \n",
    "        self.__menu()\n",
    "    \n",
    "    def withdraw(self):\n",
    "        temp = input('Enter your pin')\n",
    "        if temp == self.__pin:\n",
    "            amount = int(input('Enter the amount'))\n",
    "            if amount < self.__balance:\n",
    "                self.__balance = self.__balance - amount\n",
    "                print('operation successfully')\n",
    "            else:\n",
    "                print('insuficient balance')\n",
    "        else:\n",
    "            print('invalid pin')\n",
    "        self.__menu()\n",
    "\n",
    "    def check_balance(self):\n",
    "        temp = input('Enter your pin')\n",
    "        if temp == self.__pin:\n",
    "            print(self.__balance)\n",
    "        else:\n",
    "            print('invalid pin')\n",
    "        self.__menu()"
   ]
  },
  {
   "cell_type": "code",
   "execution_count": 86,
   "id": "7ddcd1b7",
   "metadata": {},
   "outputs": [
    {
     "name": "stdout",
     "output_type": "stream",
     "text": [
      "\n",
      "        Hello, How would you like to proceed?\n",
      "        1. Enter 1 to create pin\n",
      "        2. Enter 2 to deposit\n",
      "        3. Enter 3 to withdraw\n",
      "        4. Enter 4 to check balance\n",
      "        5. Enter 5 to exit 1\n",
      "Enter your pin1234\n",
      "pin set successfully\n",
      "\n",
      "        Hello, How would you like to proceed?\n",
      "        1. Enter 1 to create pin\n",
      "        2. Enter 2 to deposit\n",
      "        3. Enter 3 to withdraw\n",
      "        4. Enter 4 to check balance\n",
      "        5. Enter 5 to exit 5\n",
      "Bye\n"
     ]
    }
   ],
   "source": [
    "sbi = Atm()"
   ]
  },
  {
   "cell_type": "code",
   "execution_count": 87,
   "id": "f580f2ed",
   "metadata": {},
   "outputs": [
    {
     "data": {
      "text/plain": [
       "<bound method Atm.check_balance of <__main__.Atm object at 0x0000021FFEB82130>>"
      ]
     },
     "execution_count": 87,
     "metadata": {},
     "output_type": "execute_result"
    }
   ],
   "source": [
    "sbi.check_balance"
   ]
  },
  {
   "cell_type": "code",
   "execution_count": 88,
   "id": "fb4bfb83",
   "metadata": {},
   "outputs": [
    {
     "name": "stdout",
     "output_type": "stream",
     "text": [
      "Enter your pin1234\n",
      "0\n",
      "\n",
      "        Hello, How would you like to proceed?\n",
      "        1. Enter 1 to create pin\n",
      "        2. Enter 2 to deposit\n",
      "        3. Enter 3 to withdraw\n",
      "        4. Enter 4 to check balance\n",
      "        5. Enter 5 to exit 5\n",
      "Bye\n"
     ]
    }
   ],
   "source": [
    "sbi.check_balance()"
   ]
  },
  {
   "cell_type": "code",
   "execution_count": 91,
   "id": "f3e93a3d",
   "metadata": {},
   "outputs": [],
   "source": [
    "sbi.__balance = 'wqwq'"
   ]
  },
  {
   "cell_type": "code",
   "execution_count": 92,
   "id": "3d41de8b",
   "metadata": {},
   "outputs": [
    {
     "name": "stdout",
     "output_type": "stream",
     "text": [
      "Enter your pin1234\n",
      "Enter the amount23232\n",
      "deposited successfully\n",
      "\n",
      "        Hello, How would you like to proceed?\n",
      "        1. Enter 1 to create pin\n",
      "        2. Enter 2 to deposit\n",
      "        3. Enter 3 to withdraw\n",
      "        4. Enter 4 to check balance\n",
      "        5. Enter 5 to exit 5\n",
      "Bye\n"
     ]
    }
   ],
   "source": [
    "sbi.deposit()"
   ]
  },
  {
   "cell_type": "code",
   "execution_count": 93,
   "id": "28f4b17a",
   "metadata": {},
   "outputs": [],
   "source": [
    "# __balance  = _Atm__balance  is conveted by python"
   ]
  },
  {
   "cell_type": "code",
   "execution_count": 94,
   "id": "9cd3cf8c",
   "metadata": {},
   "outputs": [],
   "source": [
    "sbi._Atm__balance ='23wewe'"
   ]
  },
  {
   "cell_type": "code",
   "execution_count": 95,
   "id": "5daeaaef",
   "metadata": {},
   "outputs": [
    {
     "name": "stdout",
     "output_type": "stream",
     "text": [
      "Enter your pin1234\n",
      "Enter the amount12123223\n"
     ]
    },
    {
     "ename": "TypeError",
     "evalue": "can only concatenate str (not \"int\") to str",
     "output_type": "error",
     "traceback": [
      "\u001b[1;31m---------------------------------------------------------------------------\u001b[0m",
      "\u001b[1;31mTypeError\u001b[0m                                 Traceback (most recent call last)",
      "Input \u001b[1;32mIn [95]\u001b[0m, in \u001b[0;36m<cell line: 1>\u001b[1;34m()\u001b[0m\n\u001b[1;32m----> 1\u001b[0m \u001b[43msbi\u001b[49m\u001b[38;5;241;43m.\u001b[39;49m\u001b[43mdeposit\u001b[49m\u001b[43m(\u001b[49m\u001b[43m)\u001b[49m\n",
      "Input \u001b[1;32mIn [85]\u001b[0m, in \u001b[0;36mAtm.deposit\u001b[1;34m(self)\u001b[0m\n\u001b[0;32m     40\u001b[0m \u001b[38;5;28;01mif\u001b[39;00m temp \u001b[38;5;241m==\u001b[39m \u001b[38;5;28mself\u001b[39m\u001b[38;5;241m.\u001b[39m__pin:\n\u001b[0;32m     41\u001b[0m     amount \u001b[38;5;241m=\u001b[39m \u001b[38;5;28mint\u001b[39m(\u001b[38;5;28minput\u001b[39m(\u001b[38;5;124m'\u001b[39m\u001b[38;5;124mEnter the amount\u001b[39m\u001b[38;5;124m'\u001b[39m))\n\u001b[1;32m---> 42\u001b[0m     \u001b[38;5;28mself\u001b[39m\u001b[38;5;241m.\u001b[39m__balance \u001b[38;5;241m=\u001b[39m \u001b[38;5;28;43mself\u001b[39;49m\u001b[38;5;241;43m.\u001b[39;49m\u001b[43m__balance\u001b[49m\u001b[43m \u001b[49m\u001b[38;5;241;43m+\u001b[39;49m\u001b[43m \u001b[49m\u001b[43mamount\u001b[49m\n\u001b[0;32m     43\u001b[0m     \u001b[38;5;28mprint\u001b[39m(\u001b[38;5;124m'\u001b[39m\u001b[38;5;124mdeposited successfully\u001b[39m\u001b[38;5;124m'\u001b[39m)\n\u001b[0;32m     44\u001b[0m \u001b[38;5;28;01melse\u001b[39;00m:\n",
      "\u001b[1;31mTypeError\u001b[0m: can only concatenate str (not \"int\") to str"
     ]
    }
   ],
   "source": [
    "sbi.deposit()"
   ]
  },
  {
   "cell_type": "code",
   "execution_count": 96,
   "id": "6ae0da12",
   "metadata": {},
   "outputs": [],
   "source": [
    "# Nothing in python is truly private"
   ]
  },
  {
   "cell_type": "code",
   "execution_count": 120,
   "id": "b11de3cf",
   "metadata": {},
   "outputs": [],
   "source": [
    "# hide data member and provide access using public methods to user"
   ]
  },
  {
   "cell_type": "code",
   "execution_count": 111,
   "id": "b6c5ed22",
   "metadata": {},
   "outputs": [],
   "source": [
    "class Atm:\n",
    "    # __init__  - Constructor - special kind of method which execute when object is created\n",
    "    def __init__(self):\n",
    "        self.__pin = \"\"\n",
    "        self.__balance = 0\n",
    "\n",
    "        self.__menu()\n",
    "    \n",
    "    def get_pin(self):\n",
    "        return self.__pin\n",
    "    \n",
    "    def set_pin(self, new_pin):\n",
    "        if type(new_pin) == str:\n",
    "            self.__pin = new_pin\n",
    "            print('pin changed')\n",
    "        else:\n",
    "            print('Not allowed')\n",
    "    \n",
    "    def __menu(self):\n",
    "        user_input = input(\"\"\"\n",
    "        Hello, How would you like to proceed?\n",
    "        1. Enter 1 to create pin\n",
    "        2. Enter 2 to deposit\n",
    "        3. Enter 3 to withdraw\n",
    "        4. Enter 4 to check balance\n",
    "        5. Enter 5 to exit \"\"\")\n",
    "        \n",
    "        if user_input == \"1\":\n",
    "#             print('Create pin')\n",
    "            self.create_pin()\n",
    "        elif user_input == \"2\":\n",
    "#             print('deposit')\n",
    "            self.deposit()\n",
    "        elif user_input == \"3\":\n",
    "#             print('withdraw')\n",
    "            self.withdraw()\n",
    "        elif user_input == \"4\":\n",
    "#             print('balance')\n",
    "            self.check_balance()\n",
    "        elif user_input == \"5\":\n",
    "            print('Bye')\n",
    "            \n",
    "    def create_pin(self):\n",
    "        self.__pin = input('Enter your pin')\n",
    "        print('pin set successfully')\n",
    "        self.__menu()\n",
    "    \n",
    "    def deposit(self):\n",
    "        temp = input('Enter your pin')\n",
    "        if temp == self.__pin:\n",
    "            amount = int(input('Enter the amount'))\n",
    "            self.__balance = self.__balance + amount\n",
    "            print('deposited successfully')\n",
    "        else:\n",
    "            print('invalid pin')\n",
    "            \n",
    "        self.__menu()\n",
    "    \n",
    "    def withdraw(self):\n",
    "        temp = input('Enter your pin')\n",
    "        if temp == self.__pin:\n",
    "            amount = int(input('Enter the amount'))\n",
    "            if amount < self.__balance:\n",
    "                self.__balance = self.__balance - amount\n",
    "                print('operation successfully')\n",
    "            else:\n",
    "                print('insuficient balance')\n",
    "        else:\n",
    "            print('invalid pin')\n",
    "        self.__menu()\n",
    "\n",
    "    def check_balance(self):\n",
    "        temp = input('Enter your pin')\n",
    "        if temp == self.__pin:\n",
    "            print(self.__balance)\n",
    "        else:\n",
    "            print('invalid pin')\n",
    "        self.__menu()"
   ]
  },
  {
   "cell_type": "code",
   "execution_count": 112,
   "id": "9c3c7d72",
   "metadata": {},
   "outputs": [
    {
     "name": "stdout",
     "output_type": "stream",
     "text": [
      "\n",
      "        Hello, How would you like to proceed?\n",
      "        1. Enter 1 to create pin\n",
      "        2. Enter 2 to deposit\n",
      "        3. Enter 3 to withdraw\n",
      "        4. Enter 4 to check balance\n",
      "        5. Enter 5 to exit 1\n",
      "Enter your pin123\n",
      "pin set successfully\n",
      "\n",
      "        Hello, How would you like to proceed?\n",
      "        1. Enter 1 to create pin\n",
      "        2. Enter 2 to deposit\n",
      "        3. Enter 3 to withdraw\n",
      "        4. Enter 4 to check balance\n",
      "        5. Enter 5 to exit 5\n",
      "Bye\n"
     ]
    }
   ],
   "source": [
    "sbi = Atm()"
   ]
  },
  {
   "cell_type": "code",
   "execution_count": 113,
   "id": "679f508c",
   "metadata": {},
   "outputs": [
    {
     "data": {
      "text/plain": [
       "'123'"
      ]
     },
     "execution_count": 113,
     "metadata": {},
     "output_type": "execute_result"
    }
   ],
   "source": [
    "sbi.get_pin()"
   ]
  },
  {
   "cell_type": "code",
   "execution_count": 114,
   "id": "772eb2da",
   "metadata": {},
   "outputs": [
    {
     "name": "stdout",
     "output_type": "stream",
     "text": [
      "pin changed\n"
     ]
    }
   ],
   "source": [
    "sbi.set_pin('4321')"
   ]
  },
  {
   "cell_type": "code",
   "execution_count": 115,
   "id": "6f46c94c",
   "metadata": {},
   "outputs": [
    {
     "data": {
      "text/plain": [
       "'4321'"
      ]
     },
     "execution_count": 115,
     "metadata": {},
     "output_type": "execute_result"
    }
   ],
   "source": [
    "sbi.get_pin()"
   ]
  },
  {
   "cell_type": "code",
   "execution_count": 116,
   "id": "2af91315",
   "metadata": {},
   "outputs": [
    {
     "name": "stdout",
     "output_type": "stream",
     "text": [
      "Enter your pin4321\n",
      "0\n",
      "\n",
      "        Hello, How would you like to proceed?\n",
      "        1. Enter 1 to create pin\n",
      "        2. Enter 2 to deposit\n",
      "        3. Enter 3 to withdraw\n",
      "        4. Enter 4 to check balance\n",
      "        5. Enter 5 to exit 5\n",
      "Bye\n"
     ]
    }
   ],
   "source": [
    "sbi.check_balance()"
   ]
  },
  {
   "cell_type": "code",
   "execution_count": 117,
   "id": "7a43761d",
   "metadata": {},
   "outputs": [
    {
     "name": "stdout",
     "output_type": "stream",
     "text": [
      "Not allowed\n"
     ]
    }
   ],
   "source": [
    "sbi.set_pin(5.4)"
   ]
  },
  {
   "cell_type": "code",
   "execution_count": 118,
   "id": "11dfd376",
   "metadata": {},
   "outputs": [
    {
     "name": "stdout",
     "output_type": "stream",
     "text": [
      "pin changed\n"
     ]
    }
   ],
   "source": [
    "sbi.set_pin(\"1234\")"
   ]
  },
  {
   "cell_type": "code",
   "execution_count": 119,
   "id": "46f0f3ce",
   "metadata": {},
   "outputs": [
    {
     "data": {
      "text/plain": [
       "'1234'"
      ]
     },
     "execution_count": 119,
     "metadata": {},
     "output_type": "execute_result"
    }
   ],
   "source": [
    "sbi.get_pin()"
   ]
  },
  {
   "cell_type": "markdown",
   "id": "45e33404",
   "metadata": {},
   "source": [
    "- Pass by reference"
   ]
  },
  {
   "cell_type": "code",
   "execution_count": 122,
   "id": "eb665d6f",
   "metadata": {},
   "outputs": [
    {
     "name": "stdout",
     "output_type": "stream",
     "text": [
      "Chetan\n"
     ]
    }
   ],
   "source": [
    "class Customer:\n",
    "    def __init__(self, name):\n",
    "        self.name = name\n",
    "        \n",
    "c = Customer('Chetan')\n",
    "print(c.name)"
   ]
  },
  {
   "cell_type": "code",
   "execution_count": 132,
   "id": "94684f7a",
   "metadata": {},
   "outputs": [
    {
     "name": "stdout",
     "output_type": "stream",
     "text": [
      "Chetan\n",
      "hello Chetan sir\n",
      "hello anna Ma'am\n"
     ]
    }
   ],
   "source": [
    "class Customer:\n",
    "    def __init__(self, name, gender):\n",
    "        self.name = name\n",
    "        self.gender = gender\n",
    "    \n",
    "    \n",
    "def greet(customer):\n",
    "    if customer.gender == 'male':\n",
    "        print('hello', customer.name,'sir')\n",
    "    else:\n",
    "        print('hello', customer.name,\"Ma'am\")\n",
    "        \n",
    "c = Customer('Chetan','male')\n",
    "print(c.name)\n",
    "\n",
    "greet(c)\n",
    "\n",
    "c1 = Customer('anna','female')\n",
    "greet(c1)"
   ]
  },
  {
   "cell_type": "code",
   "execution_count": 135,
   "id": "86f12bda",
   "metadata": {},
   "outputs": [
    {
     "name": "stdout",
     "output_type": "stream",
     "text": [
      "Chetan\n",
      "hello Chetan sir\n",
      "hello anna Ma'am\n",
      "Nikhil male\n"
     ]
    }
   ],
   "source": [
    "class Customer:\n",
    "    def __init__(self, name, gender):\n",
    "        self.name = name\n",
    "        self.gender = gender\n",
    "    \n",
    "    \n",
    "def greet(customer):\n",
    "    if customer.gender == 'male':\n",
    "        print('hello', customer.name,'sir')\n",
    "    else:\n",
    "        print('hello', customer.name,\"Ma'am\")\n",
    "    \n",
    "    new_cust = Customer('Nikhil','male')\n",
    "    return new_cust\n",
    "    \n",
    "c = Customer('Chetan','male')\n",
    "print(c.name)\n",
    "\n",
    "greet(c)\n",
    "\n",
    "c1 = Customer('anna','female')\n",
    "new_cust = greet(c1)\n",
    "print(new_cust.name,new_cust.gender)"
   ]
  },
  {
   "cell_type": "code",
   "execution_count": 138,
   "id": "9a843990",
   "metadata": {},
   "outputs": [
    {
     "name": "stdout",
     "output_type": "stream",
     "text": [
      "2336455260912\n"
     ]
    }
   ],
   "source": [
    "class Customer:\n",
    "    def __init__(self, name):\n",
    "        self.name = name\n",
    "    \n",
    "def greet(customer):\n",
    "    print(id(customer))\n",
    "cust = Customer('Chetan')\n",
    "print(id(cust))"
   ]
  },
  {
   "cell_type": "code",
   "execution_count": 139,
   "id": "581b4990",
   "metadata": {},
   "outputs": [
    {
     "name": "stdout",
     "output_type": "stream",
     "text": [
      "2336455260912\n"
     ]
    }
   ],
   "source": [
    "greet(cust)"
   ]
  },
  {
   "cell_type": "code",
   "execution_count": 144,
   "id": "e226e9c2",
   "metadata": {},
   "outputs": [
    {
     "name": "stdout",
     "output_type": "stream",
     "text": [
      "i am  Nikhil and i am  29\n",
      "i am  Chetan and i am  28\n",
      "i am  Dipak and i am  28\n"
     ]
    }
   ],
   "source": [
    "class Customer:\n",
    "    def __init__(self, name, age):\n",
    "        self.name = name\n",
    "        self.age  = age\n",
    "    def intro(self):\n",
    "        print('i am ',self.name,'and i am ', self.age)\n",
    "        \n",
    "c1 = Customer('Nikhil',29)\n",
    "c2 = Customer('Chetan',28)\n",
    "c3 = Customer('Dipak',28)\n",
    "\n",
    "L = [c1,c2,c3]\n",
    "\n",
    "for i in L:\n",
    "    i.intro()"
   ]
  },
  {
   "cell_type": "markdown",
   "id": "50c926fd",
   "metadata": {},
   "source": [
    "- static"
   ]
  },
  {
   "cell_type": "code",
   "execution_count": null,
   "id": "83b1f314",
   "metadata": {},
   "outputs": [],
   "source": []
  },
  {
   "cell_type": "code",
   "execution_count": 190,
   "id": "dbeb6106",
   "metadata": {},
   "outputs": [],
   "source": [
    "class Atm:\n",
    "    # __init__  - Constructor - special kind of method which execute when object is created\n",
    "#   static/class variable\n",
    "    __counter = 1\n",
    "    \n",
    "    def __init__(self):\n",
    "#         instance variable\n",
    "        self.__pin = \"\"\n",
    "        self.__balance = 0\n",
    "        self.sno = Atm.__counter\n",
    "        \n",
    "        Atm.__counter = Atm.__counter+1        \n",
    "        \n",
    "#         self.__menu()\n",
    "    def get_counter(self):\n",
    "        return Atm.__counter\n",
    "    \n",
    "    def set_counter(self,new):\n",
    "        if type(new)==int:\n",
    "            Atm.__counter = new\n",
    "        else:\n",
    "            print('Not allowed')\n",
    "    \n",
    "    def get_pin(self):\n",
    "        return self.__pin\n",
    "    \n",
    "    def set_pin(self, new_pin):\n",
    "        if type(new_pin) == str:\n",
    "            self.__pin = new_pin\n",
    "            print('pin changed')\n",
    "        else:\n",
    "            print('Not allowed')\n",
    "    \n",
    "    def __menu(self):\n",
    "        user_input = input(\"\"\"\n",
    "        Hello, How would you like to proceed?\n",
    "        1. Enter 1 to create pin\n",
    "        2. Enter 2 to deposit\n",
    "        3. Enter 3 to withdraw\n",
    "        4. Enter 4 to check balance\n",
    "        5. Enter 5 to exit \"\"\")\n",
    "        \n",
    "        if user_input == \"1\":\n",
    "#             print('Create pin')\n",
    "            self.create_pin()\n",
    "        elif user_input == \"2\":\n",
    "#             print('deposit')\n",
    "            self.deposit()\n",
    "        elif user_input == \"3\":\n",
    "#             print('withdraw')\n",
    "            self.withdraw()\n",
    "        elif user_input == \"4\":\n",
    "#             print('balance')\n",
    "            self.check_balance()\n",
    "        elif user_input == \"5\":\n",
    "            print('Bye')\n",
    "            \n",
    "    def create_pin(self):\n",
    "        self.__pin = input('Enter your pin')\n",
    "        print('pin set successfully')\n",
    "        self.__menu()\n",
    "    \n",
    "    def deposit(self):\n",
    "        temp = input('Enter your pin')\n",
    "        if temp == self.__pin:\n",
    "            amount = int(input('Enter the amount'))\n",
    "            self.__balance = self.__balance + amount\n",
    "            print('deposited successfully')\n",
    "        else:\n",
    "            print('invalid pin')\n",
    "            \n",
    "        self.__menu()\n",
    "    \n",
    "    def withdraw(self):\n",
    "        temp = input('Enter your pin')\n",
    "        if temp == self.__pin:\n",
    "            amount = int(input('Enter the amount'))\n",
    "            if amount < self.__balance:\n",
    "                self.__balance = self.__balance - amount\n",
    "                print('operation successfully')\n",
    "            else:\n",
    "                print('insuficient balance')\n",
    "        else:\n",
    "            print('invalid pin')\n",
    "        self.__menu()\n",
    "\n",
    "    def check_balance(self):\n",
    "        temp = input('Enter your pin')\n",
    "        if temp == self.__pin:\n",
    "            print(self.__balance)\n",
    "        else:\n",
    "            print('invalid pin')\n",
    "        self.__menu()"
   ]
  },
  {
   "cell_type": "code",
   "execution_count": 191,
   "id": "48a9067b",
   "metadata": {},
   "outputs": [],
   "source": [
    "c1 = Atm()\n",
    "c2 = Atm()\n",
    "c3 = Atm()"
   ]
  },
  {
   "cell_type": "code",
   "execution_count": 192,
   "id": "4c9c80c8",
   "metadata": {},
   "outputs": [
    {
     "data": {
      "text/plain": [
       "1"
      ]
     },
     "execution_count": 192,
     "metadata": {},
     "output_type": "execute_result"
    }
   ],
   "source": [
    "c1.sno"
   ]
  },
  {
   "cell_type": "code",
   "execution_count": 193,
   "id": "abbc14b6",
   "metadata": {},
   "outputs": [
    {
     "data": {
      "text/plain": [
       "2"
      ]
     },
     "execution_count": 193,
     "metadata": {},
     "output_type": "execute_result"
    }
   ],
   "source": [
    "c2.sno"
   ]
  },
  {
   "cell_type": "code",
   "execution_count": 194,
   "id": "4dba847b",
   "metadata": {},
   "outputs": [
    {
     "data": {
      "text/plain": [
       "3"
      ]
     },
     "execution_count": 194,
     "metadata": {},
     "output_type": "execute_result"
    }
   ],
   "source": [
    "c3.sno"
   ]
  },
  {
   "cell_type": "code",
   "execution_count": 195,
   "id": "31acc37c",
   "metadata": {},
   "outputs": [
    {
     "ename": "AttributeError",
     "evalue": "type object 'Atm' has no attribute 'counter'",
     "output_type": "error",
     "traceback": [
      "\u001b[1;31m---------------------------------------------------------------------------\u001b[0m",
      "\u001b[1;31mAttributeError\u001b[0m                            Traceback (most recent call last)",
      "Input \u001b[1;32mIn [195]\u001b[0m, in \u001b[0;36m<cell line: 1>\u001b[1;34m()\u001b[0m\n\u001b[1;32m----> 1\u001b[0m \u001b[43mAtm\u001b[49m\u001b[38;5;241;43m.\u001b[39;49m\u001b[43mcounter\u001b[49m\n",
      "\u001b[1;31mAttributeError\u001b[0m: type object 'Atm' has no attribute 'counter'"
     ]
    }
   ],
   "source": [
    "Atm.counter"
   ]
  },
  {
   "cell_type": "code",
   "execution_count": 196,
   "id": "4a53825d",
   "metadata": {},
   "outputs": [
    {
     "data": {
      "text/plain": [
       "4"
      ]
     },
     "execution_count": 196,
     "metadata": {},
     "output_type": "execute_result"
    }
   ],
   "source": [
    "Atm.get_counter(c3)"
   ]
  },
  {
   "cell_type": "code",
   "execution_count": 197,
   "id": "776ab469",
   "metadata": {},
   "outputs": [],
   "source": [
    "Atm.set_counter(c3,10)"
   ]
  },
  {
   "cell_type": "code",
   "execution_count": 198,
   "id": "27b2fe1e",
   "metadata": {},
   "outputs": [
    {
     "data": {
      "text/plain": [
       "10"
      ]
     },
     "execution_count": 198,
     "metadata": {},
     "output_type": "execute_result"
    }
   ],
   "source": [
    "Atm.get_counter(c3)"
   ]
  },
  {
   "cell_type": "code",
   "execution_count": null,
   "id": "c0c7abad",
   "metadata": {},
   "outputs": [],
   "source": []
  }
 ],
 "metadata": {
  "kernelspec": {
   "display_name": "Python 3 (ipykernel)",
   "language": "python",
   "name": "python3"
  },
  "language_info": {
   "codemirror_mode": {
    "name": "ipython",
    "version": 3
   },
   "file_extension": ".py",
   "mimetype": "text/x-python",
   "name": "python",
   "nbconvert_exporter": "python",
   "pygments_lexer": "ipython3",
   "version": "3.9.12"
  }
 },
 "nbformat": 4,
 "nbformat_minor": 5
}
