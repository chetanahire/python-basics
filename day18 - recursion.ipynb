{
 "cells": [
  {
   "cell_type": "markdown",
   "id": "66ae60b0",
   "metadata": {},
   "source": [
    "- function calling itself from itself"
   ]
  },
  {
   "cell_type": "code",
   "execution_count": null,
   "id": "c97aa142",
   "metadata": {},
   "outputs": [],
   "source": [
    "#multiply numbers"
   ]
  },
  {
   "cell_type": "code",
   "execution_count": 1,
   "id": "c4800a24",
   "metadata": {},
   "outputs": [],
   "source": [
    "def mul(a,b):\n",
    "    result = 0\n",
    "    for i in range(b):\n",
    "        result = result + a\n",
    "    print(result)"
   ]
  },
  {
   "cell_type": "code",
   "execution_count": 2,
   "id": "e899ea43",
   "metadata": {},
   "outputs": [
    {
     "name": "stdout",
     "output_type": "stream",
     "text": [
      "6\n"
     ]
    }
   ],
   "source": [
    "mul(2,3)"
   ]
  },
  {
   "cell_type": "code",
   "execution_count": 3,
   "id": "056c6530",
   "metadata": {},
   "outputs": [
    {
     "name": "stdout",
     "output_type": "stream",
     "text": [
      "6\n"
     ]
    }
   ],
   "source": [
    "mul(3,2)"
   ]
  },
  {
   "cell_type": "code",
   "execution_count": 4,
   "id": "69b58e4a",
   "metadata": {},
   "outputs": [],
   "source": [
    "# using recursion"
   ]
  },
  {
   "cell_type": "code",
   "execution_count": 6,
   "id": "c46a97eb",
   "metadata": {},
   "outputs": [],
   "source": [
    "def mul_rec(a,b):\n",
    "    if b == 1:\n",
    "        return a\n",
    "    else:\n",
    "        return a + mul_rec(a,b-1)\n"
   ]
  },
  {
   "cell_type": "code",
   "execution_count": 7,
   "id": "2c268c82",
   "metadata": {},
   "outputs": [
    {
     "name": "stdout",
     "output_type": "stream",
     "text": [
      "24\n"
     ]
    }
   ],
   "source": [
    "print(mul_rec(4,6))"
   ]
  },
  {
   "cell_type": "code",
   "execution_count": 8,
   "id": "094e718a",
   "metadata": {},
   "outputs": [
    {
     "name": "stdout",
     "output_type": "stream",
     "text": [
      "4\n"
     ]
    }
   ],
   "source": [
    "print(mul_rec(4,1))"
   ]
  },
  {
   "cell_type": "code",
   "execution_count": 9,
   "id": "05a15d74",
   "metadata": {},
   "outputs": [
    {
     "name": "stdout",
     "output_type": "stream",
     "text": [
      "12\n"
     ]
    }
   ],
   "source": [
    "print(mul_rec(4,3))"
   ]
  },
  {
   "cell_type": "code",
   "execution_count": 10,
   "id": "858463ba",
   "metadata": {},
   "outputs": [],
   "source": [
    "# factorial of given number"
   ]
  },
  {
   "cell_type": "code",
   "execution_count": 11,
   "id": "9f4b4894",
   "metadata": {},
   "outputs": [
    {
     "name": "stdout",
     "output_type": "stream",
     "text": [
      "120\n"
     ]
    }
   ],
   "source": [
    "def fact(a):\n",
    "    if a ==1 :\n",
    "        return 1\n",
    "    else:\n",
    "        return a * fact(a-1)\n",
    "\n",
    "print(fact(5))"
   ]
  },
  {
   "cell_type": "code",
   "execution_count": 12,
   "id": "e60f43f7",
   "metadata": {},
   "outputs": [],
   "source": [
    "# palindrome of given String"
   ]
  },
  {
   "cell_type": "code",
   "execution_count": 18,
   "id": "e5c394f5",
   "metadata": {},
   "outputs": [
    {
     "name": "stdout",
     "output_type": "stream",
     "text": [
      "palindrome\n"
     ]
    }
   ],
   "source": [
    "def palindrome(a):\n",
    "    if len(a) <= 1:\n",
    "        print('palindrome')\n",
    "    else:\n",
    "        if a[0]==a[-1]:\n",
    "            palindrome(a[1:-1])\n",
    "        else:\n",
    "            print('Not palindrome')\n",
    "\n",
    "palindrome('121')\n",
    "        "
   ]
  },
  {
   "cell_type": "code",
   "execution_count": 19,
   "id": "e39062d5",
   "metadata": {},
   "outputs": [
    {
     "name": "stdout",
     "output_type": "stream",
     "text": [
      "palindrome\n"
     ]
    }
   ],
   "source": [
    "palindrome('madam')"
   ]
  },
  {
   "cell_type": "code",
   "execution_count": 20,
   "id": "718f4f29",
   "metadata": {},
   "outputs": [
    {
     "name": "stdout",
     "output_type": "stream",
     "text": [
      "Not palindrome\n"
     ]
    }
   ],
   "source": [
    "palindrome('Pune')"
   ]
  },
  {
   "cell_type": "code",
   "execution_count": 21,
   "id": "3d89909a",
   "metadata": {},
   "outputs": [
    {
     "name": "stdout",
     "output_type": "stream",
     "text": [
      "palindrome\n"
     ]
    }
   ],
   "source": [
    "palindrome('abba')"
   ]
  },
  {
   "cell_type": "code",
   "execution_count": 23,
   "id": "6149fc3c",
   "metadata": {},
   "outputs": [],
   "source": [
    "# The rabbit problem\n",
    "# if 2 newborn rabbits are put in pen, \n",
    "# how many rabbits will be in pen after 1 year?\n",
    "# -----------------\n",
    "# Assume rabbits always produce 1 male and 1 female offspring\n",
    "# ...can reproduce in once every month\n",
    "# ...can reproduce once they are 1 month old\n",
    "# ... naver die\n",
    "\n",
    "# this is fibonacci series problem"
   ]
  },
  {
   "cell_type": "code",
   "execution_count": 24,
   "id": "c19e5c1e",
   "metadata": {},
   "outputs": [
    {
     "name": "stdout",
     "output_type": "stream",
     "text": [
      "8\n"
     ]
    }
   ],
   "source": [
    "def fibonacii(m):\n",
    "    if m ==0  or m ==1:\n",
    "        return 1\n",
    "    else:\n",
    "        return fibonacii(m-1) + fibonacii(m-2)\n",
    "\n",
    "print(fibonacii(5))"
   ]
  },
  {
   "cell_type": "code",
   "execution_count": 25,
   "id": "e725f4d4",
   "metadata": {},
   "outputs": [
    {
     "name": "stdout",
     "output_type": "stream",
     "text": [
      "233\n"
     ]
    }
   ],
   "source": [
    "print(fibonacii(12))"
   ]
  },
  {
   "cell_type": "code",
   "execution_count": 27,
   "id": "4f947117",
   "metadata": {},
   "outputs": [
    {
     "name": "stdout",
     "output_type": "stream",
     "text": [
      "75025\n"
     ]
    }
   ],
   "source": [
    "print(fibonacii(24))"
   ]
  },
  {
   "cell_type": "code",
   "execution_count": 28,
   "id": "2e2795ba",
   "metadata": {},
   "outputs": [
    {
     "name": "stdout",
     "output_type": "stream",
     "text": [
      "24157817\n"
     ]
    }
   ],
   "source": [
    "print(fibonacii(36))"
   ]
  },
  {
   "cell_type": "code",
   "execution_count": 42,
   "id": "84ee37d8",
   "metadata": {},
   "outputs": [
    {
     "name": "stdout",
     "output_type": "stream",
     "text": [
      "63245986\n",
      "10.595065593719482\n"
     ]
    }
   ],
   "source": [
    "import time\n",
    "def fibonacii(m):\n",
    "    if m ==0  or m ==1:\n",
    "        return 1\n",
    "    else:\n",
    "        return fibonacii(m-1) + fibonacii(m-2)\n",
    "\n",
    "start = time.time()\n",
    "print(fibonacii(38))\n",
    "print(time.time()-start)"
   ]
  },
  {
   "cell_type": "code",
   "execution_count": 38,
   "id": "c9c50fb2",
   "metadata": {},
   "outputs": [],
   "source": [
    "# using dynamic programming"
   ]
  },
  {
   "cell_type": "code",
   "execution_count": 47,
   "id": "3629efcb",
   "metadata": {},
   "outputs": [
    {
     "name": "stdout",
     "output_type": "stream",
     "text": [
      "7778742049\n",
      "0.0\n",
      "{0: 1, 1: 1, 2: 2, 3: 3, 4: 5, 5: 8, 6: 13, 7: 21, 8: 34, 9: 55, 10: 89, 11: 144, 12: 233, 13: 377, 14: 610, 15: 987, 16: 1597, 17: 2584, 18: 4181, 19: 6765, 20: 10946, 21: 17711, 22: 28657, 23: 46368, 24: 75025, 25: 121393, 26: 196418, 27: 317811, 28: 514229, 29: 832040, 30: 1346269, 31: 2178309, 32: 3524578, 33: 5702887, 34: 9227465, 35: 14930352, 36: 24157817, 37: 39088169, 38: 63245986, 39: 102334155, 40: 165580141, 41: 267914296, 42: 433494437, 43: 701408733, 44: 1134903170, 45: 1836311903, 46: 2971215073, 47: 4807526976, 48: 7778742049}\n"
     ]
    }
   ],
   "source": [
    "import time\n",
    "def dp_fibo(m,d):\n",
    "    \n",
    "    if m in d:\n",
    "        return d[m]\n",
    "    else:\n",
    "        d[m] = dp_fibo(m-1,d) + dp_fibo(m-2,d)\n",
    "        return d[m]\n",
    "\n",
    "\n",
    "start = time.time()\n",
    "d = {0:1,1:1}\n",
    "print(dp_fibo(48,d))\n",
    "print(time.time()-start)\n",
    "print(d)"
   ]
  },
  {
   "cell_type": "code",
   "execution_count": 48,
   "id": "740bebdb",
   "metadata": {},
   "outputs": [],
   "source": [
    "#using recursion"
   ]
  },
  {
   "cell_type": "code",
   "execution_count": 49,
   "id": "b568d8c4",
   "metadata": {},
   "outputs": [],
   "source": [
    "# [1,2] = [[],[1],[2],[1,2]]\n",
    "\n",
    "#          [1,2]\n",
    "#       []      [1]\n",
    "#     [] [2] [1]  [1,2]\n"
   ]
  },
  {
   "cell_type": "code",
   "execution_count": 10,
   "id": "b4b8d11a",
   "metadata": {},
   "outputs": [
    {
     "name": "stdout",
     "output_type": "stream",
     "text": [
      "2\n"
     ]
    },
    {
     "ename": "TypeError",
     "evalue": "object of type 'int' has no len()",
     "output_type": "error",
     "traceback": [
      "\u001b[1;31m---------------------------------------------------------------------------\u001b[0m",
      "\u001b[1;31mTypeError\u001b[0m                                 Traceback (most recent call last)",
      "Input \u001b[1;32mIn [10]\u001b[0m, in \u001b[0;36m<cell line: 14>\u001b[1;34m()\u001b[0m\n\u001b[0;32m     12\u001b[0m result \u001b[38;5;241m=\u001b[39m \u001b[38;5;28mlist\u001b[39m()\n\u001b[0;32m     13\u001b[0m L \u001b[38;5;241m=\u001b[39m [\u001b[38;5;241m1\u001b[39m,\u001b[38;5;241m2\u001b[39m]\n\u001b[1;32m---> 14\u001b[0m \u001b[43mpow_sets\u001b[49m\u001b[43m(\u001b[49m\u001b[43mL\u001b[49m\u001b[43m,\u001b[49m\u001b[43mresult\u001b[49m\u001b[43m)\u001b[49m\n\u001b[0;32m     15\u001b[0m \u001b[38;5;28mprint\u001b[39m(result)\n",
      "Input \u001b[1;32mIn [10]\u001b[0m, in \u001b[0;36mpow_sets\u001b[1;34m(L, result)\u001b[0m\n\u001b[0;32m      6\u001b[0m         result\u001b[38;5;241m.\u001b[39mappend(L[i])\n\u001b[0;32m      7\u001b[0m         \u001b[38;5;28mprint\u001b[39m(L[i\u001b[38;5;241m-\u001b[39m\u001b[38;5;241m1\u001b[39m])\n\u001b[1;32m----> 8\u001b[0m         \u001b[43mpow_sets\u001b[49m\u001b[43m(\u001b[49m\u001b[43mL\u001b[49m\u001b[43m[\u001b[49m\u001b[43mi\u001b[49m\u001b[38;5;241;43m-\u001b[39;49m\u001b[38;5;241;43m1\u001b[39;49m\u001b[43m]\u001b[49m\u001b[43m,\u001b[49m\u001b[43m \u001b[49m\u001b[43mresult\u001b[49m\u001b[43m)\u001b[49m\n\u001b[0;32m      9\u001b[0m \u001b[38;5;28;01mreturn\u001b[39;00m result\n",
      "Input \u001b[1;32mIn [10]\u001b[0m, in \u001b[0;36mpow_sets\u001b[1;34m(L, result)\u001b[0m\n\u001b[0;32m      1\u001b[0m \u001b[38;5;28;01mdef\u001b[39;00m \u001b[38;5;21mpow_sets\u001b[39m(L,result):\n\u001b[1;32m----> 2\u001b[0m     \u001b[38;5;28;01mif\u001b[39;00m \u001b[38;5;28;43mlen\u001b[39;49m\u001b[43m(\u001b[49m\u001b[43mL\u001b[49m\u001b[43m)\u001b[49m\u001b[38;5;241m==\u001b[39m\u001b[38;5;241m0\u001b[39m:\n\u001b[0;32m      3\u001b[0m         result\u001b[38;5;241m.\u001b[39mappend([])\n\u001b[0;32m      4\u001b[0m     \u001b[38;5;28;01melse\u001b[39;00m:\n",
      "\u001b[1;31mTypeError\u001b[0m: object of type 'int' has no len()"
     ]
    }
   ],
   "source": [
    "def pow_sets(L,result):\n",
    "    if len(L)==0:\n",
    "        result.append([])\n",
    "    else:\n",
    "        for i in range(len(L)-1):\n",
    "            result.append(L[i])\n",
    "            print(L[i-1])\n",
    "            pow_sets(L[i-1], result)\n",
    "    return result\n",
    "\n",
    "result = list()\n",
    "L = [1,2]\n",
    "pow_sets(L,result)\n",
    "print(result)    \n",
    "    "
   ]
  },
  {
   "cell_type": "code",
   "execution_count": null,
   "id": "2c68476c",
   "metadata": {},
   "outputs": [],
   "source": []
  }
 ],
 "metadata": {
  "kernelspec": {
   "display_name": "Python 3 (ipykernel)",
   "language": "python",
   "name": "python3"
  },
  "language_info": {
   "codemirror_mode": {
    "name": "ipython",
    "version": 3
   },
   "file_extension": ".py",
   "mimetype": "text/x-python",
   "name": "python",
   "nbconvert_exporter": "python",
   "pygments_lexer": "ipython3",
   "version": "3.9.12"
  }
 },
 "nbformat": 4,
 "nbformat_minor": 5
}
