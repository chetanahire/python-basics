{
 "cells": [
  {
   "cell_type": "code",
   "execution_count": 12,
   "id": "f6fe304c",
   "metadata": {},
   "outputs": [
    {
     "name": "stdout",
     "output_type": "stream",
     "text": [
      "Enter the email:w\n",
      "Enter the passwordw\n",
      "incorrect email\n"
     ]
    }
   ],
   "source": [
    "email = input('Enter the email:')\n",
    "pwd = input('Enter the password')\n",
    "\n",
    "if '@' in email:\n",
    "    if email=='chetan@gmail.com' and pwd == '1234':\n",
    "        print('welcome')\n",
    "    elif email=='chetan@gmail.com' and pwd != '1234':\n",
    "        print('incorrect password')\n",
    "        pwd = input('Enter password again')\n",
    "        if pwd == '1234':\n",
    "            print('finally correct')\n",
    "        else:\n",
    "            print('still incorrect password')\n",
    "    else:\n",
    "        print('invalid credentials')\n",
    "else:\n",
    "    print('incorrect email')"
   ]
  },
  {
   "cell_type": "markdown",
   "id": "a7645dd7",
   "metadata": {},
   "source": [
    "while loop"
   ]
  },
  {
   "cell_type": "code",
   "execution_count": 11,
   "id": "ad5646f9",
   "metadata": {},
   "outputs": [
    {
     "name": "stdout",
     "output_type": "stream",
     "text": [
      "Enter the number4\n",
      "4 * 1 = 4\n",
      "4 * 2 = 8\n",
      "4 * 3 = 12\n",
      "4 * 4 = 16\n",
      "4 * 5 = 20\n",
      "4 * 6 = 24\n",
      "4 * 7 = 28\n",
      "4 * 8 = 32\n",
      "4 * 9 = 36\n",
      "4 * 10 = 40\n",
      "execution completed\n"
     ]
    }
   ],
   "source": [
    "number = int(input('Enter the number'))\n",
    "\n",
    "i = 1\n",
    "\n",
    "while i<11:\n",
    "    print(number,\"*\",i,\"=\",number*i)\n",
    "    i+=1\n",
    "print('execution completed')"
   ]
  },
  {
   "cell_type": "markdown",
   "id": "45cabc75",
   "metadata": {},
   "source": [
    "guessing game"
   ]
  },
  {
   "cell_type": "code",
   "execution_count": 15,
   "id": "3f5e16d1",
   "metadata": {},
   "outputs": [],
   "source": [
    "import random"
   ]
  },
  {
   "cell_type": "code",
   "execution_count": 20,
   "id": "d4b69b5a",
   "metadata": {},
   "outputs": [
    {
     "name": "stdout",
     "output_type": "stream",
     "text": [
      "guess correct number50\n",
      "guess heigher number\n",
      "guess correct number70\n",
      "guess lower number\n",
      "guess correct number60\n",
      "guess heigher number\n",
      "guess correct number65\n",
      "guess heigher number\n",
      "guess correct number68\n",
      "guess lower number\n",
      "guess correct number67\n",
      "guess lower number\n",
      "guess correct number66\n",
      "you guess correct number in 7 attempts\n"
     ]
    }
   ],
   "source": [
    "number = random.randint(1,100)\n",
    "\n",
    "guess = int(input('guess correct number'))\n",
    "counter  = 1\n",
    "while guess != number:\n",
    "    if guess < number:\n",
    "        print('guess heigher number')\n",
    "    else:\n",
    "        print('guess lower number')\n",
    "    guess = int(input('guess correct number'))\n",
    "    counter+=1\n",
    "print(F'you guess correct number in {counter} attempts')"
   ]
  },
  {
   "cell_type": "code",
   "execution_count": null,
   "id": "5664a5ca",
   "metadata": {},
   "outputs": [],
   "source": [
    "# *\n",
    "# * *\n",
    "# * * *\n",
    "# * * * *\n",
    "# * * * * *"
   ]
  },
  {
   "cell_type": "code",
   "execution_count": 22,
   "id": "7f588d7f",
   "metadata": {},
   "outputs": [
    {
     "name": "stdout",
     "output_type": "stream",
     "text": [
      "Enter number of rows5\n",
      "* \n",
      "* * \n",
      "* * * \n",
      "* * * * \n",
      "* * * * * \n"
     ]
    }
   ],
   "source": [
    "rows = int(input('Enter number of rows'))\n",
    "\n",
    "for i in range(1, rows+1):\n",
    "    for j in range(0,i):\n",
    "        print(\"*\", end=\" \")\n",
    "    print(\"\")"
   ]
  },
  {
   "cell_type": "code",
   "execution_count": null,
   "id": "eab7c3ea",
   "metadata": {},
   "outputs": [],
   "source": []
  },
  {
   "cell_type": "code",
   "execution_count": null,
   "id": "b4e16ec0",
   "metadata": {},
   "outputs": [],
   "source": []
  },
  {
   "cell_type": "code",
   "execution_count": null,
   "id": "028eacbf",
   "metadata": {},
   "outputs": [],
   "source": []
  }
 ],
 "metadata": {
  "kernelspec": {
   "display_name": "Python 3 (ipykernel)",
   "language": "python",
   "name": "python3"
  },
  "language_info": {
   "codemirror_mode": {
    "name": "ipython",
    "version": 3
   },
   "file_extension": ".py",
   "mimetype": "text/x-python",
   "name": "python",
   "nbconvert_exporter": "python",
   "pygments_lexer": "ipython3",
   "version": "3.9.12"
  }
 },
 "nbformat": 4,
 "nbformat_minor": 5
}
