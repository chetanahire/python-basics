{
 "cells": [
  {
   "cell_type": "markdown",
   "id": "a7e24b20",
   "metadata": {},
   "source": [
    "- aggregation"
   ]
  },
  {
   "cell_type": "code",
   "execution_count": 10,
   "id": "ec422bcb",
   "metadata": {},
   "outputs": [],
   "source": [
    "class Customer:\n",
    "    \n",
    "    def __init__(self, name, gender, add):\n",
    "        self.name = name\n",
    "        self.gender = gender\n",
    "        self.add = add\n",
    "    def edit_profile(self, new_name, new_city, new_pin, new_add):\n",
    "        self.name = new_name\n",
    "        self.add.change_add(new_city, new_pin, new_add)\n",
    "    \n",
    "class Address:\n",
    "    \n",
    "    def __init__(self, city, pin, state):\n",
    "        self.city = city\n",
    "        self.pin = pin\n",
    "        self.state = state\n",
    "    \n",
    "    def change_add(self, new_city, new_pin, new_state):\n",
    "        self.city = new_city\n",
    "        self.pin = new_pin\n",
    "        self.state = new_state\n",
    "        \n",
    "        \n",
    "        \n",
    "add = Address('Pune','411028','MH')\n",
    "cust = Customer('chetan','male',add)"
   ]
  },
  {
   "cell_type": "code",
   "execution_count": 11,
   "id": "678848a5",
   "metadata": {},
   "outputs": [
    {
     "name": "stdout",
     "output_type": "stream",
     "text": [
      "Pune\n",
      "411028\n",
      "MH\n"
     ]
    }
   ],
   "source": [
    "print(cust.add.city)\n",
    "print(cust.add.pin)\n",
    "print(cust.add.state)"
   ]
  },
  {
   "cell_type": "markdown",
   "id": "4507ac89",
   "metadata": {},
   "source": [
    "- inheritance"
   ]
  },
  {
   "cell_type": "code",
   "execution_count": 13,
   "id": "8933c65d",
   "metadata": {},
   "outputs": [],
   "source": [
    "class User:\n",
    "    \n",
    "    def login(self):\n",
    "        print('login')\n",
    "    \n",
    "    def register(self):\n",
    "        print('register')\n",
    "        \n",
    "class Student(User):\n",
    "    \n",
    "    def enroll(self):\n",
    "        print('enroll')\n",
    "    \n",
    "    def review(self):\n",
    "        print('review')"
   ]
  },
  {
   "cell_type": "code",
   "execution_count": 14,
   "id": "6b0e249b",
   "metadata": {},
   "outputs": [],
   "source": [
    "s = Student()"
   ]
  },
  {
   "cell_type": "code",
   "execution_count": 15,
   "id": "1bc9b4c2",
   "metadata": {},
   "outputs": [
    {
     "name": "stdout",
     "output_type": "stream",
     "text": [
      "enroll\n",
      "login\n",
      "register\n",
      "review\n"
     ]
    }
   ],
   "source": [
    "s.enroll()\n",
    "s.login()\n",
    "s.register()\n",
    "s.review()"
   ]
  },
  {
   "cell_type": "code",
   "execution_count": 16,
   "id": "ee269ce1",
   "metadata": {},
   "outputs": [],
   "source": [
    "u = User()"
   ]
  },
  {
   "cell_type": "code",
   "execution_count": 17,
   "id": "d96755e7",
   "metadata": {},
   "outputs": [
    {
     "name": "stdout",
     "output_type": "stream",
     "text": [
      "login\n",
      "register\n"
     ]
    }
   ],
   "source": [
    "u.login()\n",
    "u.register()"
   ]
  },
  {
   "cell_type": "code",
   "execution_count": 18,
   "id": "52494df8",
   "metadata": {},
   "outputs": [
    {
     "ename": "AttributeError",
     "evalue": "'User' object has no attribute 'enroll'",
     "output_type": "error",
     "traceback": [
      "\u001b[1;31m---------------------------------------------------------------------------\u001b[0m",
      "\u001b[1;31mAttributeError\u001b[0m                            Traceback (most recent call last)",
      "Input \u001b[1;32mIn [18]\u001b[0m, in \u001b[0;36m<cell line: 1>\u001b[1;34m()\u001b[0m\n\u001b[1;32m----> 1\u001b[0m \u001b[43mu\u001b[49m\u001b[38;5;241;43m.\u001b[39;49m\u001b[43menroll\u001b[49m()\n",
      "\u001b[1;31mAttributeError\u001b[0m: 'User' object has no attribute 'enroll'"
     ]
    }
   ],
   "source": [
    "u.enroll()"
   ]
  },
  {
   "cell_type": "code",
   "execution_count": 31,
   "id": "2042bb1a",
   "metadata": {},
   "outputs": [
    {
     "name": "stdout",
     "output_type": "stream",
     "text": [
      "inside phone constructor\n",
      "2442779050816\n"
     ]
    }
   ],
   "source": [
    "class Phone:\n",
    "    \n",
    "    def __init__(self, price, brand, camera):\n",
    "        print('inside phone constructor')\n",
    "        print(id(self))\n",
    "        self.price = price\n",
    "        self.__brand = brand\n",
    "        self.camera = camera\n",
    "    \n",
    "class SmartPhone(Phone):\n",
    "    pass\n",
    "\n",
    "s = SmartPhone(1222,'Apple',13)"
   ]
  },
  {
   "cell_type": "code",
   "execution_count": 32,
   "id": "90b27f7b",
   "metadata": {},
   "outputs": [
    {
     "data": {
      "text/plain": [
       "2442779050816"
      ]
     },
     "execution_count": 32,
     "metadata": {},
     "output_type": "execute_result"
    }
   ],
   "source": [
    "id(s)"
   ]
  },
  {
   "cell_type": "code",
   "execution_count": 33,
   "id": "6a671c67",
   "metadata": {},
   "outputs": [
    {
     "ename": "AttributeError",
     "evalue": "'SmartPhone' object has no attribute '__brand'",
     "output_type": "error",
     "traceback": [
      "\u001b[1;31m---------------------------------------------------------------------------\u001b[0m",
      "\u001b[1;31mAttributeError\u001b[0m                            Traceback (most recent call last)",
      "Input \u001b[1;32mIn [33]\u001b[0m, in \u001b[0;36m<cell line: 1>\u001b[1;34m()\u001b[0m\n\u001b[1;32m----> 1\u001b[0m \u001b[38;5;28mprint\u001b[39m(\u001b[43ms\u001b[49m\u001b[38;5;241;43m.\u001b[39;49m\u001b[43m__brand\u001b[49m)\n",
      "\u001b[1;31mAttributeError\u001b[0m: 'SmartPhone' object has no attribute '__brand'"
     ]
    }
   ],
   "source": [
    "print(s.__brand)"
   ]
  },
  {
   "cell_type": "code",
   "execution_count": 34,
   "id": "60bbf41d",
   "metadata": {},
   "outputs": [
    {
     "name": "stdout",
     "output_type": "stream",
     "text": [
      "1222\n"
     ]
    }
   ],
   "source": [
    "print(s.price)"
   ]
  },
  {
   "cell_type": "code",
   "execution_count": 43,
   "id": "0ca42ee3",
   "metadata": {},
   "outputs": [
    {
     "name": "stdout",
     "output_type": "stream",
     "text": [
      "from child\n"
     ]
    }
   ],
   "source": [
    "# single level inheritance\n",
    "\n",
    "class Parent:\n",
    "    \n",
    "    def __init__(self, num):\n",
    "        print('from father')\n",
    "        self.__num = num\n",
    "        \n",
    "    def get_num(self):\n",
    "        return self.__num\n",
    "\n",
    "class Child(Parent):\n",
    "    \n",
    "    def __init__(self, val, num):\n",
    "        print('from child')\n",
    "        self.__val = num\n",
    "        \n",
    "    def get_val(self):\n",
    "        return self.__val\n",
    "\n",
    "    \n",
    "c = Child(100,1)\n",
    "# print('Parent: Num', c.get_num())"
   ]
  },
  {
   "cell_type": "code",
   "execution_count": 54,
   "id": "760c0c3c",
   "metadata": {},
   "outputs": [
    {
     "name": "stdout",
     "output_type": "stream",
     "text": [
      "Child\n",
      "Parent\n"
     ]
    }
   ],
   "source": [
    "# multi level inheritance\n",
    "class GrandParent:\n",
    "    def __init__(self):\n",
    "        print('GrandParent')\n",
    "        \n",
    "    def greet(self):\n",
    "        print('hello')\n",
    "\n",
    "class Parent(GrandParent):\n",
    "    \n",
    "    def __init__(self):\n",
    "        print('Parent')\n",
    "    \n",
    "    def say_hi(self):\n",
    "        print('Hi')\n",
    "        \n",
    "class Child(Parent):\n",
    "    \n",
    "    def __init__(self):\n",
    "        print('Child')\n",
    "    \n",
    "c = Child()\n",
    "p = Parent()"
   ]
  },
  {
   "cell_type": "code",
   "execution_count": 55,
   "id": "4f1d0a38",
   "metadata": {},
   "outputs": [
    {
     "name": "stdout",
     "output_type": "stream",
     "text": [
      "hello\n"
     ]
    }
   ],
   "source": [
    "c.greet()"
   ]
  },
  {
   "cell_type": "code",
   "execution_count": 58,
   "id": "14554146",
   "metadata": {},
   "outputs": [
    {
     "name": "stdout",
     "output_type": "stream",
     "text": [
      "hello\n"
     ]
    }
   ],
   "source": [
    "p.greet()"
   ]
  },
  {
   "cell_type": "code",
   "execution_count": 59,
   "id": "730d60b4",
   "metadata": {},
   "outputs": [
    {
     "name": "stdout",
     "output_type": "stream",
     "text": [
      "Hi\n"
     ]
    }
   ],
   "source": [
    "c.say_hi()"
   ]
  },
  {
   "cell_type": "code",
   "execution_count": 60,
   "id": "a22a0d43",
   "metadata": {},
   "outputs": [
    {
     "name": "stdout",
     "output_type": "stream",
     "text": [
      "Hi\n"
     ]
    }
   ],
   "source": [
    "p.say_hi()"
   ]
  },
  {
   "cell_type": "code",
   "execution_count": 51,
   "id": "465ea76d",
   "metadata": {},
   "outputs": [
    {
     "name": "stdout",
     "output_type": "stream",
     "text": [
      "Child\n",
      "Parent\n"
     ]
    }
   ],
   "source": [
    "# hirarical inheritance\n",
    "class GrandParent:\n",
    "    def __init__(self):\n",
    "        print('GrandParent')\n",
    "        \n",
    "    def greet(self):\n",
    "        print('hello')\n",
    "\n",
    "class Parent(GrandParent):\n",
    "    \n",
    "    def __init__(self):\n",
    "        print('Parent')\n",
    "        \n",
    "class Child(GrandParent):\n",
    "    \n",
    "    def __init__(self):\n",
    "        print('Child')\n",
    "    \n",
    "c = Child()\n",
    "p = Parent()"
   ]
  },
  {
   "cell_type": "code",
   "execution_count": 52,
   "id": "69698d25",
   "metadata": {},
   "outputs": [
    {
     "name": "stdout",
     "output_type": "stream",
     "text": [
      "hello\n"
     ]
    }
   ],
   "source": [
    "c.greet()"
   ]
  },
  {
   "cell_type": "code",
   "execution_count": 53,
   "id": "26e15fdd",
   "metadata": {},
   "outputs": [
    {
     "name": "stdout",
     "output_type": "stream",
     "text": [
      "hello\n"
     ]
    }
   ],
   "source": [
    "p.greet()"
   ]
  },
  {
   "cell_type": "code",
   "execution_count": 66,
   "id": "aaec87eb",
   "metadata": {},
   "outputs": [
    {
     "name": "stdout",
     "output_type": "stream",
     "text": [
      "Child\n",
      "Parent\n"
     ]
    }
   ],
   "source": [
    "# multiple inheritance\n",
    "class GrandParent:\n",
    "    def __init__(self):\n",
    "        print('GrandParent')\n",
    "        \n",
    "    def greet(self):\n",
    "        print('hello from GrandParent')\n",
    "\n",
    "class Parent:\n",
    "    \n",
    "    def __init__(self):\n",
    "        print('Parent')\n",
    "        \n",
    "    def greet(self):\n",
    "        print('Hi from parent')\n",
    "        \n",
    "class Child(Parent,GrandParent):\n",
    "    \n",
    "    def __init__(self):\n",
    "        print('Child')\n",
    "    \n",
    "c = Child()\n",
    "p = Parent()"
   ]
  },
  {
   "cell_type": "code",
   "execution_count": 67,
   "id": "98f62cc5",
   "metadata": {},
   "outputs": [
    {
     "name": "stdout",
     "output_type": "stream",
     "text": [
      "Hi from parent\n"
     ]
    }
   ],
   "source": [
    "c.greet()"
   ]
  },
  {
   "cell_type": "code",
   "execution_count": 69,
   "id": "967a7d14",
   "metadata": {},
   "outputs": [
    {
     "name": "stdout",
     "output_type": "stream",
     "text": [
      "Hi from parent\n"
     ]
    }
   ],
   "source": [
    "p.greet()"
   ]
  },
  {
   "cell_type": "code",
   "execution_count": 73,
   "id": "3569667e",
   "metadata": {},
   "outputs": [
    {
     "name": "stdout",
     "output_type": "stream",
     "text": [
      "Child\n",
      "Parent\n"
     ]
    }
   ],
   "source": [
    "# multiple inheritance\n",
    "class GrandParent:\n",
    "    def __init__(self):\n",
    "        print('GrandParent')\n",
    "        \n",
    "    def greet(self):\n",
    "        print('hello from GrandParent')\n",
    "\n",
    "class Parent:\n",
    "    \n",
    "    def __init__(self):\n",
    "        print('Parent')\n",
    "        \n",
    "    def greet(self):\n",
    "        print('Hi from parent')\n",
    "        \n",
    "class Child(GrandParent, Parent):  #MOR - member order rejervation\n",
    "    \n",
    "    def __init__(self):\n",
    "        print('Child')\n",
    "    \n",
    "c = Child()\n",
    "p = Parent()"
   ]
  },
  {
   "cell_type": "code",
   "execution_count": 74,
   "id": "a0474f15",
   "metadata": {},
   "outputs": [
    {
     "name": "stdout",
     "output_type": "stream",
     "text": [
      "hello from GrandParent\n"
     ]
    }
   ],
   "source": [
    "c.greet()"
   ]
  },
  {
   "cell_type": "code",
   "execution_count": 75,
   "id": "088ce782",
   "metadata": {},
   "outputs": [
    {
     "name": "stdout",
     "output_type": "stream",
     "text": [
      "Hi from parent\n"
     ]
    }
   ],
   "source": [
    "p.greet()"
   ]
  },
  {
   "cell_type": "markdown",
   "id": "0291d1b4",
   "metadata": {},
   "source": [
    "- polimorphisum"
   ]
  },
  {
   "cell_type": "code",
   "execution_count": 78,
   "id": "45bfbeac",
   "metadata": {},
   "outputs": [
    {
     "name": "stdout",
     "output_type": "stream",
     "text": [
      "Requirement already satisfied: requests in c:\\users\\cheta\\anaconda3\\lib\\site-packages (2.27.1)\n",
      "Requirement already satisfied: urllib3<1.27,>=1.21.1 in c:\\users\\cheta\\anaconda3\\lib\\site-packages (from requests) (1.26.9)\n",
      "Requirement already satisfied: charset-normalizer~=2.0.0 in c:\\users\\cheta\\anaconda3\\lib\\site-packages (from requests) (2.0.4)\n",
      "Requirement already satisfied: certifi>=2017.4.17 in c:\\users\\cheta\\anaconda3\\lib\\site-packages (from requests) (2021.10.8)\n",
      "Requirement already satisfied: idna<4,>=2.5 in c:\\users\\cheta\\anaconda3\\lib\\site-packages (from requests) (3.3)\n",
      "Note: you may need to restart the kernel to use updated packages.\n"
     ]
    }
   ],
   "source": [
    "pip install requests"
   ]
  },
  {
   "cell_type": "code",
   "execution_count": 79,
   "id": "83e2e2f3",
   "metadata": {},
   "outputs": [],
   "source": [
    "import requests\n",
    "\n",
    "class IRCTC:\n",
    "    def __init__(self):\n",
    "        user_input = input(\"\"\"\n",
    "        How would you like to proceed?\n",
    "        1. Enter 1 to check Train status\n",
    "        2. Enter 2 to check PNR\n",
    "        3. Enter 3 to check Tain Schedule\n",
    "        \"\"\")\n",
    "        \n",
    "        if user_input == \"1\":\n",
    "            print(\"Live train status\")\n",
    "        elif user_input == '2':\n",
    "            print(\"PNR\")\n",
    "        else:\n",
    "            self.train_schedule()\n",
    "    \n",
    "    def train_schedule(self):\n",
    "        train_no = input('Enter the train number')\n",
    "        self.fetch_data(train_no)\n",
    "    \n",
    "    def fetch_data(self,train_no):\n",
    "        data = equests.get(\"http://indianrailapi.com/api/v2/TrainInformation/apikey/<apikey>/TrainNumber/<TrainNumber>/\")\n",
    "        data = data.json()\n",
    "        print(data)\n",
    "        "
   ]
  },
  {
   "cell_type": "code",
   "execution_count": 80,
   "id": "580508fd",
   "metadata": {},
   "outputs": [
    {
     "name": "stdout",
     "output_type": "stream",
     "text": [
      "\n",
      "        How would you like to proceed?\n",
      "        1. Enter 1 to check Train status\n",
      "        2. Enter 2 to check PNR\n",
      "        3. Enter 3 to check Tain Schedule\n",
      "        3\n",
      "Enter the train number12222\n"
     ]
    },
    {
     "ename": "NameError",
     "evalue": "name 'equests' is not defined",
     "output_type": "error",
     "traceback": [
      "\u001b[1;31m---------------------------------------------------------------------------\u001b[0m",
      "\u001b[1;31mNameError\u001b[0m                                 Traceback (most recent call last)",
      "Input \u001b[1;32mIn [80]\u001b[0m, in \u001b[0;36m<cell line: 1>\u001b[1;34m()\u001b[0m\n\u001b[1;32m----> 1\u001b[0m i \u001b[38;5;241m=\u001b[39m \u001b[43mIRCTC\u001b[49m\u001b[43m(\u001b[49m\u001b[43m)\u001b[49m\n",
      "Input \u001b[1;32mIn [79]\u001b[0m, in \u001b[0;36mIRCTC.__init__\u001b[1;34m(self)\u001b[0m\n\u001b[0;32m     15\u001b[0m     \u001b[38;5;28mprint\u001b[39m(\u001b[38;5;124m\"\u001b[39m\u001b[38;5;124mPNR\u001b[39m\u001b[38;5;124m\"\u001b[39m)\n\u001b[0;32m     16\u001b[0m \u001b[38;5;28;01melse\u001b[39;00m:\n\u001b[1;32m---> 17\u001b[0m     \u001b[38;5;28;43mself\u001b[39;49m\u001b[38;5;241;43m.\u001b[39;49m\u001b[43mtrain_schedule\u001b[49m\u001b[43m(\u001b[49m\u001b[43m)\u001b[49m\n",
      "Input \u001b[1;32mIn [79]\u001b[0m, in \u001b[0;36mIRCTC.train_schedule\u001b[1;34m(self)\u001b[0m\n\u001b[0;32m     19\u001b[0m \u001b[38;5;28;01mdef\u001b[39;00m \u001b[38;5;21mtrain_schedule\u001b[39m(\u001b[38;5;28mself\u001b[39m):\n\u001b[0;32m     20\u001b[0m     train_no \u001b[38;5;241m=\u001b[39m \u001b[38;5;28minput\u001b[39m(\u001b[38;5;124m'\u001b[39m\u001b[38;5;124mEnter the train number\u001b[39m\u001b[38;5;124m'\u001b[39m)\n\u001b[1;32m---> 21\u001b[0m     \u001b[38;5;28;43mself\u001b[39;49m\u001b[38;5;241;43m.\u001b[39;49m\u001b[43mfetch_data\u001b[49m\u001b[43m(\u001b[49m\u001b[43mtrain_no\u001b[49m\u001b[43m)\u001b[49m\n",
      "Input \u001b[1;32mIn [79]\u001b[0m, in \u001b[0;36mIRCTC.fetch_data\u001b[1;34m(self, train_no)\u001b[0m\n\u001b[0;32m     23\u001b[0m \u001b[38;5;28;01mdef\u001b[39;00m \u001b[38;5;21mfetch_data\u001b[39m(\u001b[38;5;28mself\u001b[39m,train_no):\n\u001b[1;32m---> 24\u001b[0m     data \u001b[38;5;241m=\u001b[39m \u001b[43mequests\u001b[49m\u001b[38;5;241m.\u001b[39mget(\u001b[38;5;124m\"\u001b[39m\u001b[38;5;124m\"\u001b[39m)\n\u001b[0;32m     25\u001b[0m     data \u001b[38;5;241m=\u001b[39m data\u001b[38;5;241m.\u001b[39mjson()\n\u001b[0;32m     26\u001b[0m     \u001b[38;5;28mprint\u001b[39m(data)\n",
      "\u001b[1;31mNameError\u001b[0m: name 'equests' is not defined"
     ]
    }
   ],
   "source": [
    "i = IRCTC()  # TODO"
   ]
  },
  {
   "cell_type": "code",
   "execution_count": null,
   "id": "a02890a1",
   "metadata": {},
   "outputs": [],
   "source": []
  }
 ],
 "metadata": {
  "kernelspec": {
   "display_name": "Python 3 (ipykernel)",
   "language": "python",
   "name": "python3"
  },
  "language_info": {
   "codemirror_mode": {
    "name": "ipython",
    "version": 3
   },
   "file_extension": ".py",
   "mimetype": "text/x-python",
   "name": "python",
   "nbconvert_exporter": "python",
   "pygments_lexer": "ipython3",
   "version": "3.9.12"
  }
 },
 "nbformat": 4,
 "nbformat_minor": 5
}
