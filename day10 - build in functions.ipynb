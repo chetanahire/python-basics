{
 "cells": [
  {
   "cell_type": "markdown",
   "id": "01f3165f",
   "metadata": {},
   "source": [
    "Block of code which gives us some output based on input provided based on some logic"
   ]
  },
  {
   "cell_type": "markdown",
   "id": "2f19213f",
   "metadata": {},
   "source": [
    "# 1. print"
   ]
  },
  {
   "cell_type": "code",
   "execution_count": 1,
   "id": "0afa4814",
   "metadata": {},
   "outputs": [
    {
     "name": "stdout",
     "output_type": "stream",
     "text": [
      "hello\n"
     ]
    }
   ],
   "source": [
    "print('hello')"
   ]
  },
  {
   "cell_type": "markdown",
   "id": "01b84108",
   "metadata": {},
   "source": [
    "# 2. input"
   ]
  },
  {
   "cell_type": "code",
   "execution_count": 2,
   "id": "7bae4cd9",
   "metadata": {},
   "outputs": [
    {
     "name": "stdout",
     "output_type": "stream",
     "text": [
      "Enter your nameChetan\n"
     ]
    },
    {
     "data": {
      "text/plain": [
       "'Chetan'"
      ]
     },
     "execution_count": 2,
     "metadata": {},
     "output_type": "execute_result"
    }
   ],
   "source": [
    "input('Enter your name')   # always return string type result"
   ]
  },
  {
   "cell_type": "markdown",
   "id": "6d930fef",
   "metadata": {},
   "source": [
    "# 3. type"
   ]
  },
  {
   "cell_type": "code",
   "execution_count": 3,
   "id": "3a2bc949",
   "metadata": {},
   "outputs": [
    {
     "data": {
      "text/plain": [
       "int"
      ]
     },
     "execution_count": 3,
     "metadata": {},
     "output_type": "execute_result"
    }
   ],
   "source": [
    "a = 2\n",
    "type(a)"
   ]
  },
  {
   "cell_type": "markdown",
   "id": "a21f8f40",
   "metadata": {},
   "source": [
    "# 4. int etc."
   ]
  },
  {
   "cell_type": "code",
   "execution_count": 4,
   "id": "7689f9f4",
   "metadata": {},
   "outputs": [
    {
     "data": {
      "text/plain": [
       "4"
      ]
     },
     "execution_count": 4,
     "metadata": {},
     "output_type": "execute_result"
    }
   ],
   "source": [
    "int(4.6)\n",
    "#float\n",
    "#str\n",
    "# tuple\n",
    "# list"
   ]
  },
  {
   "cell_type": "markdown",
   "id": "a40a4e62",
   "metadata": {},
   "source": [
    "# 5. abs"
   ]
  },
  {
   "cell_type": "code",
   "execution_count": 7,
   "id": "5d792d99",
   "metadata": {},
   "outputs": [
    {
     "data": {
      "text/plain": [
       "4"
      ]
     },
     "execution_count": 7,
     "metadata": {},
     "output_type": "execute_result"
    }
   ],
   "source": [
    "abs(4)\n"
   ]
  },
  {
   "cell_type": "code",
   "execution_count": 6,
   "id": "24ea8958",
   "metadata": {},
   "outputs": [
    {
     "data": {
      "text/plain": [
       "5"
      ]
     },
     "execution_count": 6,
     "metadata": {},
     "output_type": "execute_result"
    }
   ],
   "source": [
    "abs(-5)"
   ]
  },
  {
   "cell_type": "markdown",
   "id": "a5b4297b",
   "metadata": {},
   "source": [
    "# 6. pow"
   ]
  },
  {
   "cell_type": "code",
   "execution_count": 11,
   "id": "ac275778",
   "metadata": {},
   "outputs": [
    {
     "data": {
      "text/plain": [
       "9"
      ]
     },
     "execution_count": 11,
     "metadata": {},
     "output_type": "execute_result"
    }
   ],
   "source": [
    "pow(3,2)"
   ]
  },
  {
   "cell_type": "markdown",
   "id": "d31af93c",
   "metadata": {},
   "source": [
    "# 7. min/max"
   ]
  },
  {
   "cell_type": "code",
   "execution_count": 12,
   "id": "8c2126b8",
   "metadata": {},
   "outputs": [
    {
     "data": {
      "text/plain": [
       "1"
      ]
     },
     "execution_count": 12,
     "metadata": {},
     "output_type": "execute_result"
    }
   ],
   "source": [
    "min([1,2,4,6,8,9])"
   ]
  },
  {
   "cell_type": "code",
   "execution_count": 13,
   "id": "d22ae97a",
   "metadata": {},
   "outputs": [
    {
     "data": {
      "text/plain": [
       "9"
      ]
     },
     "execution_count": 13,
     "metadata": {},
     "output_type": "execute_result"
    }
   ],
   "source": [
    "max([1,2,4,6,8,9])"
   ]
  },
  {
   "cell_type": "code",
   "execution_count": 14,
   "id": "25d06fe5",
   "metadata": {},
   "outputs": [
    {
     "data": {
      "text/plain": [
       "'a'"
      ]
     },
     "execution_count": 14,
     "metadata": {},
     "output_type": "execute_result"
    }
   ],
   "source": [
    "min('nashik')   # based on ascii value it returns min value"
   ]
  },
  {
   "cell_type": "code",
   "execution_count": 16,
   "id": "dca16097",
   "metadata": {},
   "outputs": [
    {
     "data": {
      "text/plain": [
       "'s'"
      ]
     },
     "execution_count": 16,
     "metadata": {},
     "output_type": "execute_result"
    }
   ],
   "source": [
    "max('nashik')  # based on ascii value it returns max value"
   ]
  },
  {
   "cell_type": "markdown",
   "id": "45302b16",
   "metadata": {},
   "source": [
    "# 8. round"
   ]
  },
  {
   "cell_type": "code",
   "execution_count": 20,
   "id": "1ed2abad",
   "metadata": {},
   "outputs": [
    {
     "name": "stdout",
     "output_type": "stream",
     "text": [
      "3.142857142857143\n"
     ]
    },
    {
     "data": {
      "text/plain": [
       "3.1429"
      ]
     },
     "execution_count": 20,
     "metadata": {},
     "output_type": "execute_result"
    }
   ],
   "source": [
    "c = 22/7\n",
    "print(c)\n",
    "round(c,4)"
   ]
  },
  {
   "cell_type": "markdown",
   "id": "a2907599",
   "metadata": {},
   "source": [
    "# 9. divmod"
   ]
  },
  {
   "cell_type": "code",
   "execution_count": 22,
   "id": "0bb04304",
   "metadata": {},
   "outputs": [
    {
     "data": {
      "text/plain": [
       "(2, 1)"
      ]
     },
     "execution_count": 22,
     "metadata": {},
     "output_type": "execute_result"
    }
   ],
   "source": [
    "divmod(5,2)   #Return the tuple (x//y, x%y)"
   ]
  },
  {
   "cell_type": "markdown",
   "id": "78e49d0c",
   "metadata": {},
   "source": [
    "# 10. bin/oct/hex"
   ]
  },
  {
   "cell_type": "code",
   "execution_count": 24,
   "id": "120533fc",
   "metadata": {},
   "outputs": [
    {
     "data": {
      "text/plain": [
       "'0b11001'"
      ]
     },
     "execution_count": 24,
     "metadata": {},
     "output_type": "execute_result"
    }
   ],
   "source": [
    "bin(25)"
   ]
  },
  {
   "cell_type": "code",
   "execution_count": 25,
   "id": "e0a7cb45",
   "metadata": {},
   "outputs": [
    {
     "data": {
      "text/plain": [
       "'0o31'"
      ]
     },
     "execution_count": 25,
     "metadata": {},
     "output_type": "execute_result"
    }
   ],
   "source": [
    "oct(25)"
   ]
  },
  {
   "cell_type": "code",
   "execution_count": 26,
   "id": "a9619011",
   "metadata": {},
   "outputs": [
    {
     "data": {
      "text/plain": [
       "'0x19'"
      ]
     },
     "execution_count": 26,
     "metadata": {},
     "output_type": "execute_result"
    }
   ],
   "source": [
    "hex(25)"
   ]
  },
  {
   "cell_type": "markdown",
   "id": "4fbf984e",
   "metadata": {},
   "source": [
    "# 11. id"
   ]
  },
  {
   "cell_type": "code",
   "execution_count": 27,
   "id": "ec87c3f2",
   "metadata": {},
   "outputs": [
    {
     "data": {
      "text/plain": [
       "1654110972784"
      ]
     },
     "execution_count": 27,
     "metadata": {},
     "output_type": "execute_result"
    }
   ],
   "source": [
    "a =19\n",
    "id(a)"
   ]
  },
  {
   "cell_type": "markdown",
   "id": "b3e9de14",
   "metadata": {},
   "source": [
    "# 12. ord"
   ]
  },
  {
   "cell_type": "code",
   "execution_count": 28,
   "id": "8aeb0e67",
   "metadata": {},
   "outputs": [
    {
     "data": {
      "text/plain": [
       "65"
      ]
     },
     "execution_count": 28,
     "metadata": {},
     "output_type": "execute_result"
    }
   ],
   "source": [
    "ord('A')  # returns ascii value"
   ]
  },
  {
   "cell_type": "markdown",
   "id": "8ccb814e",
   "metadata": {},
   "source": [
    "# 13. len"
   ]
  },
  {
   "cell_type": "code",
   "execution_count": 30,
   "id": "470ab9a0",
   "metadata": {},
   "outputs": [
    {
     "data": {
      "text/plain": [
       "6"
      ]
     },
     "execution_count": 30,
     "metadata": {},
     "output_type": "execute_result"
    }
   ],
   "source": [
    "len('chetan')"
   ]
  },
  {
   "cell_type": "code",
   "execution_count": 31,
   "id": "9ca12bd5",
   "metadata": {},
   "outputs": [
    {
     "data": {
      "text/plain": [
       "5"
      ]
     },
     "execution_count": 31,
     "metadata": {},
     "output_type": "execute_result"
    }
   ],
   "source": [
    "len([4,3,6,7,3])"
   ]
  },
  {
   "cell_type": "markdown",
   "id": "aa9fa877",
   "metadata": {},
   "source": [
    "# 14. sum"
   ]
  },
  {
   "cell_type": "code",
   "execution_count": 32,
   "id": "6a815821",
   "metadata": {},
   "outputs": [
    {
     "data": {
      "text/plain": [
       "21"
      ]
     },
     "execution_count": 32,
     "metadata": {},
     "output_type": "execute_result"
    }
   ],
   "source": [
    "sum({1,2,3,4,5,6})"
   ]
  },
  {
   "cell_type": "markdown",
   "id": "0220d9f8",
   "metadata": {},
   "source": [
    "# 15. help"
   ]
  },
  {
   "cell_type": "code",
   "execution_count": 35,
   "id": "6b23cf42",
   "metadata": {},
   "outputs": [
    {
     "name": "stdout",
     "output_type": "stream",
     "text": [
      "Help on built-in function print in module builtins:\n",
      "\n",
      "print(...)\n",
      "    print(value, ..., sep=' ', end='\\n', file=sys.stdout, flush=False)\n",
      "    \n",
      "    Prints the values to a stream, or to sys.stdout by default.\n",
      "    Optional keyword arguments:\n",
      "    file:  a file-like object (stream); defaults to the current sys.stdout.\n",
      "    sep:   string inserted between values, default a space.\n",
      "    end:   string appended after the last value, default a newline.\n",
      "    flush: whether to forcibly flush the stream.\n",
      "\n"
     ]
    }
   ],
   "source": [
    "help('print')"
   ]
  },
  {
   "cell_type": "code",
   "execution_count": null,
   "id": "f54c72a3",
   "metadata": {},
   "outputs": [],
   "source": []
  }
 ],
 "metadata": {
  "kernelspec": {
   "display_name": "Python 3 (ipykernel)",
   "language": "python",
   "name": "python3"
  },
  "language_info": {
   "codemirror_mode": {
    "name": "ipython",
    "version": 3
   },
   "file_extension": ".py",
   "mimetype": "text/x-python",
   "name": "python",
   "nbconvert_exporter": "python",
   "pygments_lexer": "ipython3",
   "version": "3.9.12"
  }
 },
 "nbformat": 4,
 "nbformat_minor": 5
}
